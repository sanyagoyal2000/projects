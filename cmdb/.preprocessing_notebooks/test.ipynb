{
 "cells": [
  {
   "cell_type": "code",
   "execution_count": 1,
   "metadata": {},
   "outputs": [],
   "source": [
    "import pandas as pd "
   ]
  },
  {
   "cell_type": "code",
   "execution_count": 2,
   "metadata": {},
   "outputs": [],
   "source": [
    "from tmdbv3api import TMDb\n",
    "import json\n",
    "import requests\n",
    "tmdb = TMDb()\n",
    "tmdb.api_key = 'e3dce8cf7d87efd38c89a43d9fe6d597'"
   ]
  },
  {
   "cell_type": "code",
   "execution_count": 3,
   "metadata": {},
   "outputs": [],
   "source": [
    "from tmdbv3api import Movie\n",
    "tmdb_movie = Movie()"
   ]
  },
  {
   "cell_type": "code",
   "execution_count": 4,
   "metadata": {},
   "outputs": [],
   "source": [
    "result = tmdb_movie.search(\"Destroyer\")"
   ]
  },
  {
   "cell_type": "code",
   "execution_count": 5,
   "metadata": {},
   "outputs": [],
   "source": [
    "response = requests.get('https://api.themoviedb.org/3/movie/{}?api_key={}'.format(result[0].id, tmdb.api_key))"
   ]
  },
  {
   "cell_type": "code",
   "execution_count": 6,
   "metadata": {},
   "outputs": [],
   "source": [
    "data = response.json()"
   ]
  },
  {
   "cell_type": "code",
   "execution_count": 13,
   "metadata": {},
   "outputs": [
    {
     "ename": "IndexError",
     "evalue": "list index out of range",
     "output_type": "error",
     "traceback": [
      "\u001b[0;31m---------------------------------------------------------------------------\u001b[0m",
      "\u001b[0;31mIndexError\u001b[0m                                Traceback (most recent call last)",
      "\u001b[0;32m<ipython-input-13-109b7091778c>\u001b[0m in \u001b[0;36m<module>\u001b[0;34m\u001b[0m\n\u001b[0;32m----> 1\u001b[0;31m \u001b[0mdata\u001b[0m\u001b[0;34m[\u001b[0m\u001b[0;34m'genres'\u001b[0m\u001b[0;34m]\u001b[0m\u001b[0;34m[\u001b[0m\u001b[0;36m5\u001b[0m\u001b[0;34m]\u001b[0m\u001b[0;34m\u001b[0m\u001b[0;34m\u001b[0m\u001b[0m\n\u001b[0m",
      "\u001b[0;31mIndexError\u001b[0m: list index out of range"
     ]
    }
   ],
   "source": [
    "data['genres'][5]"
   ]
  },
  {
   "cell_type": "code",
   "execution_count": 8,
   "metadata": {},
   "outputs": [
    {
     "data": {
      "text/plain": [
       "{'adult': False,\n",
       " 'backdrop_path': '/b9tR4BKmHRgYBLEr4UhlKQD4z29.jpg',\n",
       " 'belongs_to_collection': None,\n",
       " 'budget': 9000000,\n",
       " 'genres': [{'id': 53, 'name': 'Thriller'},\n",
       "  {'id': 80, 'name': 'Crime'},\n",
       "  {'id': 18, 'name': 'Drama'},\n",
       "  {'id': 28, 'name': 'Action'}],\n",
       " 'homepage': 'http://www.destroyer.movie',\n",
       " 'id': 471507,\n",
       " 'imdb_id': 'tt7137380',\n",
       " 'original_language': 'en',\n",
       " 'original_title': 'Destroyer',\n",
       " 'overview': 'Erin Bell is an LAPD detective who, as a young cop, was placed undercover with a gang in the California desert with tragic results. When the leader of that gang re-emerges many years later, she must work her way back through the remaining members and into her own history with them to finally reckon with the demons that destroyed her past.',\n",
       " 'popularity': 15.911,\n",
       " 'poster_path': '/sHw9gTdo43nJL82py0oaROkXXNr.jpg',\n",
       " 'production_companies': [{'id': 104363,\n",
       "   'logo_path': '/jnmqDxwCVAbKJkne5TDSkhj7mzo.png',\n",
       "   'name': '30WEST',\n",
       "   'origin_country': 'US'},\n",
       "  {'id': 7625,\n",
       "   'logo_path': '/kzq4ibnNeZrp00zpBWv3st1QCOh.png',\n",
       "   'name': 'Automatik Entertainment',\n",
       "   'origin_country': 'US'},\n",
       "  {'id': 52059,\n",
       "   'logo_path': None,\n",
       "   'name': 'Rocket Science Inc.',\n",
       "   'origin_country': ''}],\n",
       " 'production_countries': [{'iso_3166_1': 'US',\n",
       "   'name': 'United States of America'}],\n",
       " 'release_date': '2018-12-25',\n",
       " 'revenue': 0,\n",
       " 'runtime': 121,\n",
       " 'spoken_languages': [{'english_name': 'English',\n",
       "   'iso_639_1': 'en',\n",
       "   'name': 'English'}],\n",
       " 'status': 'Released',\n",
       " 'tagline': \"There's nothing to lose when you've already lost everything\",\n",
       " 'title': 'Destroyer',\n",
       " 'video': False,\n",
       " 'vote_average': 5.9,\n",
       " 'vote_count': 476}"
      ]
     },
     "execution_count": 8,
     "metadata": {},
     "output_type": "execute_result"
    }
   ],
   "source": [
    "data[]"
   ]
  },
  {
   "cell_type": "code",
   "execution_count": 9,
   "metadata": {},
   "outputs": [
    {
     "ename": "SyntaxError",
     "evalue": "invalid syntax (<ipython-input-9-78adca9e19fa>, line 1)",
     "output_type": "error",
     "traceback": [
      "\u001b[0;36m  File \u001b[0;32m\"<ipython-input-9-78adca9e19fa>\"\u001b[0;36m, line \u001b[0;32m1\u001b[0m\n\u001b[0;31m    data['genres']:\u001b[0m\n\u001b[0m                   ^\u001b[0m\n\u001b[0;31mSyntaxError\u001b[0m\u001b[0;31m:\u001b[0m invalid syntax\n"
     ]
    }
   ],
   "source": [
    "data['genres']:\n",
    "    genre_str = \" \"\n",
    "    for i in range(0, len(data['genres'])):\n",
    "        genre.append"
   ]
  },
  {
   "cell_type": "code",
   "execution_count": null,
   "metadata": {},
   "outputs": [],
   "source": [
    "l = \"I love my country\""
   ]
  },
  {
   "cell_type": "code",
   "execution_count": null,
   "metadata": {},
   "outputs": [],
   "source": [
    "for i in l:\n",
    "    print(i)"
   ]
  }
 ],
 "metadata": {
  "kernelspec": {
   "display_name": "Python 3",
   "language": "python",
   "name": "python3"
  },
  "language_info": {
   "codemirror_mode": {
    "name": "ipython",
    "version": 3
   },
   "file_extension": ".py",
   "mimetype": "text/x-python",
   "name": "python",
   "nbconvert_exporter": "python",
   "pygments_lexer": "ipython3",
   "version": "3.8.5"
  }
 },
 "nbformat": 4,
 "nbformat_minor": 4
}
