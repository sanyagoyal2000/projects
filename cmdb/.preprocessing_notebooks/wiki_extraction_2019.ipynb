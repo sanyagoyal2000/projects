{
 "cells": [
  {
   "cell_type": "markdown",
   "metadata": {},
   "source": [
    "# Wiki extract 2019"
   ]
  },
  {
   "cell_type": "code",
   "execution_count": null,
   "metadata": {},
   "outputs": [],
   "source": []
  },
  {
   "cell_type": "code",
   "execution_count": 3,
   "metadata": {},
   "outputs": [],
   "source": [
    "import numpy as np\n",
    "import pandas as pd\n",
    "import json, requests\n",
    "from tmdbv3api import TMDb\n",
    "tmdb = TMDb()\n",
    "tmdb.api_key = 'e3dce8cf7d87efd38c89a43d9fe6d597'"
   ]
  },
  {
   "cell_type": "code",
   "execution_count": 4,
   "metadata": {},
   "outputs": [],
   "source": [
    "link = \"https://en.wikipedia.org/wiki/List_of_American_films_of_2019\"\n",
    "df1 = pd.read_html(link, header=0)[3]\n",
    "df2 = pd.read_html(link, header=0)[4]\n",
    "df3 = pd.read_html(link, header=0)[5]\n",
    "df4 = pd.read_html(link, header=0)[6]"
   ]
  },
  {
   "cell_type": "code",
   "execution_count": 5,
   "metadata": {},
   "outputs": [],
   "source": [
    "df = df1.append(df2.append(df3.append(df4, ignore_index=True), ignore_index=True), ignore_index=True)"
   ]
  },
  {
   "cell_type": "code",
   "execution_count": 6,
   "metadata": {},
   "outputs": [
    {
     "data": {
      "text/html": [
       "<div>\n",
       "<style scoped>\n",
       "    .dataframe tbody tr th:only-of-type {\n",
       "        vertical-align: middle;\n",
       "    }\n",
       "\n",
       "    .dataframe tbody tr th {\n",
       "        vertical-align: top;\n",
       "    }\n",
       "\n",
       "    .dataframe thead th {\n",
       "        text-align: right;\n",
       "    }\n",
       "</style>\n",
       "<table border=\"1\" class=\"dataframe\">\n",
       "  <thead>\n",
       "    <tr style=\"text-align: right;\">\n",
       "      <th></th>\n",
       "      <th>Opening</th>\n",
       "      <th>Opening.1</th>\n",
       "      <th>Title</th>\n",
       "      <th>Production company</th>\n",
       "      <th>Cast and crew</th>\n",
       "      <th>Ref.</th>\n",
       "      <th>Unnamed: 0</th>\n",
       "      <th>Wikimedia Commons has media related to Films of the United States, 2019.</th>\n",
       "    </tr>\n",
       "  </thead>\n",
       "  <tbody>\n",
       "    <tr>\n",
       "      <th>0</th>\n",
       "      <td>APRIL</td>\n",
       "      <td>5.0</td>\n",
       "      <td>Shazam!</td>\n",
       "      <td>Warner Bros. Pictures / New Line Cinema / DC F...</td>\n",
       "      <td>David F. Sandberg (director); Henry Gayden (sc...</td>\n",
       "      <td>[51]</td>\n",
       "      <td>NaN</td>\n",
       "      <td>NaN</td>\n",
       "    </tr>\n",
       "    <tr>\n",
       "      <th>1</th>\n",
       "      <td>APRIL</td>\n",
       "      <td>5.0</td>\n",
       "      <td>Pet Sematary</td>\n",
       "      <td>Paramount Pictures</td>\n",
       "      <td>Kevin Kolsch, Dennis Widmyer (directors); Jeff...</td>\n",
       "      <td>[52]</td>\n",
       "      <td>NaN</td>\n",
       "      <td>NaN</td>\n",
       "    </tr>\n",
       "    <tr>\n",
       "      <th>2</th>\n",
       "      <td>APRIL</td>\n",
       "      <td>5.0</td>\n",
       "      <td>The Best of Enemies</td>\n",
       "      <td>STX Entertainment</td>\n",
       "      <td>Robin Bissell (director/screenplay); Taraji P....</td>\n",
       "      <td>[53]</td>\n",
       "      <td>NaN</td>\n",
       "      <td>NaN</td>\n",
       "    </tr>\n",
       "    <tr>\n",
       "      <th>3</th>\n",
       "      <td>APRIL</td>\n",
       "      <td>5.0</td>\n",
       "      <td>High Life</td>\n",
       "      <td>A24 / Arte / ZDF / Canal+ / Ciné+</td>\n",
       "      <td>Claire Denis (director/screenplay); Jean-Pol F...</td>\n",
       "      <td>[54]</td>\n",
       "      <td>NaN</td>\n",
       "      <td>NaN</td>\n",
       "    </tr>\n",
       "    <tr>\n",
       "      <th>4</th>\n",
       "      <td>APRIL</td>\n",
       "      <td>5.0</td>\n",
       "      <td>Unicorn Store</td>\n",
       "      <td>Netflix</td>\n",
       "      <td>Brie Larson (director); Samantha McIntyre (scr...</td>\n",
       "      <td>NaN</td>\n",
       "      <td>NaN</td>\n",
       "      <td>NaN</td>\n",
       "    </tr>\n",
       "    <tr>\n",
       "      <th>...</th>\n",
       "      <td>...</td>\n",
       "      <td>...</td>\n",
       "      <td>...</td>\n",
       "      <td>...</td>\n",
       "      <td>...</td>\n",
       "      <td>...</td>\n",
       "      <td>...</td>\n",
       "      <td>...</td>\n",
       "    </tr>\n",
       "    <tr>\n",
       "      <th>188</th>\n",
       "      <td>DECEMBER</td>\n",
       "      <td>25.0</td>\n",
       "      <td>Spies in Disguise</td>\n",
       "      <td>20th Century Fox / Blue Sky Studios / Chernin ...</td>\n",
       "      <td>Nick Bruno, Troy Quane (directors); Brad Copel...</td>\n",
       "      <td>[132]</td>\n",
       "      <td>NaN</td>\n",
       "      <td>NaN</td>\n",
       "    </tr>\n",
       "    <tr>\n",
       "      <th>189</th>\n",
       "      <td>DECEMBER</td>\n",
       "      <td>25.0</td>\n",
       "      <td>Little Women</td>\n",
       "      <td>Columbia Pictures / Regency Enterprises</td>\n",
       "      <td>Greta Gerwig (director/screenplay); Saoirse Ro...</td>\n",
       "      <td>[221]</td>\n",
       "      <td>NaN</td>\n",
       "      <td>NaN</td>\n",
       "    </tr>\n",
       "    <tr>\n",
       "      <th>190</th>\n",
       "      <td>DECEMBER</td>\n",
       "      <td>25.0</td>\n",
       "      <td>1917</td>\n",
       "      <td>Universal Pictures / DreamWorks Pictures / Ent...</td>\n",
       "      <td>Sam Mendes (director/screenplay); Krysty Wilso...</td>\n",
       "      <td>[222]</td>\n",
       "      <td>NaN</td>\n",
       "      <td>NaN</td>\n",
       "    </tr>\n",
       "    <tr>\n",
       "      <th>191</th>\n",
       "      <td>DECEMBER</td>\n",
       "      <td>25.0</td>\n",
       "      <td>Just Mercy</td>\n",
       "      <td>Warner Bros. Pictures / Participant Media</td>\n",
       "      <td>Destin Daniel Cretton (director/screenplay), A...</td>\n",
       "      <td>[223]</td>\n",
       "      <td>NaN</td>\n",
       "      <td>NaN</td>\n",
       "    </tr>\n",
       "    <tr>\n",
       "      <th>192</th>\n",
       "      <td>DECEMBER</td>\n",
       "      <td>27.0</td>\n",
       "      <td>Clemency</td>\n",
       "      <td>Neon</td>\n",
       "      <td>Chinonye Chukwu (director/screenplay); Alfre W...</td>\n",
       "      <td>[224]</td>\n",
       "      <td>NaN</td>\n",
       "      <td>NaN</td>\n",
       "    </tr>\n",
       "  </tbody>\n",
       "</table>\n",
       "<p>193 rows × 8 columns</p>\n",
       "</div>"
      ],
      "text/plain": [
       "      Opening  Opening.1                Title  \\\n",
       "0       APRIL        5.0              Shazam!   \n",
       "1       APRIL        5.0         Pet Sematary   \n",
       "2       APRIL        5.0  The Best of Enemies   \n",
       "3       APRIL        5.0            High Life   \n",
       "4       APRIL        5.0        Unicorn Store   \n",
       "..        ...        ...                  ...   \n",
       "188  DECEMBER       25.0    Spies in Disguise   \n",
       "189  DECEMBER       25.0         Little Women   \n",
       "190  DECEMBER       25.0                 1917   \n",
       "191  DECEMBER       25.0           Just Mercy   \n",
       "192  DECEMBER       27.0             Clemency   \n",
       "\n",
       "                                    Production company  \\\n",
       "0    Warner Bros. Pictures / New Line Cinema / DC F...   \n",
       "1                                   Paramount Pictures   \n",
       "2                                    STX Entertainment   \n",
       "3                    A24 / Arte / ZDF / Canal+ / Ciné+   \n",
       "4                                              Netflix   \n",
       "..                                                 ...   \n",
       "188  20th Century Fox / Blue Sky Studios / Chernin ...   \n",
       "189            Columbia Pictures / Regency Enterprises   \n",
       "190  Universal Pictures / DreamWorks Pictures / Ent...   \n",
       "191          Warner Bros. Pictures / Participant Media   \n",
       "192                                               Neon   \n",
       "\n",
       "                                         Cast and crew   Ref. Unnamed: 0  \\\n",
       "0    David F. Sandberg (director); Henry Gayden (sc...   [51]        NaN   \n",
       "1    Kevin Kolsch, Dennis Widmyer (directors); Jeff...   [52]        NaN   \n",
       "2    Robin Bissell (director/screenplay); Taraji P....   [53]        NaN   \n",
       "3    Claire Denis (director/screenplay); Jean-Pol F...   [54]        NaN   \n",
       "4    Brie Larson (director); Samantha McIntyre (scr...    NaN        NaN   \n",
       "..                                                 ...    ...        ...   \n",
       "188  Nick Bruno, Troy Quane (directors); Brad Copel...  [132]        NaN   \n",
       "189  Greta Gerwig (director/screenplay); Saoirse Ro...  [221]        NaN   \n",
       "190  Sam Mendes (director/screenplay); Krysty Wilso...  [222]        NaN   \n",
       "191  Destin Daniel Cretton (director/screenplay), A...  [223]        NaN   \n",
       "192  Chinonye Chukwu (director/screenplay); Alfre W...  [224]        NaN   \n",
       "\n",
       "    Wikimedia Commons has media related to Films of the United States, 2019.  \n",
       "0                                                  NaN                        \n",
       "1                                                  NaN                        \n",
       "2                                                  NaN                        \n",
       "3                                                  NaN                        \n",
       "4                                                  NaN                        \n",
       "..                                                 ...                        \n",
       "188                                                NaN                        \n",
       "189                                                NaN                        \n",
       "190                                                NaN                        \n",
       "191                                                NaN                        \n",
       "192                                                NaN                        \n",
       "\n",
       "[193 rows x 8 columns]"
      ]
     },
     "execution_count": 6,
     "metadata": {},
     "output_type": "execute_result"
    }
   ],
   "source": [
    "df"
   ]
  },
  {
   "cell_type": "code",
   "execution_count": 7,
   "metadata": {},
   "outputs": [
    {
     "data": {
      "text/plain": [
       "Opening                                                                       0\n",
       "Opening.1                                                                     0\n",
       "Title                                                                         0\n",
       "Production company                                                            0\n",
       "Cast and crew                                                                 0\n",
       "Ref.                                                                         10\n",
       "Unnamed: 0                                                                  193\n",
       "Wikimedia Commons has media related to Films of the United States, 2019.    193\n",
       "dtype: int64"
      ]
     },
     "execution_count": 7,
     "metadata": {},
     "output_type": "execute_result"
    }
   ],
   "source": [
    "df.isnull().sum()"
   ]
  },
  {
   "cell_type": "code",
   "execution_count": 8,
   "metadata": {},
   "outputs": [
    {
     "name": "stdout",
     "output_type": "stream",
     "text": [
      "Requirement already satisfied: tmdbv3api in /home/mehant/anaconda3/lib/python3.8/site-packages (1.7.4)\n",
      "Requirement already satisfied: requests in /home/mehant/anaconda3/lib/python3.8/site-packages (from tmdbv3api) (2.24.0)\n",
      "Requirement already satisfied: chardet<4,>=3.0.2 in /home/mehant/anaconda3/lib/python3.8/site-packages (from requests->tmdbv3api) (3.0.4)\n",
      "Requirement already satisfied: certifi>=2017.4.17 in /home/mehant/anaconda3/lib/python3.8/site-packages (from requests->tmdbv3api) (2020.6.20)\n",
      "Requirement already satisfied: idna<3,>=2.5 in /home/mehant/anaconda3/lib/python3.8/site-packages (from requests->tmdbv3api) (2.10)\n",
      "Requirement already satisfied: urllib3!=1.25.0,!=1.25.1,<1.26,>=1.21.1 in /home/mehant/anaconda3/lib/python3.8/site-packages (from requests->tmdbv3api) (1.25.11)\n"
     ]
    }
   ],
   "source": [
    "!pip install tmdbv3api"
   ]
  },
  {
   "cell_type": "code",
   "execution_count": 9,
   "metadata": {},
   "outputs": [],
   "source": [
    "from tmdbv3api import Movie\n",
    "tmdb_movie = Movie()\n",
    "\n",
    "def get_genre(x):\n",
    "    genres = []\n",
    "    result = tmdb_movie.search(x)\n",
    "    movie_id = result[0].id\n",
    "    response = requests.get('https://api.themoviedb.org/3/movie/{}?api_key={}'.format(movie_id, tmdb.api_key))\n",
    "    json_data = response.json()\n",
    "    if json_data['genres']:\n",
    "        str_ = \" \"\n",
    "        for i in range(0, len(json_data['genres'])):\n",
    "            genres.append(json_data['genres'][i]['name'])\n",
    "        return str_.join(genres)\n",
    "    else:\n",
    "        np.NaN"
   ]
  },
  {
   "cell_type": "code",
   "execution_count": 10,
   "metadata": {},
   "outputs": [],
   "source": [
    "df['genres'] = df['Title'].map(lambda x: get_genre(str(x)))"
   ]
  },
  {
   "cell_type": "code",
   "execution_count": 11,
   "metadata": {},
   "outputs": [
    {
     "data": {
      "text/html": [
       "<div>\n",
       "<style scoped>\n",
       "    .dataframe tbody tr th:only-of-type {\n",
       "        vertical-align: middle;\n",
       "    }\n",
       "\n",
       "    .dataframe tbody tr th {\n",
       "        vertical-align: top;\n",
       "    }\n",
       "\n",
       "    .dataframe thead th {\n",
       "        text-align: right;\n",
       "    }\n",
       "</style>\n",
       "<table border=\"1\" class=\"dataframe\">\n",
       "  <thead>\n",
       "    <tr style=\"text-align: right;\">\n",
       "      <th></th>\n",
       "      <th>Opening</th>\n",
       "      <th>Opening.1</th>\n",
       "      <th>Title</th>\n",
       "      <th>Production company</th>\n",
       "      <th>Cast and crew</th>\n",
       "      <th>Ref.</th>\n",
       "      <th>Unnamed: 0</th>\n",
       "      <th>Wikimedia Commons has media related to Films of the United States, 2019.</th>\n",
       "      <th>genres</th>\n",
       "    </tr>\n",
       "  </thead>\n",
       "  <tbody>\n",
       "    <tr>\n",
       "      <th>0</th>\n",
       "      <td>APRIL</td>\n",
       "      <td>5.0</td>\n",
       "      <td>Shazam!</td>\n",
       "      <td>Warner Bros. Pictures / New Line Cinema / DC F...</td>\n",
       "      <td>David F. Sandberg (director); Henry Gayden (sc...</td>\n",
       "      <td>[51]</td>\n",
       "      <td>NaN</td>\n",
       "      <td>NaN</td>\n",
       "      <td>Action Comedy Fantasy</td>\n",
       "    </tr>\n",
       "    <tr>\n",
       "      <th>1</th>\n",
       "      <td>APRIL</td>\n",
       "      <td>5.0</td>\n",
       "      <td>Pet Sematary</td>\n",
       "      <td>Paramount Pictures</td>\n",
       "      <td>Kevin Kolsch, Dennis Widmyer (directors); Jeff...</td>\n",
       "      <td>[52]</td>\n",
       "      <td>NaN</td>\n",
       "      <td>NaN</td>\n",
       "      <td>Horror</td>\n",
       "    </tr>\n",
       "    <tr>\n",
       "      <th>2</th>\n",
       "      <td>APRIL</td>\n",
       "      <td>5.0</td>\n",
       "      <td>The Best of Enemies</td>\n",
       "      <td>STX Entertainment</td>\n",
       "      <td>Robin Bissell (director/screenplay); Taraji P....</td>\n",
       "      <td>[53]</td>\n",
       "      <td>NaN</td>\n",
       "      <td>NaN</td>\n",
       "      <td>Drama History</td>\n",
       "    </tr>\n",
       "    <tr>\n",
       "      <th>3</th>\n",
       "      <td>APRIL</td>\n",
       "      <td>5.0</td>\n",
       "      <td>High Life</td>\n",
       "      <td>A24 / Arte / ZDF / Canal+ / Ciné+</td>\n",
       "      <td>Claire Denis (director/screenplay); Jean-Pol F...</td>\n",
       "      <td>[54]</td>\n",
       "      <td>NaN</td>\n",
       "      <td>NaN</td>\n",
       "      <td>Science Fiction Drama Mystery Thriller</td>\n",
       "    </tr>\n",
       "    <tr>\n",
       "      <th>4</th>\n",
       "      <td>APRIL</td>\n",
       "      <td>5.0</td>\n",
       "      <td>Unicorn Store</td>\n",
       "      <td>Netflix</td>\n",
       "      <td>Brie Larson (director); Samantha McIntyre (scr...</td>\n",
       "      <td>NaN</td>\n",
       "      <td>NaN</td>\n",
       "      <td>NaN</td>\n",
       "      <td>Fantasy Drama Comedy</td>\n",
       "    </tr>\n",
       "  </tbody>\n",
       "</table>\n",
       "</div>"
      ],
      "text/plain": [
       "  Opening  Opening.1                Title  \\\n",
       "0   APRIL        5.0              Shazam!   \n",
       "1   APRIL        5.0         Pet Sematary   \n",
       "2   APRIL        5.0  The Best of Enemies   \n",
       "3   APRIL        5.0            High Life   \n",
       "4   APRIL        5.0        Unicorn Store   \n",
       "\n",
       "                                  Production company  \\\n",
       "0  Warner Bros. Pictures / New Line Cinema / DC F...   \n",
       "1                                 Paramount Pictures   \n",
       "2                                  STX Entertainment   \n",
       "3                  A24 / Arte / ZDF / Canal+ / Ciné+   \n",
       "4                                            Netflix   \n",
       "\n",
       "                                       Cast and crew  Ref. Unnamed: 0  \\\n",
       "0  David F. Sandberg (director); Henry Gayden (sc...  [51]        NaN   \n",
       "1  Kevin Kolsch, Dennis Widmyer (directors); Jeff...  [52]        NaN   \n",
       "2  Robin Bissell (director/screenplay); Taraji P....  [53]        NaN   \n",
       "3  Claire Denis (director/screenplay); Jean-Pol F...  [54]        NaN   \n",
       "4  Brie Larson (director); Samantha McIntyre (scr...   NaN        NaN   \n",
       "\n",
       "  Wikimedia Commons has media related to Films of the United States, 2019.  \\\n",
       "0                                                NaN                         \n",
       "1                                                NaN                         \n",
       "2                                                NaN                         \n",
       "3                                                NaN                         \n",
       "4                                                NaN                         \n",
       "\n",
       "                                   genres  \n",
       "0                   Action Comedy Fantasy  \n",
       "1                                  Horror  \n",
       "2                           Drama History  \n",
       "3  Science Fiction Drama Mystery Thriller  \n",
       "4                    Fantasy Drama Comedy  "
      ]
     },
     "execution_count": 11,
     "metadata": {},
     "output_type": "execute_result"
    }
   ],
   "source": [
    "df.head()"
   ]
  },
  {
   "cell_type": "code",
   "execution_count": 12,
   "metadata": {},
   "outputs": [],
   "source": [
    "df_2019 = df[['Title','Cast and crew', 'genres']]"
   ]
  },
  {
   "cell_type": "code",
   "execution_count": 13,
   "metadata": {},
   "outputs": [
    {
     "data": {
      "text/html": [
       "<div>\n",
       "<style scoped>\n",
       "    .dataframe tbody tr th:only-of-type {\n",
       "        vertical-align: middle;\n",
       "    }\n",
       "\n",
       "    .dataframe tbody tr th {\n",
       "        vertical-align: top;\n",
       "    }\n",
       "\n",
       "    .dataframe thead th {\n",
       "        text-align: right;\n",
       "    }\n",
       "</style>\n",
       "<table border=\"1\" class=\"dataframe\">\n",
       "  <thead>\n",
       "    <tr style=\"text-align: right;\">\n",
       "      <th></th>\n",
       "      <th>Title</th>\n",
       "      <th>Cast and crew</th>\n",
       "      <th>genres</th>\n",
       "    </tr>\n",
       "  </thead>\n",
       "  <tbody>\n",
       "    <tr>\n",
       "      <th>0</th>\n",
       "      <td>Shazam!</td>\n",
       "      <td>David F. Sandberg (director); Henry Gayden (sc...</td>\n",
       "      <td>Action Comedy Fantasy</td>\n",
       "    </tr>\n",
       "    <tr>\n",
       "      <th>1</th>\n",
       "      <td>Pet Sematary</td>\n",
       "      <td>Kevin Kolsch, Dennis Widmyer (directors); Jeff...</td>\n",
       "      <td>Horror</td>\n",
       "    </tr>\n",
       "    <tr>\n",
       "      <th>2</th>\n",
       "      <td>The Best of Enemies</td>\n",
       "      <td>Robin Bissell (director/screenplay); Taraji P....</td>\n",
       "      <td>Drama History</td>\n",
       "    </tr>\n",
       "    <tr>\n",
       "      <th>3</th>\n",
       "      <td>High Life</td>\n",
       "      <td>Claire Denis (director/screenplay); Jean-Pol F...</td>\n",
       "      <td>Science Fiction Drama Mystery Thriller</td>\n",
       "    </tr>\n",
       "    <tr>\n",
       "      <th>4</th>\n",
       "      <td>Unicorn Store</td>\n",
       "      <td>Brie Larson (director); Samantha McIntyre (scr...</td>\n",
       "      <td>Fantasy Drama Comedy</td>\n",
       "    </tr>\n",
       "  </tbody>\n",
       "</table>\n",
       "</div>"
      ],
      "text/plain": [
       "                 Title                                      Cast and crew  \\\n",
       "0              Shazam!  David F. Sandberg (director); Henry Gayden (sc...   \n",
       "1         Pet Sematary  Kevin Kolsch, Dennis Widmyer (directors); Jeff...   \n",
       "2  The Best of Enemies  Robin Bissell (director/screenplay); Taraji P....   \n",
       "3            High Life  Claire Denis (director/screenplay); Jean-Pol F...   \n",
       "4        Unicorn Store  Brie Larson (director); Samantha McIntyre (scr...   \n",
       "\n",
       "                                   genres  \n",
       "0                   Action Comedy Fantasy  \n",
       "1                                  Horror  \n",
       "2                           Drama History  \n",
       "3  Science Fiction Drama Mystery Thriller  \n",
       "4                    Fantasy Drama Comedy  "
      ]
     },
     "execution_count": 13,
     "metadata": {},
     "output_type": "execute_result"
    }
   ],
   "source": [
    "df_2019.head()"
   ]
  },
  {
   "cell_type": "markdown",
   "metadata": {},
   "source": [
    "### Extrating Director"
   ]
  },
  {
   "cell_type": "code",
   "execution_count": 14,
   "metadata": {},
   "outputs": [],
   "source": [
    "def get_director(x):\n",
    "    if \" (director)\" in x:\n",
    "        return x.partition(' (director)')[0]\n",
    "    elif \" (directors)\" in x:\n",
    "        return x.partition(' (directors)')[0]\n",
    "    else:\n",
    "        return x.partition(' (director/screenplay)')[0]"
   ]
  },
  {
   "cell_type": "code",
   "execution_count": 15,
   "metadata": {},
   "outputs": [
    {
     "name": "stderr",
     "output_type": "stream",
     "text": [
      "<ipython-input-15-84d0c3ababbd>:1: SettingWithCopyWarning: \n",
      "A value is trying to be set on a copy of a slice from a DataFrame.\n",
      "Try using .loc[row_indexer,col_indexer] = value instead\n",
      "\n",
      "See the caveats in the documentation: https://pandas.pydata.org/pandas-docs/stable/user_guide/indexing.html#returning-a-view-versus-a-copy\n",
      "  df_2019['director_name'] = df_2019['Cast and crew'].map(lambda x: get_director(x))\n"
     ]
    }
   ],
   "source": [
    "df_2019['director_name'] = df_2019['Cast and crew'].map(lambda x: get_director(x))"
   ]
  },
  {
   "cell_type": "code",
   "execution_count": 16,
   "metadata": {},
   "outputs": [
    {
     "data": {
      "text/html": [
       "<div>\n",
       "<style scoped>\n",
       "    .dataframe tbody tr th:only-of-type {\n",
       "        vertical-align: middle;\n",
       "    }\n",
       "\n",
       "    .dataframe tbody tr th {\n",
       "        vertical-align: top;\n",
       "    }\n",
       "\n",
       "    .dataframe thead th {\n",
       "        text-align: right;\n",
       "    }\n",
       "</style>\n",
       "<table border=\"1\" class=\"dataframe\">\n",
       "  <thead>\n",
       "    <tr style=\"text-align: right;\">\n",
       "      <th></th>\n",
       "      <th>Title</th>\n",
       "      <th>Cast and crew</th>\n",
       "      <th>genres</th>\n",
       "      <th>director_name</th>\n",
       "    </tr>\n",
       "  </thead>\n",
       "  <tbody>\n",
       "    <tr>\n",
       "      <th>0</th>\n",
       "      <td>Shazam!</td>\n",
       "      <td>David F. Sandberg (director); Henry Gayden (sc...</td>\n",
       "      <td>Action Comedy Fantasy</td>\n",
       "      <td>David F. Sandberg</td>\n",
       "    </tr>\n",
       "    <tr>\n",
       "      <th>1</th>\n",
       "      <td>Pet Sematary</td>\n",
       "      <td>Kevin Kolsch, Dennis Widmyer (directors); Jeff...</td>\n",
       "      <td>Horror</td>\n",
       "      <td>Kevin Kolsch, Dennis Widmyer</td>\n",
       "    </tr>\n",
       "    <tr>\n",
       "      <th>2</th>\n",
       "      <td>The Best of Enemies</td>\n",
       "      <td>Robin Bissell (director/screenplay); Taraji P....</td>\n",
       "      <td>Drama History</td>\n",
       "      <td>Robin Bissell</td>\n",
       "    </tr>\n",
       "    <tr>\n",
       "      <th>3</th>\n",
       "      <td>High Life</td>\n",
       "      <td>Claire Denis (director/screenplay); Jean-Pol F...</td>\n",
       "      <td>Science Fiction Drama Mystery Thriller</td>\n",
       "      <td>Claire Denis</td>\n",
       "    </tr>\n",
       "    <tr>\n",
       "      <th>4</th>\n",
       "      <td>Unicorn Store</td>\n",
       "      <td>Brie Larson (director); Samantha McIntyre (scr...</td>\n",
       "      <td>Fantasy Drama Comedy</td>\n",
       "      <td>Brie Larson</td>\n",
       "    </tr>\n",
       "  </tbody>\n",
       "</table>\n",
       "</div>"
      ],
      "text/plain": [
       "                 Title                                      Cast and crew  \\\n",
       "0              Shazam!  David F. Sandberg (director); Henry Gayden (sc...   \n",
       "1         Pet Sematary  Kevin Kolsch, Dennis Widmyer (directors); Jeff...   \n",
       "2  The Best of Enemies  Robin Bissell (director/screenplay); Taraji P....   \n",
       "3            High Life  Claire Denis (director/screenplay); Jean-Pol F...   \n",
       "4        Unicorn Store  Brie Larson (director); Samantha McIntyre (scr...   \n",
       "\n",
       "                                   genres                 director_name  \n",
       "0                   Action Comedy Fantasy             David F. Sandberg  \n",
       "1                                  Horror  Kevin Kolsch, Dennis Widmyer  \n",
       "2                           Drama History                 Robin Bissell  \n",
       "3  Science Fiction Drama Mystery Thriller                  Claire Denis  \n",
       "4                    Fantasy Drama Comedy                   Brie Larson  "
      ]
     },
     "execution_count": 16,
     "metadata": {},
     "output_type": "execute_result"
    }
   ],
   "source": [
    "df_2019.head()"
   ]
  },
  {
   "cell_type": "markdown",
   "metadata": {},
   "source": [
    "### Extrating actor1, actor2, actor3"
   ]
  },
  {
   "cell_type": "code",
   "execution_count": 17,
   "metadata": {},
   "outputs": [],
   "source": [
    "def get_actor1(x):\n",
    "    return ((x.partition(\"screenplay); \")[-1]).split(\", \")[0]).strip()"
   ]
  },
  {
   "cell_type": "code",
   "execution_count": 18,
   "metadata": {},
   "outputs": [
    {
     "name": "stderr",
     "output_type": "stream",
     "text": [
      "<ipython-input-18-bb59f3c8f624>:1: SettingWithCopyWarning: \n",
      "A value is trying to be set on a copy of a slice from a DataFrame.\n",
      "Try using .loc[row_indexer,col_indexer] = value instead\n",
      "\n",
      "See the caveats in the documentation: https://pandas.pydata.org/pandas-docs/stable/user_guide/indexing.html#returning-a-view-versus-a-copy\n",
      "  df_2019['actor1'] = df_2019['Cast and crew'].map(lambda x: get_actor1(x))\n"
     ]
    }
   ],
   "source": [
    "df_2019['actor1'] = df_2019['Cast and crew'].map(lambda x: get_actor1(x))"
   ]
  },
  {
   "cell_type": "code",
   "execution_count": 19,
   "metadata": {},
   "outputs": [],
   "source": [
    "def get_actor2(x):\n",
    "    if len((x.split(\"screenplay); \")[-1]).split(\", \")) < 2:\n",
    "        return np.NaN\n",
    "    else:\n",
    "        return ((x.split(\"screenplay); \")[-1]).split(\", \")[1])"
   ]
  },
  {
   "cell_type": "code",
   "execution_count": 20,
   "metadata": {},
   "outputs": [
    {
     "name": "stderr",
     "output_type": "stream",
     "text": [
      "<ipython-input-20-733e17959c6e>:1: SettingWithCopyWarning: \n",
      "A value is trying to be set on a copy of a slice from a DataFrame.\n",
      "Try using .loc[row_indexer,col_indexer] = value instead\n",
      "\n",
      "See the caveats in the documentation: https://pandas.pydata.org/pandas-docs/stable/user_guide/indexing.html#returning-a-view-versus-a-copy\n",
      "  df_2019['actor2'] = df_2019['Cast and crew'].map(lambda x: get_actor2(x))\n"
     ]
    }
   ],
   "source": [
    "df_2019['actor2'] = df_2019['Cast and crew'].map(lambda x: get_actor2(x))"
   ]
  },
  {
   "cell_type": "code",
   "execution_count": 21,
   "metadata": {},
   "outputs": [],
   "source": [
    "def get_actor3(x):\n",
    "    if len((x.split(\"screenplay); \")[-1]).split(\", \")) < 3:\n",
    "        return np.NaN\n",
    "    else:\n",
    "        return ((x.split(\"screenplay); \")[-1]).split(\", \")[2])"
   ]
  },
  {
   "cell_type": "code",
   "execution_count": 22,
   "metadata": {},
   "outputs": [
    {
     "name": "stderr",
     "output_type": "stream",
     "text": [
      "<ipython-input-22-01e1c62bc9cd>:1: SettingWithCopyWarning: \n",
      "A value is trying to be set on a copy of a slice from a DataFrame.\n",
      "Try using .loc[row_indexer,col_indexer] = value instead\n",
      "\n",
      "See the caveats in the documentation: https://pandas.pydata.org/pandas-docs/stable/user_guide/indexing.html#returning-a-view-versus-a-copy\n",
      "  df_2019['actor3'] = df_2019['Cast and crew'].map(lambda x: get_actor3(x))\n"
     ]
    }
   ],
   "source": [
    "df_2019['actor3'] = df_2019['Cast and crew'].map(lambda x: get_actor3(x))"
   ]
  },
  {
   "cell_type": "code",
   "execution_count": 23,
   "metadata": {},
   "outputs": [
    {
     "name": "stderr",
     "output_type": "stream",
     "text": [
      "/home/mehant/anaconda3/lib/python3.8/site-packages/pandas/core/frame.py:4163: SettingWithCopyWarning: \n",
      "A value is trying to be set on a copy of a slice from a DataFrame\n",
      "\n",
      "See the caveats in the documentation: https://pandas.pydata.org/pandas-docs/stable/user_guide/indexing.html#returning-a-view-versus-a-copy\n",
      "  return super().drop(\n"
     ]
    }
   ],
   "source": [
    "df_2019.drop(columns={'Cast and crew'}, inplace=True)"
   ]
  },
  {
   "cell_type": "code",
   "execution_count": 24,
   "metadata": {},
   "outputs": [],
   "source": [
    "df_2019 = df_2019.rename(columns={'Title':'title','director_name':'director'})"
   ]
  },
  {
   "cell_type": "code",
   "execution_count": 25,
   "metadata": {},
   "outputs": [],
   "source": [
    "df_2019['title'] = df_2019['title'].str.lower()"
   ]
  },
  {
   "cell_type": "markdown",
   "metadata": {},
   "source": [
    "### Delling with NaN values"
   ]
  },
  {
   "cell_type": "code",
   "execution_count": 26,
   "metadata": {},
   "outputs": [
    {
     "data": {
      "text/plain": [
       "title        0\n",
       "genres       0\n",
       "director     0\n",
       "actor1       0\n",
       "actor2       0\n",
       "actor3      12\n",
       "dtype: int64"
      ]
     },
     "execution_count": 26,
     "metadata": {},
     "output_type": "execute_result"
    }
   ],
   "source": [
    "df_2019.isna().sum()"
   ]
  },
  {
   "cell_type": "code",
   "execution_count": 27,
   "metadata": {},
   "outputs": [],
   "source": [
    "df_2019.fillna('', inplace=True)"
   ]
  },
  {
   "cell_type": "code",
   "execution_count": 28,
   "metadata": {},
   "outputs": [
    {
     "data": {
      "text/plain": [
       "title       0\n",
       "genres      0\n",
       "director    0\n",
       "actor1      0\n",
       "actor2      0\n",
       "actor3      0\n",
       "dtype: int64"
      ]
     },
     "execution_count": 28,
     "metadata": {},
     "output_type": "execute_result"
    }
   ],
   "source": [
    "df_2019.isna().sum()"
   ]
  },
  {
   "cell_type": "code",
   "execution_count": 29,
   "metadata": {},
   "outputs": [],
   "source": [
    "df_2019['comb'] = df_2019.actor1 + ' ' + df_2019.actor2 + ' ' + df_2019.actor3 + ' ' + df_2019.director + ' ' + df_2019.genres"
   ]
  },
  {
   "cell_type": "code",
   "execution_count": 30,
   "metadata": {},
   "outputs": [
    {
     "data": {
      "text/html": [
       "<div>\n",
       "<style scoped>\n",
       "    .dataframe tbody tr th:only-of-type {\n",
       "        vertical-align: middle;\n",
       "    }\n",
       "\n",
       "    .dataframe tbody tr th {\n",
       "        vertical-align: top;\n",
       "    }\n",
       "\n",
       "    .dataframe thead th {\n",
       "        text-align: right;\n",
       "    }\n",
       "</style>\n",
       "<table border=\"1\" class=\"dataframe\">\n",
       "  <thead>\n",
       "    <tr style=\"text-align: right;\">\n",
       "      <th></th>\n",
       "      <th>title</th>\n",
       "      <th>genres</th>\n",
       "      <th>director</th>\n",
       "      <th>actor1</th>\n",
       "      <th>actor2</th>\n",
       "      <th>actor3</th>\n",
       "      <th>comb</th>\n",
       "    </tr>\n",
       "  </thead>\n",
       "  <tbody>\n",
       "    <tr>\n",
       "      <th>0</th>\n",
       "      <td>shazam!</td>\n",
       "      <td>Action Comedy Fantasy</td>\n",
       "      <td>David F. Sandberg</td>\n",
       "      <td>Zachary Levi</td>\n",
       "      <td>Asher Angel</td>\n",
       "      <td>Mark Strong</td>\n",
       "      <td>Zachary Levi Asher Angel Mark Strong David F. ...</td>\n",
       "    </tr>\n",
       "    <tr>\n",
       "      <th>1</th>\n",
       "      <td>pet sematary</td>\n",
       "      <td>Horror</td>\n",
       "      <td>Kevin Kolsch, Dennis Widmyer</td>\n",
       "      <td>Jason Clarke</td>\n",
       "      <td>Amy Seimetz</td>\n",
       "      <td>John Lithgow</td>\n",
       "      <td>Jason Clarke Amy Seimetz John Lithgow Kevin Ko...</td>\n",
       "    </tr>\n",
       "    <tr>\n",
       "      <th>2</th>\n",
       "      <td>the best of enemies</td>\n",
       "      <td>Drama History</td>\n",
       "      <td>Robin Bissell</td>\n",
       "      <td>Taraji P. Henson</td>\n",
       "      <td>Sam Rockwell</td>\n",
       "      <td></td>\n",
       "      <td>Taraji P. Henson Sam Rockwell  Robin Bissell D...</td>\n",
       "    </tr>\n",
       "    <tr>\n",
       "      <th>3</th>\n",
       "      <td>high life</td>\n",
       "      <td>Science Fiction Drama Mystery Thriller</td>\n",
       "      <td>Claire Denis</td>\n",
       "      <td>Jean-Pol Fargeau (screenplay); Robert Pattinson</td>\n",
       "      <td>Juliette Binoche</td>\n",
       "      <td>André Benjamin</td>\n",
       "      <td>Jean-Pol Fargeau (screenplay); Robert Pattinso...</td>\n",
       "    </tr>\n",
       "    <tr>\n",
       "      <th>4</th>\n",
       "      <td>unicorn store</td>\n",
       "      <td>Fantasy Drama Comedy</td>\n",
       "      <td>Brie Larson</td>\n",
       "      <td>Brie Larson</td>\n",
       "      <td>Samuel L. Jackson</td>\n",
       "      <td>Joan Cusack</td>\n",
       "      <td>Brie Larson Samuel L. Jackson Joan Cusack Brie...</td>\n",
       "    </tr>\n",
       "    <tr>\n",
       "      <th>...</th>\n",
       "      <td>...</td>\n",
       "      <td>...</td>\n",
       "      <td>...</td>\n",
       "      <td>...</td>\n",
       "      <td>...</td>\n",
       "      <td>...</td>\n",
       "      <td>...</td>\n",
       "    </tr>\n",
       "    <tr>\n",
       "      <th>188</th>\n",
       "      <td>spies in disguise</td>\n",
       "      <td>Animation Action Adventure Comedy Family</td>\n",
       "      <td>Nick Bruno, Troy Quane</td>\n",
       "      <td>Will Smith</td>\n",
       "      <td>Tom Holland</td>\n",
       "      <td>Rashida Jones</td>\n",
       "      <td>Will Smith Tom Holland Rashida Jones Nick Brun...</td>\n",
       "    </tr>\n",
       "    <tr>\n",
       "      <th>189</th>\n",
       "      <td>little women</td>\n",
       "      <td>Drama Romance</td>\n",
       "      <td>Greta Gerwig</td>\n",
       "      <td>Saoirse Ronan</td>\n",
       "      <td>Emma Watson</td>\n",
       "      <td>Florence Pugh</td>\n",
       "      <td>Saoirse Ronan Emma Watson Florence Pugh Greta ...</td>\n",
       "    </tr>\n",
       "    <tr>\n",
       "      <th>190</th>\n",
       "      <td>1917</td>\n",
       "      <td>War Drama Action Thriller</td>\n",
       "      <td>Sam Mendes</td>\n",
       "      <td>Krysty Wilson-Cairns (screenplay); George MacKay</td>\n",
       "      <td>Dean-Charles Chapman</td>\n",
       "      <td>Mark Strong</td>\n",
       "      <td>Krysty Wilson-Cairns (screenplay); George MacK...</td>\n",
       "    </tr>\n",
       "    <tr>\n",
       "      <th>191</th>\n",
       "      <td>just mercy</td>\n",
       "      <td>Drama Crime History</td>\n",
       "      <td>Destin Daniel Cretton</td>\n",
       "      <td>Michael B. Jordan</td>\n",
       "      <td>Jamie Foxx</td>\n",
       "      <td>Brie Larson</td>\n",
       "      <td>Michael B. Jordan Jamie Foxx Brie Larson Desti...</td>\n",
       "    </tr>\n",
       "    <tr>\n",
       "      <th>192</th>\n",
       "      <td>clemency</td>\n",
       "      <td>Drama</td>\n",
       "      <td>Chinonye Chukwu</td>\n",
       "      <td>Alfre Woodard</td>\n",
       "      <td>Wendell Pierce</td>\n",
       "      <td>Aldis Hodge</td>\n",
       "      <td>Alfre Woodard Wendell Pierce Aldis Hodge Chino...</td>\n",
       "    </tr>\n",
       "  </tbody>\n",
       "</table>\n",
       "<p>193 rows × 7 columns</p>\n",
       "</div>"
      ],
      "text/plain": [
       "                   title                                    genres  \\\n",
       "0                shazam!                     Action Comedy Fantasy   \n",
       "1           pet sematary                                    Horror   \n",
       "2    the best of enemies                             Drama History   \n",
       "3              high life    Science Fiction Drama Mystery Thriller   \n",
       "4          unicorn store                      Fantasy Drama Comedy   \n",
       "..                   ...                                       ...   \n",
       "188    spies in disguise  Animation Action Adventure Comedy Family   \n",
       "189         little women                             Drama Romance   \n",
       "190                 1917                 War Drama Action Thriller   \n",
       "191           just mercy                       Drama Crime History   \n",
       "192             clemency                                     Drama   \n",
       "\n",
       "                         director  \\\n",
       "0               David F. Sandberg   \n",
       "1    Kevin Kolsch, Dennis Widmyer   \n",
       "2                   Robin Bissell   \n",
       "3                    Claire Denis   \n",
       "4                     Brie Larson   \n",
       "..                            ...   \n",
       "188        Nick Bruno, Troy Quane   \n",
       "189                  Greta Gerwig   \n",
       "190                    Sam Mendes   \n",
       "191         Destin Daniel Cretton   \n",
       "192               Chinonye Chukwu   \n",
       "\n",
       "                                               actor1                actor2  \\\n",
       "0                                        Zachary Levi           Asher Angel   \n",
       "1                                        Jason Clarke           Amy Seimetz   \n",
       "2                                    Taraji P. Henson          Sam Rockwell   \n",
       "3     Jean-Pol Fargeau (screenplay); Robert Pattinson      Juliette Binoche   \n",
       "4                                         Brie Larson     Samuel L. Jackson   \n",
       "..                                                ...                   ...   \n",
       "188                                        Will Smith           Tom Holland   \n",
       "189                                     Saoirse Ronan           Emma Watson   \n",
       "190  Krysty Wilson-Cairns (screenplay); George MacKay  Dean-Charles Chapman   \n",
       "191                                 Michael B. Jordan            Jamie Foxx   \n",
       "192                                     Alfre Woodard        Wendell Pierce   \n",
       "\n",
       "             actor3                                               comb  \n",
       "0       Mark Strong  Zachary Levi Asher Angel Mark Strong David F. ...  \n",
       "1      John Lithgow  Jason Clarke Amy Seimetz John Lithgow Kevin Ko...  \n",
       "2                    Taraji P. Henson Sam Rockwell  Robin Bissell D...  \n",
       "3    André Benjamin  Jean-Pol Fargeau (screenplay); Robert Pattinso...  \n",
       "4       Joan Cusack  Brie Larson Samuel L. Jackson Joan Cusack Brie...  \n",
       "..              ...                                                ...  \n",
       "188   Rashida Jones  Will Smith Tom Holland Rashida Jones Nick Brun...  \n",
       "189   Florence Pugh  Saoirse Ronan Emma Watson Florence Pugh Greta ...  \n",
       "190     Mark Strong  Krysty Wilson-Cairns (screenplay); George MacK...  \n",
       "191     Brie Larson  Michael B. Jordan Jamie Foxx Brie Larson Desti...  \n",
       "192     Aldis Hodge  Alfre Woodard Wendell Pierce Aldis Hodge Chino...  \n",
       "\n",
       "[193 rows x 7 columns]"
      ]
     },
     "execution_count": 30,
     "metadata": {},
     "output_type": "execute_result"
    }
   ],
   "source": [
    "df_2019"
   ]
  },
  {
   "cell_type": "code",
   "execution_count": 31,
   "metadata": {},
   "outputs": [],
   "source": [
    "df_2019.to_csv(\"wiki_2019.csv\", index=False)"
   ]
  }
 ],
 "metadata": {
  "kernelspec": {
   "display_name": "Python 3",
   "language": "python",
   "name": "python3"
  },
  "language_info": {
   "codemirror_mode": {
    "name": "ipython",
    "version": 3
   },
   "file_extension": ".py",
   "mimetype": "text/x-python",
   "name": "python",
   "nbconvert_exporter": "python",
   "pygments_lexer": "ipython3",
   "version": "3.8.5"
  }
 },
 "nbformat": 4,
 "nbformat_minor": 4
}
