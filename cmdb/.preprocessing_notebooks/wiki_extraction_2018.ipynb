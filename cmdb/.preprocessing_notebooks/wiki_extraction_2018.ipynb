{
 "cells": [
  {
   "cell_type": "code",
   "execution_count": 1,
   "metadata": {},
   "outputs": [],
   "source": [
    "import pandas as pd\n",
    "import numpy as np"
   ]
  },
  {
   "cell_type": "markdown",
   "metadata": {},
   "source": [
    "## Extracting movies feature from 2018 movies form Wikipedia"
   ]
  },
  {
   "cell_type": "code",
   "execution_count": 2,
   "metadata": {},
   "outputs": [],
   "source": [
    "link = \"https://en.wikipedia.org/wiki/List_of_American_films_of_2018\"\n",
    "df1 = pd.read_html(link, header=0)[2]\n",
    "df2 = pd.read_html(link, header=0)[3]\n",
    "df3 = pd.read_html(link, header=0)[4]\n",
    "df4 = pd.read_html(link, header=0)[5]"
   ]
  },
  {
   "cell_type": "code",
   "execution_count": 3,
   "metadata": {},
   "outputs": [],
   "source": [
    "df = df1.append(df2.append(df3.append(df4, ignore_index=True), ignore_index=True), ignore_index=True)"
   ]
  },
  {
   "cell_type": "code",
   "execution_count": 4,
   "metadata": {},
   "outputs": [
    {
     "data": {
      "text/html": [
       "<div>\n",
       "<style scoped>\n",
       "    .dataframe tbody tr th:only-of-type {\n",
       "        vertical-align: middle;\n",
       "    }\n",
       "\n",
       "    .dataframe tbody tr th {\n",
       "        vertical-align: top;\n",
       "    }\n",
       "\n",
       "    .dataframe thead th {\n",
       "        text-align: right;\n",
       "    }\n",
       "</style>\n",
       "<table border=\"1\" class=\"dataframe\">\n",
       "  <thead>\n",
       "    <tr style=\"text-align: right;\">\n",
       "      <th></th>\n",
       "      <th>Opening</th>\n",
       "      <th>Opening.1</th>\n",
       "      <th>Title</th>\n",
       "      <th>Production company</th>\n",
       "      <th>Cast and crew</th>\n",
       "      <th>Ref.</th>\n",
       "    </tr>\n",
       "  </thead>\n",
       "  <tbody>\n",
       "    <tr>\n",
       "      <th>0</th>\n",
       "      <td>JANUARY</td>\n",
       "      <td>5</td>\n",
       "      <td>Insidious: The Last Key</td>\n",
       "      <td>Universal Pictures / Blumhouse Productions / S...</td>\n",
       "      <td>Adam Robitel (director); Leigh Whannell (scree...</td>\n",
       "      <td>[2]</td>\n",
       "    </tr>\n",
       "    <tr>\n",
       "      <th>1</th>\n",
       "      <td>JANUARY</td>\n",
       "      <td>5</td>\n",
       "      <td>The Strange Ones</td>\n",
       "      <td>Vertical Entertainment</td>\n",
       "      <td>Lauren Wolkstein (director); Christopher Radcl...</td>\n",
       "      <td>[3]</td>\n",
       "    </tr>\n",
       "    <tr>\n",
       "      <th>2</th>\n",
       "      <td>JANUARY</td>\n",
       "      <td>5</td>\n",
       "      <td>Stratton</td>\n",
       "      <td>Momentum Pictures</td>\n",
       "      <td>Simon West (director); Duncan Falconer, Warren...</td>\n",
       "      <td>[4]</td>\n",
       "    </tr>\n",
       "    <tr>\n",
       "      <th>3</th>\n",
       "      <td>JANUARY</td>\n",
       "      <td>10</td>\n",
       "      <td>Sweet Country</td>\n",
       "      <td>Samuel Goldwyn Films</td>\n",
       "      <td>Warwick Thornton (director); David Tranter, St...</td>\n",
       "      <td>[5]</td>\n",
       "    </tr>\n",
       "    <tr>\n",
       "      <th>4</th>\n",
       "      <td>JANUARY</td>\n",
       "      <td>12</td>\n",
       "      <td>The Commuter</td>\n",
       "      <td>Lionsgate / StudioCanal / The Picture Company</td>\n",
       "      <td>Jaume Collet-Serra (director); Byron Willinger...</td>\n",
       "      <td>[6]</td>\n",
       "    </tr>\n",
       "    <tr>\n",
       "      <th>...</th>\n",
       "      <td>...</td>\n",
       "      <td>...</td>\n",
       "      <td>...</td>\n",
       "      <td>...</td>\n",
       "      <td>...</td>\n",
       "      <td>...</td>\n",
       "    </tr>\n",
       "    <tr>\n",
       "      <th>265</th>\n",
       "      <td>DECEMBER</td>\n",
       "      <td>25</td>\n",
       "      <td>Holmes &amp; Watson</td>\n",
       "      <td>Columbia Pictures / Gary Sanchez Productions</td>\n",
       "      <td>Etan Cohen (director/screenplay); Will Ferrell...</td>\n",
       "      <td>[163]</td>\n",
       "    </tr>\n",
       "    <tr>\n",
       "      <th>266</th>\n",
       "      <td>DECEMBER</td>\n",
       "      <td>25</td>\n",
       "      <td>Vice</td>\n",
       "      <td>Annapurna Pictures / Plan B Entertainment</td>\n",
       "      <td>Adam McKay (director/screenplay); Christian Ba...</td>\n",
       "      <td>[137]</td>\n",
       "    </tr>\n",
       "    <tr>\n",
       "      <th>267</th>\n",
       "      <td>DECEMBER</td>\n",
       "      <td>25</td>\n",
       "      <td>On the Basis of Sex</td>\n",
       "      <td>Focus Features</td>\n",
       "      <td>Mimi Leder (director); Daniel Stiepleman (scre...</td>\n",
       "      <td>[226]</td>\n",
       "    </tr>\n",
       "    <tr>\n",
       "      <th>268</th>\n",
       "      <td>DECEMBER</td>\n",
       "      <td>25</td>\n",
       "      <td>Destroyer</td>\n",
       "      <td>Annapurna Pictures</td>\n",
       "      <td>Karyn Kusama (director); Phil Hay, Matt Manfre...</td>\n",
       "      <td>[258]</td>\n",
       "    </tr>\n",
       "    <tr>\n",
       "      <th>269</th>\n",
       "      <td>DECEMBER</td>\n",
       "      <td>28</td>\n",
       "      <td>Black Mirror: Bandersnatch</td>\n",
       "      <td>Netflix</td>\n",
       "      <td>David Slade (director); Charlie Brooker (scree...</td>\n",
       "      <td>[259]</td>\n",
       "    </tr>\n",
       "  </tbody>\n",
       "</table>\n",
       "<p>270 rows × 6 columns</p>\n",
       "</div>"
      ],
      "text/plain": [
       "      Opening  Opening.1                       Title  \\\n",
       "0     JANUARY          5     Insidious: The Last Key   \n",
       "1     JANUARY          5            The Strange Ones   \n",
       "2     JANUARY          5                    Stratton   \n",
       "3     JANUARY         10               Sweet Country   \n",
       "4     JANUARY         12                The Commuter   \n",
       "..        ...        ...                         ...   \n",
       "265  DECEMBER         25             Holmes & Watson   \n",
       "266  DECEMBER         25                        Vice   \n",
       "267  DECEMBER         25         On the Basis of Sex   \n",
       "268  DECEMBER         25                   Destroyer   \n",
       "269  DECEMBER         28  Black Mirror: Bandersnatch   \n",
       "\n",
       "                                    Production company  \\\n",
       "0    Universal Pictures / Blumhouse Productions / S...   \n",
       "1                               Vertical Entertainment   \n",
       "2                                    Momentum Pictures   \n",
       "3                                 Samuel Goldwyn Films   \n",
       "4        Lionsgate / StudioCanal / The Picture Company   \n",
       "..                                                 ...   \n",
       "265       Columbia Pictures / Gary Sanchez Productions   \n",
       "266          Annapurna Pictures / Plan B Entertainment   \n",
       "267                                     Focus Features   \n",
       "268                                 Annapurna Pictures   \n",
       "269                                            Netflix   \n",
       "\n",
       "                                         Cast and crew   Ref.  \n",
       "0    Adam Robitel (director); Leigh Whannell (scree...    [2]  \n",
       "1    Lauren Wolkstein (director); Christopher Radcl...    [3]  \n",
       "2    Simon West (director); Duncan Falconer, Warren...    [4]  \n",
       "3    Warwick Thornton (director); David Tranter, St...    [5]  \n",
       "4    Jaume Collet-Serra (director); Byron Willinger...    [6]  \n",
       "..                                                 ...    ...  \n",
       "265  Etan Cohen (director/screenplay); Will Ferrell...  [163]  \n",
       "266  Adam McKay (director/screenplay); Christian Ba...  [137]  \n",
       "267  Mimi Leder (director); Daniel Stiepleman (scre...  [226]  \n",
       "268  Karyn Kusama (director); Phil Hay, Matt Manfre...  [258]  \n",
       "269  David Slade (director); Charlie Brooker (scree...  [259]  \n",
       "\n",
       "[270 rows x 6 columns]"
      ]
     },
     "execution_count": 4,
     "metadata": {},
     "output_type": "execute_result"
    }
   ],
   "source": [
    "df"
   ]
  },
  {
   "cell_type": "markdown",
   "metadata": {},
   "source": [
    "### Deling with Null values"
   ]
  },
  {
   "cell_type": "code",
   "execution_count": 5,
   "metadata": {},
   "outputs": [
    {
     "data": {
      "text/plain": [
       "Opening               0\n",
       "Opening.1             0\n",
       "Title                 0\n",
       "Production company    0\n",
       "Cast and crew         0\n",
       "Ref.                  1\n",
       "dtype: int64"
      ]
     },
     "execution_count": 5,
     "metadata": {},
     "output_type": "execute_result"
    }
   ],
   "source": [
    "df.isnull().sum()"
   ]
  },
  {
   "cell_type": "code",
   "execution_count": 6,
   "metadata": {},
   "outputs": [
    {
     "name": "stdout",
     "output_type": "stream",
     "text": [
      "Requirement already satisfied: tmdbv3api in /home/mehant/anaconda3/lib/python3.8/site-packages (1.7.4)\n",
      "Requirement already satisfied: requests in /home/mehant/anaconda3/lib/python3.8/site-packages (from tmdbv3api) (2.24.0)\n",
      "Requirement already satisfied: idna<3,>=2.5 in /home/mehant/anaconda3/lib/python3.8/site-packages (from requests->tmdbv3api) (2.10)\n",
      "Requirement already satisfied: certifi>=2017.4.17 in /home/mehant/anaconda3/lib/python3.8/site-packages (from requests->tmdbv3api) (2020.6.20)\n",
      "Requirement already satisfied: chardet<4,>=3.0.2 in /home/mehant/anaconda3/lib/python3.8/site-packages (from requests->tmdbv3api) (3.0.4)\n",
      "Requirement already satisfied: urllib3!=1.25.0,!=1.25.1,<1.26,>=1.21.1 in /home/mehant/anaconda3/lib/python3.8/site-packages (from requests->tmdbv3api) (1.25.11)\n"
     ]
    }
   ],
   "source": [
    "!pip install tmdbv3api"
   ]
  },
  {
   "cell_type": "code",
   "execution_count": 7,
   "metadata": {},
   "outputs": [],
   "source": [
    "from tmdbv3api import TMDb\n",
    "import json\n",
    "import requests\n",
    "tmdb = TMDb()\n",
    "tmdb.api_key = 'e3dce8cf7d87efd38c89a43d9fe6d597'"
   ]
  },
  {
   "cell_type": "code",
   "execution_count": 8,
   "metadata": {},
   "outputs": [],
   "source": [
    "from tmdbv3api import Movie\n",
    "tmdb_movie = Movie()\n",
    "\n",
    "def get_genre(x):\n",
    "    genres = []\n",
    "    result = tmdb_movie.search(x)\n",
    "    movie_id = result[0].id\n",
    "    response = requests.get('https://api.themoviedb.org/3/movie/{}?api_key={}'.format(movie_id, tmdb.api_key))\n",
    "    json_data = response.json()\n",
    "    if json_data['genres']:\n",
    "        str_ = \" \"\n",
    "        for i in range(0, len(json_data['genres'])):\n",
    "            genres.append(json_data['genres'][i]['name'])\n",
    "        return str_.join(genres)\n",
    "    else:\n",
    "        np.NaN"
   ]
  },
  {
   "cell_type": "code",
   "execution_count": 9,
   "metadata": {},
   "outputs": [],
   "source": [
    "df['genres'] = df['Title'].map(lambda x: get_genre(str(x)))"
   ]
  },
  {
   "cell_type": "code",
   "execution_count": 10,
   "metadata": {},
   "outputs": [
    {
     "data": {
      "text/html": [
       "<div>\n",
       "<style scoped>\n",
       "    .dataframe tbody tr th:only-of-type {\n",
       "        vertical-align: middle;\n",
       "    }\n",
       "\n",
       "    .dataframe tbody tr th {\n",
       "        vertical-align: top;\n",
       "    }\n",
       "\n",
       "    .dataframe thead th {\n",
       "        text-align: right;\n",
       "    }\n",
       "</style>\n",
       "<table border=\"1\" class=\"dataframe\">\n",
       "  <thead>\n",
       "    <tr style=\"text-align: right;\">\n",
       "      <th></th>\n",
       "      <th>Opening</th>\n",
       "      <th>Opening.1</th>\n",
       "      <th>Title</th>\n",
       "      <th>Production company</th>\n",
       "      <th>Cast and crew</th>\n",
       "      <th>Ref.</th>\n",
       "      <th>genres</th>\n",
       "    </tr>\n",
       "  </thead>\n",
       "  <tbody>\n",
       "    <tr>\n",
       "      <th>0</th>\n",
       "      <td>JANUARY</td>\n",
       "      <td>5</td>\n",
       "      <td>Insidious: The Last Key</td>\n",
       "      <td>Universal Pictures / Blumhouse Productions / S...</td>\n",
       "      <td>Adam Robitel (director); Leigh Whannell (scree...</td>\n",
       "      <td>[2]</td>\n",
       "      <td>Horror Mystery Thriller</td>\n",
       "    </tr>\n",
       "    <tr>\n",
       "      <th>1</th>\n",
       "      <td>JANUARY</td>\n",
       "      <td>5</td>\n",
       "      <td>The Strange Ones</td>\n",
       "      <td>Vertical Entertainment</td>\n",
       "      <td>Lauren Wolkstein (director); Christopher Radcl...</td>\n",
       "      <td>[3]</td>\n",
       "      <td>Thriller Drama</td>\n",
       "    </tr>\n",
       "    <tr>\n",
       "      <th>2</th>\n",
       "      <td>JANUARY</td>\n",
       "      <td>5</td>\n",
       "      <td>Stratton</td>\n",
       "      <td>Momentum Pictures</td>\n",
       "      <td>Simon West (director); Duncan Falconer, Warren...</td>\n",
       "      <td>[4]</td>\n",
       "      <td>Action Thriller</td>\n",
       "    </tr>\n",
       "    <tr>\n",
       "      <th>3</th>\n",
       "      <td>JANUARY</td>\n",
       "      <td>10</td>\n",
       "      <td>Sweet Country</td>\n",
       "      <td>Samuel Goldwyn Films</td>\n",
       "      <td>Warwick Thornton (director); David Tranter, St...</td>\n",
       "      <td>[5]</td>\n",
       "      <td>Drama History Western</td>\n",
       "    </tr>\n",
       "    <tr>\n",
       "      <th>4</th>\n",
       "      <td>JANUARY</td>\n",
       "      <td>12</td>\n",
       "      <td>The Commuter</td>\n",
       "      <td>Lionsgate / StudioCanal / The Picture Company</td>\n",
       "      <td>Jaume Collet-Serra (director); Byron Willinger...</td>\n",
       "      <td>[6]</td>\n",
       "      <td>Action Thriller</td>\n",
       "    </tr>\n",
       "  </tbody>\n",
       "</table>\n",
       "</div>"
      ],
      "text/plain": [
       "   Opening  Opening.1                    Title  \\\n",
       "0  JANUARY          5  Insidious: The Last Key   \n",
       "1  JANUARY          5         The Strange Ones   \n",
       "2  JANUARY          5                 Stratton   \n",
       "3  JANUARY         10            Sweet Country   \n",
       "4  JANUARY         12             The Commuter   \n",
       "\n",
       "                                  Production company  \\\n",
       "0  Universal Pictures / Blumhouse Productions / S...   \n",
       "1                             Vertical Entertainment   \n",
       "2                                  Momentum Pictures   \n",
       "3                               Samuel Goldwyn Films   \n",
       "4      Lionsgate / StudioCanal / The Picture Company   \n",
       "\n",
       "                                       Cast and crew Ref.  \\\n",
       "0  Adam Robitel (director); Leigh Whannell (scree...  [2]   \n",
       "1  Lauren Wolkstein (director); Christopher Radcl...  [3]   \n",
       "2  Simon West (director); Duncan Falconer, Warren...  [4]   \n",
       "3  Warwick Thornton (director); David Tranter, St...  [5]   \n",
       "4  Jaume Collet-Serra (director); Byron Willinger...  [6]   \n",
       "\n",
       "                    genres  \n",
       "0  Horror Mystery Thriller  \n",
       "1           Thriller Drama  \n",
       "2          Action Thriller  \n",
       "3    Drama History Western  \n",
       "4          Action Thriller  "
      ]
     },
     "execution_count": 10,
     "metadata": {},
     "output_type": "execute_result"
    }
   ],
   "source": [
    "df.head()"
   ]
  },
  {
   "cell_type": "code",
   "execution_count": 11,
   "metadata": {},
   "outputs": [],
   "source": [
    "df_2018 = df[['Title','Cast and crew','genres']]"
   ]
  },
  {
   "cell_type": "code",
   "execution_count": 12,
   "metadata": {},
   "outputs": [
    {
     "data": {
      "text/html": [
       "<div>\n",
       "<style scoped>\n",
       "    .dataframe tbody tr th:only-of-type {\n",
       "        vertical-align: middle;\n",
       "    }\n",
       "\n",
       "    .dataframe tbody tr th {\n",
       "        vertical-align: top;\n",
       "    }\n",
       "\n",
       "    .dataframe thead th {\n",
       "        text-align: right;\n",
       "    }\n",
       "</style>\n",
       "<table border=\"1\" class=\"dataframe\">\n",
       "  <thead>\n",
       "    <tr style=\"text-align: right;\">\n",
       "      <th></th>\n",
       "      <th>Title</th>\n",
       "      <th>Cast and crew</th>\n",
       "      <th>genres</th>\n",
       "    </tr>\n",
       "  </thead>\n",
       "  <tbody>\n",
       "    <tr>\n",
       "      <th>0</th>\n",
       "      <td>Insidious: The Last Key</td>\n",
       "      <td>Adam Robitel (director); Leigh Whannell (scree...</td>\n",
       "      <td>Horror Mystery Thriller</td>\n",
       "    </tr>\n",
       "    <tr>\n",
       "      <th>1</th>\n",
       "      <td>The Strange Ones</td>\n",
       "      <td>Lauren Wolkstein (director); Christopher Radcl...</td>\n",
       "      <td>Thriller Drama</td>\n",
       "    </tr>\n",
       "    <tr>\n",
       "      <th>2</th>\n",
       "      <td>Stratton</td>\n",
       "      <td>Simon West (director); Duncan Falconer, Warren...</td>\n",
       "      <td>Action Thriller</td>\n",
       "    </tr>\n",
       "    <tr>\n",
       "      <th>3</th>\n",
       "      <td>Sweet Country</td>\n",
       "      <td>Warwick Thornton (director); David Tranter, St...</td>\n",
       "      <td>Drama History Western</td>\n",
       "    </tr>\n",
       "    <tr>\n",
       "      <th>4</th>\n",
       "      <td>The Commuter</td>\n",
       "      <td>Jaume Collet-Serra (director); Byron Willinger...</td>\n",
       "      <td>Action Thriller</td>\n",
       "    </tr>\n",
       "  </tbody>\n",
       "</table>\n",
       "</div>"
      ],
      "text/plain": [
       "                     Title                                      Cast and crew  \\\n",
       "0  Insidious: The Last Key  Adam Robitel (director); Leigh Whannell (scree...   \n",
       "1         The Strange Ones  Lauren Wolkstein (director); Christopher Radcl...   \n",
       "2                 Stratton  Simon West (director); Duncan Falconer, Warren...   \n",
       "3            Sweet Country  Warwick Thornton (director); David Tranter, St...   \n",
       "4             The Commuter  Jaume Collet-Serra (director); Byron Willinger...   \n",
       "\n",
       "                    genres  \n",
       "0  Horror Mystery Thriller  \n",
       "1           Thriller Drama  \n",
       "2          Action Thriller  \n",
       "3    Drama History Western  \n",
       "4          Action Thriller  "
      ]
     },
     "execution_count": 12,
     "metadata": {},
     "output_type": "execute_result"
    }
   ],
   "source": [
    "df_2018.head()"
   ]
  },
  {
   "cell_type": "code",
   "execution_count": 13,
   "metadata": {},
   "outputs": [
    {
     "data": {
      "text/plain": [
       "'Lin Shaye'"
      ]
     },
     "execution_count": 13,
     "metadata": {},
     "output_type": "execute_result"
    }
   ],
   "source": [
    "df_2018['Cast and crew'][0].partition('screenplay);')[-1].split(', ')[0].strip()\n",
    "# print(partitioned_string)"
   ]
  },
  {
   "cell_type": "code",
   "execution_count": 14,
   "metadata": {},
   "outputs": [],
   "source": [
    "def get_director(x):\n",
    "    if \" (director)\" in x:\n",
    "        return x.partition(' (director)')[0]\n",
    "    elif \" (directors)\" in x:\n",
    "        return x.partition(' (directors)')[0]\n",
    "    else:\n",
    "        return x.partition(' (director/screenplay)')[0]"
   ]
  },
  {
   "cell_type": "code",
   "execution_count": 15,
   "metadata": {},
   "outputs": [
    {
     "name": "stderr",
     "output_type": "stream",
     "text": [
      "<ipython-input-15-4838efec492a>:1: SettingWithCopyWarning: \n",
      "A value is trying to be set on a copy of a slice from a DataFrame.\n",
      "Try using .loc[row_indexer,col_indexer] = value instead\n",
      "\n",
      "See the caveats in the documentation: https://pandas.pydata.org/pandas-docs/stable/user_guide/indexing.html#returning-a-view-versus-a-copy\n",
      "  df_2018['director_name'] = df_2018['Cast and crew'].map(lambda x: get_director(x))\n"
     ]
    }
   ],
   "source": [
    "df_2018['director_name'] = df_2018['Cast and crew'].map(lambda x: get_director(x))"
   ]
  },
  {
   "cell_type": "code",
   "execution_count": 16,
   "metadata": {},
   "outputs": [],
   "source": [
    "def get_actor1(x):\n",
    "    return ((x.partition(\"screenplay); \")[-1]).split(\", \")[0]).strip()"
   ]
  },
  {
   "cell_type": "code",
   "execution_count": 17,
   "metadata": {},
   "outputs": [
    {
     "name": "stderr",
     "output_type": "stream",
     "text": [
      "<ipython-input-17-4c5abb571cf8>:1: SettingWithCopyWarning: \n",
      "A value is trying to be set on a copy of a slice from a DataFrame.\n",
      "Try using .loc[row_indexer,col_indexer] = value instead\n",
      "\n",
      "See the caveats in the documentation: https://pandas.pydata.org/pandas-docs/stable/user_guide/indexing.html#returning-a-view-versus-a-copy\n",
      "  df_2018['actor1'] = df_2018['Cast and crew'].map(lambda x: get_actor1(x))\n"
     ]
    }
   ],
   "source": [
    "df_2018['actor1'] = df_2018['Cast and crew'].map(lambda x: get_actor1(x))"
   ]
  },
  {
   "cell_type": "code",
   "execution_count": 18,
   "metadata": {},
   "outputs": [],
   "source": [
    "def get_actor2(x):\n",
    "    if len((x.split(\"screenplay); \")[-1]).split(\", \")) < 2:\n",
    "        return np.NaN\n",
    "    else:\n",
    "        return ((x.split(\"screenplay); \")[-1]).split(\", \")[1])"
   ]
  },
  {
   "cell_type": "code",
   "execution_count": 19,
   "metadata": {},
   "outputs": [
    {
     "name": "stderr",
     "output_type": "stream",
     "text": [
      "<ipython-input-19-050fb08fc984>:1: SettingWithCopyWarning: \n",
      "A value is trying to be set on a copy of a slice from a DataFrame.\n",
      "Try using .loc[row_indexer,col_indexer] = value instead\n",
      "\n",
      "See the caveats in the documentation: https://pandas.pydata.org/pandas-docs/stable/user_guide/indexing.html#returning-a-view-versus-a-copy\n",
      "  df_2018['actor2'] = df_2018['Cast and crew'].map(lambda x: get_actor2(x))\n"
     ]
    }
   ],
   "source": [
    "df_2018['actor2'] = df_2018['Cast and crew'].map(lambda x: get_actor2(x))"
   ]
  },
  {
   "cell_type": "code",
   "execution_count": 20,
   "metadata": {},
   "outputs": [],
   "source": [
    "def get_actor3(x):\n",
    "    if len((x.split(\"screenplay); \")[-1]).split(\", \")) < 3:\n",
    "        return np.NaN\n",
    "    else:\n",
    "        return ((x.split(\"screenplay); \")[-1]).split(\", \")[2])"
   ]
  },
  {
   "cell_type": "code",
   "execution_count": 21,
   "metadata": {},
   "outputs": [],
   "source": [
    "df_2018['actor3'] = df_2018['Cast and crew'].map(lambda x: get_actor3(x))"
   ]
  },
  {
   "cell_type": "code",
   "execution_count": 22,
   "metadata": {},
   "outputs": [],
   "source": [
    "df_2018.drop(columns={'Cast and crew'}, inplace=True)"
   ]
  },
  {
   "cell_type": "code",
   "execution_count": 23,
   "metadata": {},
   "outputs": [
    {
     "data": {
      "text/html": [
       "<div>\n",
       "<style scoped>\n",
       "    .dataframe tbody tr th:only-of-type {\n",
       "        vertical-align: middle;\n",
       "    }\n",
       "\n",
       "    .dataframe tbody tr th {\n",
       "        vertical-align: top;\n",
       "    }\n",
       "\n",
       "    .dataframe thead th {\n",
       "        text-align: right;\n",
       "    }\n",
       "</style>\n",
       "<table border=\"1\" class=\"dataframe\">\n",
       "  <thead>\n",
       "    <tr style=\"text-align: right;\">\n",
       "      <th></th>\n",
       "      <th>Title</th>\n",
       "      <th>genres</th>\n",
       "      <th>director_name</th>\n",
       "      <th>actor1</th>\n",
       "      <th>actor2</th>\n",
       "      <th>actor3</th>\n",
       "    </tr>\n",
       "  </thead>\n",
       "  <tbody>\n",
       "    <tr>\n",
       "      <th>0</th>\n",
       "      <td>Insidious: The Last Key</td>\n",
       "      <td>Horror Mystery Thriller</td>\n",
       "      <td>Adam Robitel</td>\n",
       "      <td>Lin Shaye</td>\n",
       "      <td>Angus Sampson</td>\n",
       "      <td>Leigh Whannell</td>\n",
       "    </tr>\n",
       "    <tr>\n",
       "      <th>1</th>\n",
       "      <td>The Strange Ones</td>\n",
       "      <td>Thriller Drama</td>\n",
       "      <td>Lauren Wolkstein</td>\n",
       "      <td>Alex Pettyfer</td>\n",
       "      <td>James Freedson-Jackson</td>\n",
       "      <td>Emily Althaus</td>\n",
       "    </tr>\n",
       "    <tr>\n",
       "      <th>2</th>\n",
       "      <td>Stratton</td>\n",
       "      <td>Action Thriller</td>\n",
       "      <td>Simon West</td>\n",
       "      <td>Dominic Cooper</td>\n",
       "      <td>Austin Stowell</td>\n",
       "      <td>Gemma Chan</td>\n",
       "    </tr>\n",
       "    <tr>\n",
       "      <th>3</th>\n",
       "      <td>Sweet Country</td>\n",
       "      <td>Drama History Western</td>\n",
       "      <td>Warwick Thornton</td>\n",
       "      <td>Bryan Brown</td>\n",
       "      <td>Sam Neill</td>\n",
       "      <td>NaN</td>\n",
       "    </tr>\n",
       "    <tr>\n",
       "      <th>4</th>\n",
       "      <td>The Commuter</td>\n",
       "      <td>Action Thriller</td>\n",
       "      <td>Jaume Collet-Serra</td>\n",
       "      <td>Liam Neeson</td>\n",
       "      <td>Vera Farmiga</td>\n",
       "      <td>Patrick Wilson</td>\n",
       "    </tr>\n",
       "  </tbody>\n",
       "</table>\n",
       "</div>"
      ],
      "text/plain": [
       "                     Title                   genres       director_name  \\\n",
       "0  Insidious: The Last Key  Horror Mystery Thriller        Adam Robitel   \n",
       "1         The Strange Ones           Thriller Drama    Lauren Wolkstein   \n",
       "2                 Stratton          Action Thriller          Simon West   \n",
       "3            Sweet Country    Drama History Western    Warwick Thornton   \n",
       "4             The Commuter          Action Thriller  Jaume Collet-Serra   \n",
       "\n",
       "           actor1                  actor2          actor3  \n",
       "0       Lin Shaye           Angus Sampson  Leigh Whannell  \n",
       "1   Alex Pettyfer  James Freedson-Jackson   Emily Althaus  \n",
       "2  Dominic Cooper          Austin Stowell      Gemma Chan  \n",
       "3     Bryan Brown               Sam Neill             NaN  \n",
       "4     Liam Neeson            Vera Farmiga  Patrick Wilson  "
      ]
     },
     "execution_count": 23,
     "metadata": {},
     "output_type": "execute_result"
    }
   ],
   "source": [
    "df_2018.head()"
   ]
  },
  {
   "cell_type": "markdown",
   "metadata": {},
   "source": [
    "### Deling with NaN values"
   ]
  },
  {
   "cell_type": "code",
   "execution_count": 24,
   "metadata": {},
   "outputs": [
    {
     "data": {
      "text/plain": [
       "Title             0\n",
       "genres            3\n",
       "director_name     0\n",
       "actor1            0\n",
       "actor2            9\n",
       "actor3           26\n",
       "dtype: int64"
      ]
     },
     "execution_count": 24,
     "metadata": {},
     "output_type": "execute_result"
    }
   ],
   "source": [
    "df_2018.isna().sum()"
   ]
  },
  {
   "cell_type": "code",
   "execution_count": 25,
   "metadata": {},
   "outputs": [],
   "source": [
    "df_2018.fillna('', inplace=True)"
   ]
  },
  {
   "cell_type": "code",
   "execution_count": 26,
   "metadata": {},
   "outputs": [
    {
     "data": {
      "text/plain": [
       "Title            0\n",
       "genres           0\n",
       "director_name    0\n",
       "actor1           0\n",
       "actor2           0\n",
       "actor3           0\n",
       "dtype: int64"
      ]
     },
     "execution_count": 26,
     "metadata": {},
     "output_type": "execute_result"
    }
   ],
   "source": [
    "df_2018.isna().sum()"
   ]
  },
  {
   "cell_type": "code",
   "execution_count": 27,
   "metadata": {},
   "outputs": [],
   "source": [
    "df_2018 = df_2018.rename(columns={'Title':'title', 'director_name':'director'})"
   ]
  },
  {
   "cell_type": "code",
   "execution_count": 28,
   "metadata": {},
   "outputs": [],
   "source": [
    "df_2018['comb'] = df_2018.actor1 + ' ' + df_2018.actor2 + ' ' + df_2018.actor3 + ' ' + df_2018.director + ' ' + df_2018.genres"
   ]
  },
  {
   "cell_type": "code",
   "execution_count": 29,
   "metadata": {},
   "outputs": [],
   "source": [
    "df_2018['title'] = df_2018['title'].str.lower()"
   ]
  },
  {
   "cell_type": "code",
   "execution_count": 30,
   "metadata": {},
   "outputs": [
    {
     "data": {
      "text/html": [
       "<div>\n",
       "<style scoped>\n",
       "    .dataframe tbody tr th:only-of-type {\n",
       "        vertical-align: middle;\n",
       "    }\n",
       "\n",
       "    .dataframe tbody tr th {\n",
       "        vertical-align: top;\n",
       "    }\n",
       "\n",
       "    .dataframe thead th {\n",
       "        text-align: right;\n",
       "    }\n",
       "</style>\n",
       "<table border=\"1\" class=\"dataframe\">\n",
       "  <thead>\n",
       "    <tr style=\"text-align: right;\">\n",
       "      <th></th>\n",
       "      <th>title</th>\n",
       "      <th>genres</th>\n",
       "      <th>director</th>\n",
       "      <th>actor1</th>\n",
       "      <th>actor2</th>\n",
       "      <th>actor3</th>\n",
       "      <th>comb</th>\n",
       "    </tr>\n",
       "  </thead>\n",
       "  <tbody>\n",
       "    <tr>\n",
       "      <th>0</th>\n",
       "      <td>insidious: the last key</td>\n",
       "      <td>Horror Mystery Thriller</td>\n",
       "      <td>Adam Robitel</td>\n",
       "      <td>Lin Shaye</td>\n",
       "      <td>Angus Sampson</td>\n",
       "      <td>Leigh Whannell</td>\n",
       "      <td>Lin Shaye Angus Sampson Leigh Whannell Adam Ro...</td>\n",
       "    </tr>\n",
       "    <tr>\n",
       "      <th>1</th>\n",
       "      <td>the strange ones</td>\n",
       "      <td>Thriller Drama</td>\n",
       "      <td>Lauren Wolkstein</td>\n",
       "      <td>Alex Pettyfer</td>\n",
       "      <td>James Freedson-Jackson</td>\n",
       "      <td>Emily Althaus</td>\n",
       "      <td>Alex Pettyfer James Freedson-Jackson Emily Alt...</td>\n",
       "    </tr>\n",
       "    <tr>\n",
       "      <th>2</th>\n",
       "      <td>stratton</td>\n",
       "      <td>Action Thriller</td>\n",
       "      <td>Simon West</td>\n",
       "      <td>Dominic Cooper</td>\n",
       "      <td>Austin Stowell</td>\n",
       "      <td>Gemma Chan</td>\n",
       "      <td>Dominic Cooper Austin Stowell Gemma Chan Simon...</td>\n",
       "    </tr>\n",
       "    <tr>\n",
       "      <th>3</th>\n",
       "      <td>sweet country</td>\n",
       "      <td>Drama History Western</td>\n",
       "      <td>Warwick Thornton</td>\n",
       "      <td>Bryan Brown</td>\n",
       "      <td>Sam Neill</td>\n",
       "      <td></td>\n",
       "      <td>Bryan Brown Sam Neill  Warwick Thornton Drama ...</td>\n",
       "    </tr>\n",
       "    <tr>\n",
       "      <th>4</th>\n",
       "      <td>the commuter</td>\n",
       "      <td>Action Thriller</td>\n",
       "      <td>Jaume Collet-Serra</td>\n",
       "      <td>Liam Neeson</td>\n",
       "      <td>Vera Farmiga</td>\n",
       "      <td>Patrick Wilson</td>\n",
       "      <td>Liam Neeson Vera Farmiga Patrick Wilson Jaume ...</td>\n",
       "    </tr>\n",
       "    <tr>\n",
       "      <th>...</th>\n",
       "      <td>...</td>\n",
       "      <td>...</td>\n",
       "      <td>...</td>\n",
       "      <td>...</td>\n",
       "      <td>...</td>\n",
       "      <td>...</td>\n",
       "      <td>...</td>\n",
       "    </tr>\n",
       "    <tr>\n",
       "      <th>265</th>\n",
       "      <td>holmes &amp; watson</td>\n",
       "      <td>Mystery Adventure Comedy Crime</td>\n",
       "      <td>Etan Cohen</td>\n",
       "      <td>Will Ferrell</td>\n",
       "      <td>John C. Reilly</td>\n",
       "      <td>Rebecca Hall</td>\n",
       "      <td>Will Ferrell John C. Reilly Rebecca Hall Etan ...</td>\n",
       "    </tr>\n",
       "    <tr>\n",
       "      <th>266</th>\n",
       "      <td>vice</td>\n",
       "      <td>Thriller Science Fiction Action Adventure</td>\n",
       "      <td>Adam McKay</td>\n",
       "      <td>Christian Bale</td>\n",
       "      <td>Amy Adams</td>\n",
       "      <td>Steve Carell</td>\n",
       "      <td>Christian Bale Amy Adams Steve Carell Adam McK...</td>\n",
       "    </tr>\n",
       "    <tr>\n",
       "      <th>267</th>\n",
       "      <td>on the basis of sex</td>\n",
       "      <td>Drama History</td>\n",
       "      <td>Mimi Leder</td>\n",
       "      <td>Felicity Jones</td>\n",
       "      <td>Armie Hammer</td>\n",
       "      <td>Justin Theroux</td>\n",
       "      <td>Felicity Jones Armie Hammer Justin Theroux Mim...</td>\n",
       "    </tr>\n",
       "    <tr>\n",
       "      <th>268</th>\n",
       "      <td>destroyer</td>\n",
       "      <td>Thriller Crime Drama Action</td>\n",
       "      <td>Karyn Kusama</td>\n",
       "      <td>Nicole Kidman</td>\n",
       "      <td>Sebastian Stan</td>\n",
       "      <td>Toby Kebbell</td>\n",
       "      <td>Nicole Kidman Sebastian Stan Toby Kebbell Kary...</td>\n",
       "    </tr>\n",
       "    <tr>\n",
       "      <th>269</th>\n",
       "      <td>black mirror: bandersnatch</td>\n",
       "      <td>Science Fiction Mystery Drama Thriller TV Movie</td>\n",
       "      <td>David Slade</td>\n",
       "      <td>Fionn Whitehead</td>\n",
       "      <td>Will Poulter</td>\n",
       "      <td>Asim Chaudhry</td>\n",
       "      <td>Fionn Whitehead Will Poulter Asim Chaudhry Dav...</td>\n",
       "    </tr>\n",
       "  </tbody>\n",
       "</table>\n",
       "<p>270 rows × 7 columns</p>\n",
       "</div>"
      ],
      "text/plain": [
       "                          title  \\\n",
       "0       insidious: the last key   \n",
       "1              the strange ones   \n",
       "2                      stratton   \n",
       "3                 sweet country   \n",
       "4                  the commuter   \n",
       "..                          ...   \n",
       "265             holmes & watson   \n",
       "266                        vice   \n",
       "267         on the basis of sex   \n",
       "268                   destroyer   \n",
       "269  black mirror: bandersnatch   \n",
       "\n",
       "                                              genres            director  \\\n",
       "0                            Horror Mystery Thriller        Adam Robitel   \n",
       "1                                     Thriller Drama    Lauren Wolkstein   \n",
       "2                                    Action Thriller          Simon West   \n",
       "3                              Drama History Western    Warwick Thornton   \n",
       "4                                    Action Thriller  Jaume Collet-Serra   \n",
       "..                                               ...                 ...   \n",
       "265                   Mystery Adventure Comedy Crime          Etan Cohen   \n",
       "266        Thriller Science Fiction Action Adventure          Adam McKay   \n",
       "267                                    Drama History          Mimi Leder   \n",
       "268                      Thriller Crime Drama Action        Karyn Kusama   \n",
       "269  Science Fiction Mystery Drama Thriller TV Movie         David Slade   \n",
       "\n",
       "              actor1                  actor2          actor3  \\\n",
       "0          Lin Shaye           Angus Sampson  Leigh Whannell   \n",
       "1      Alex Pettyfer  James Freedson-Jackson   Emily Althaus   \n",
       "2     Dominic Cooper          Austin Stowell      Gemma Chan   \n",
       "3        Bryan Brown               Sam Neill                   \n",
       "4        Liam Neeson            Vera Farmiga  Patrick Wilson   \n",
       "..               ...                     ...             ...   \n",
       "265     Will Ferrell          John C. Reilly    Rebecca Hall   \n",
       "266   Christian Bale               Amy Adams    Steve Carell   \n",
       "267   Felicity Jones            Armie Hammer  Justin Theroux   \n",
       "268    Nicole Kidman          Sebastian Stan    Toby Kebbell   \n",
       "269  Fionn Whitehead            Will Poulter   Asim Chaudhry   \n",
       "\n",
       "                                                  comb  \n",
       "0    Lin Shaye Angus Sampson Leigh Whannell Adam Ro...  \n",
       "1    Alex Pettyfer James Freedson-Jackson Emily Alt...  \n",
       "2    Dominic Cooper Austin Stowell Gemma Chan Simon...  \n",
       "3    Bryan Brown Sam Neill  Warwick Thornton Drama ...  \n",
       "4    Liam Neeson Vera Farmiga Patrick Wilson Jaume ...  \n",
       "..                                                 ...  \n",
       "265  Will Ferrell John C. Reilly Rebecca Hall Etan ...  \n",
       "266  Christian Bale Amy Adams Steve Carell Adam McK...  \n",
       "267  Felicity Jones Armie Hammer Justin Theroux Mim...  \n",
       "268  Nicole Kidman Sebastian Stan Toby Kebbell Kary...  \n",
       "269  Fionn Whitehead Will Poulter Asim Chaudhry Dav...  \n",
       "\n",
       "[270 rows x 7 columns]"
      ]
     },
     "execution_count": 30,
     "metadata": {},
     "output_type": "execute_result"
    }
   ],
   "source": [
    "df_2018"
   ]
  },
  {
   "cell_type": "code",
   "execution_count": 31,
   "metadata": {},
   "outputs": [],
   "source": [
    "df_2018.to_csv(\"wiki_2018.csv\", index=False)"
   ]
  }
 ],
 "metadata": {
  "kernelspec": {
   "display_name": "Python 3",
   "language": "python",
   "name": "python3"
  },
  "language_info": {
   "codemirror_mode": {
    "name": "ipython",
    "version": 3
   },
   "file_extension": ".py",
   "mimetype": "text/x-python",
   "name": "python",
   "nbconvert_exporter": "python",
   "pygments_lexer": "ipython3",
   "version": "3.8.5"
  }
 },
 "nbformat": 4,
 "nbformat_minor": 4
}
