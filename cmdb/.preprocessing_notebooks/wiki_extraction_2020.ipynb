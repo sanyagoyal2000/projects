{
 "cells": [
  {
   "cell_type": "code",
   "execution_count": 50,
   "metadata": {},
   "outputs": [],
   "source": [
    "import numpy as np\n",
    "import pandas as pd\n",
    "import json, requests\n",
    "from tmdbv3api import TMDb\n",
    "tmdb = TMDb()\n",
    "tmdb.api_key = 'e3dce8cf7d87efd38c89a43d9fe6d597'"
   ]
  },
  {
   "cell_type": "code",
   "execution_count": 51,
   "metadata": {},
   "outputs": [],
   "source": [
    "link = \"https://en.wikipedia.org/wiki/List_of_American_films_of_2020\"\n",
    "df1 = pd.read_html(link, header=0)[3]\n",
    "df2 = pd.read_html(link, header=0)[4]\n",
    "df3 = pd.read_html(link, header=0)[5]\n",
    "df4 = pd.read_html(link, header=0)[6]"
   ]
  },
  {
   "cell_type": "code",
   "execution_count": 52,
   "metadata": {},
   "outputs": [],
   "source": [
    "df = df1.append(df2.append(df3.append(df4, ignore_index=True), ignore_index=True), ignore_index=True)"
   ]
  },
  {
   "cell_type": "code",
   "execution_count": 53,
   "metadata": {},
   "outputs": [
    {
     "data": {
      "text/plain": [
       "Opening                0\n",
       "Opening.1              0\n",
       "Title                  0\n",
       "Production company     0\n",
       "Cast and crew          0\n",
       "Ref.                  27\n",
       "dtype: int64"
      ]
     },
     "execution_count": 53,
     "metadata": {},
     "output_type": "execute_result"
    }
   ],
   "source": [
    "df.isnull().sum()"
   ]
  },
  {
   "cell_type": "code",
   "execution_count": 54,
   "metadata": {},
   "outputs": [
    {
     "data": {
      "text/html": [
       "<div>\n",
       "<style scoped>\n",
       "    .dataframe tbody tr th:only-of-type {\n",
       "        vertical-align: middle;\n",
       "    }\n",
       "\n",
       "    .dataframe tbody tr th {\n",
       "        vertical-align: top;\n",
       "    }\n",
       "\n",
       "    .dataframe thead th {\n",
       "        text-align: right;\n",
       "    }\n",
       "</style>\n",
       "<table border=\"1\" class=\"dataframe\">\n",
       "  <thead>\n",
       "    <tr style=\"text-align: right;\">\n",
       "      <th></th>\n",
       "      <th>Opening</th>\n",
       "      <th>Opening.1</th>\n",
       "      <th>Title</th>\n",
       "      <th>Production company</th>\n",
       "      <th>Cast and crew</th>\n",
       "      <th>Ref.</th>\n",
       "    </tr>\n",
       "  </thead>\n",
       "  <tbody>\n",
       "    <tr>\n",
       "      <th>0</th>\n",
       "      <td>JANUARY</td>\n",
       "      <td>3</td>\n",
       "      <td>The Grudge</td>\n",
       "      <td>Screen Gems / Stage 6 Films / Ghost House Pict...</td>\n",
       "      <td>Nicolas Pesce (director/screenplay); Andrea Ri...</td>\n",
       "      <td>[2]</td>\n",
       "    </tr>\n",
       "    <tr>\n",
       "      <th>1</th>\n",
       "      <td>JANUARY</td>\n",
       "      <td>10</td>\n",
       "      <td>Underwater</td>\n",
       "      <td>20th Century Fox / TSG Entertainment / Chernin...</td>\n",
       "      <td>William Eubank (director); Brian Duffield, Ada...</td>\n",
       "      <td>[3]</td>\n",
       "    </tr>\n",
       "    <tr>\n",
       "      <th>2</th>\n",
       "      <td>JANUARY</td>\n",
       "      <td>10</td>\n",
       "      <td>Like a Boss</td>\n",
       "      <td>Paramount Pictures</td>\n",
       "      <td>Miguel Arteta (director); Sam Pitman, Adam Col...</td>\n",
       "      <td>[4]</td>\n",
       "    </tr>\n",
       "    <tr>\n",
       "      <th>3</th>\n",
       "      <td>JANUARY</td>\n",
       "      <td>10</td>\n",
       "      <td>Three Christs</td>\n",
       "      <td>IFC Films</td>\n",
       "      <td>Jon Avnet (director/screenplay); Eric Nazarian...</td>\n",
       "      <td>NaN</td>\n",
       "    </tr>\n",
       "    <tr>\n",
       "      <th>4</th>\n",
       "      <td>JANUARY</td>\n",
       "      <td>10</td>\n",
       "      <td>Inherit the Viper</td>\n",
       "      <td>Barry Films / Tycor International Film Company</td>\n",
       "      <td>Anthony Jerjen (director); Andrew Crabtree (sc...</td>\n",
       "      <td>[5]</td>\n",
       "    </tr>\n",
       "  </tbody>\n",
       "</table>\n",
       "</div>"
      ],
      "text/plain": [
       "   Opening  Opening.1              Title  \\\n",
       "0  JANUARY          3         The Grudge   \n",
       "1  JANUARY         10         Underwater   \n",
       "2  JANUARY         10        Like a Boss   \n",
       "3  JANUARY         10      Three Christs   \n",
       "4  JANUARY         10  Inherit the Viper   \n",
       "\n",
       "                                  Production company  \\\n",
       "0  Screen Gems / Stage 6 Films / Ghost House Pict...   \n",
       "1  20th Century Fox / TSG Entertainment / Chernin...   \n",
       "2                                 Paramount Pictures   \n",
       "3                                          IFC Films   \n",
       "4     Barry Films / Tycor International Film Company   \n",
       "\n",
       "                                       Cast and crew Ref.  \n",
       "0  Nicolas Pesce (director/screenplay); Andrea Ri...  [2]  \n",
       "1  William Eubank (director); Brian Duffield, Ada...  [3]  \n",
       "2  Miguel Arteta (director); Sam Pitman, Adam Col...  [4]  \n",
       "3  Jon Avnet (director/screenplay); Eric Nazarian...  NaN  \n",
       "4  Anthony Jerjen (director); Andrew Crabtree (sc...  [5]  "
      ]
     },
     "execution_count": 54,
     "metadata": {},
     "output_type": "execute_result"
    }
   ],
   "source": [
    "df.head()"
   ]
  },
  {
   "cell_type": "code",
   "execution_count": 55,
   "metadata": {},
   "outputs": [],
   "source": [
    "from tmdbv3api import Movie\n",
    "tmdb_movie = Movie()\n",
    "\n",
    "def get_genre(x):\n",
    "    genres = []\n",
    "    result = tmdb_movie.search(x)\n",
    "    try:\n",
    "        movie_id = result[0].id\n",
    "        response = requests.get('https://api.themoviedb.org/3/movie/{}?api_key={}'.format(movie_id, tmdb.api_key))\n",
    "        json_data = response.json()\n",
    "        if json_data['genres']:\n",
    "            str_ = \" \"\n",
    "            for i in range(0, len(json_data['genres'])):\n",
    "                genres.append(json_data['genres'][i]['name'])\n",
    "            return str_.join(genres)\n",
    "        else:\n",
    "            return np.NaN\n",
    "    except IndexError:\n",
    "        return np.NaN\n",
    "        "
   ]
  },
  {
   "cell_type": "code",
   "execution_count": 56,
   "metadata": {},
   "outputs": [],
   "source": [
    "df['genres'] = df['Title'].map(lambda x: get_genre(str(x)))"
   ]
  },
  {
   "cell_type": "code",
   "execution_count": 57,
   "metadata": {},
   "outputs": [
    {
     "data": {
      "text/html": [
       "<div>\n",
       "<style scoped>\n",
       "    .dataframe tbody tr th:only-of-type {\n",
       "        vertical-align: middle;\n",
       "    }\n",
       "\n",
       "    .dataframe tbody tr th {\n",
       "        vertical-align: top;\n",
       "    }\n",
       "\n",
       "    .dataframe thead th {\n",
       "        text-align: right;\n",
       "    }\n",
       "</style>\n",
       "<table border=\"1\" class=\"dataframe\">\n",
       "  <thead>\n",
       "    <tr style=\"text-align: right;\">\n",
       "      <th></th>\n",
       "      <th>Opening</th>\n",
       "      <th>Opening.1</th>\n",
       "      <th>Title</th>\n",
       "      <th>Production company</th>\n",
       "      <th>Cast and crew</th>\n",
       "      <th>Ref.</th>\n",
       "      <th>genres</th>\n",
       "    </tr>\n",
       "  </thead>\n",
       "  <tbody>\n",
       "    <tr>\n",
       "      <th>0</th>\n",
       "      <td>JANUARY</td>\n",
       "      <td>3</td>\n",
       "      <td>The Grudge</td>\n",
       "      <td>Screen Gems / Stage 6 Films / Ghost House Pict...</td>\n",
       "      <td>Nicolas Pesce (director/screenplay); Andrea Ri...</td>\n",
       "      <td>[2]</td>\n",
       "      <td>Horror Mystery Thriller</td>\n",
       "    </tr>\n",
       "    <tr>\n",
       "      <th>1</th>\n",
       "      <td>JANUARY</td>\n",
       "      <td>10</td>\n",
       "      <td>Underwater</td>\n",
       "      <td>20th Century Fox / TSG Entertainment / Chernin...</td>\n",
       "      <td>William Eubank (director); Brian Duffield, Ada...</td>\n",
       "      <td>[3]</td>\n",
       "      <td>Action Horror Science Fiction Thriller</td>\n",
       "    </tr>\n",
       "    <tr>\n",
       "      <th>2</th>\n",
       "      <td>JANUARY</td>\n",
       "      <td>10</td>\n",
       "      <td>Like a Boss</td>\n",
       "      <td>Paramount Pictures</td>\n",
       "      <td>Miguel Arteta (director); Sam Pitman, Adam Col...</td>\n",
       "      <td>[4]</td>\n",
       "      <td>Comedy</td>\n",
       "    </tr>\n",
       "    <tr>\n",
       "      <th>3</th>\n",
       "      <td>JANUARY</td>\n",
       "      <td>10</td>\n",
       "      <td>Three Christs</td>\n",
       "      <td>IFC Films</td>\n",
       "      <td>Jon Avnet (director/screenplay); Eric Nazarian...</td>\n",
       "      <td>NaN</td>\n",
       "      <td>Drama</td>\n",
       "    </tr>\n",
       "    <tr>\n",
       "      <th>4</th>\n",
       "      <td>JANUARY</td>\n",
       "      <td>10</td>\n",
       "      <td>Inherit the Viper</td>\n",
       "      <td>Barry Films / Tycor International Film Company</td>\n",
       "      <td>Anthony Jerjen (director); Andrew Crabtree (sc...</td>\n",
       "      <td>[5]</td>\n",
       "      <td>Drama Thriller Crime</td>\n",
       "    </tr>\n",
       "  </tbody>\n",
       "</table>\n",
       "</div>"
      ],
      "text/plain": [
       "   Opening  Opening.1              Title  \\\n",
       "0  JANUARY          3         The Grudge   \n",
       "1  JANUARY         10         Underwater   \n",
       "2  JANUARY         10        Like a Boss   \n",
       "3  JANUARY         10      Three Christs   \n",
       "4  JANUARY         10  Inherit the Viper   \n",
       "\n",
       "                                  Production company  \\\n",
       "0  Screen Gems / Stage 6 Films / Ghost House Pict...   \n",
       "1  20th Century Fox / TSG Entertainment / Chernin...   \n",
       "2                                 Paramount Pictures   \n",
       "3                                          IFC Films   \n",
       "4     Barry Films / Tycor International Film Company   \n",
       "\n",
       "                                       Cast and crew Ref.  \\\n",
       "0  Nicolas Pesce (director/screenplay); Andrea Ri...  [2]   \n",
       "1  William Eubank (director); Brian Duffield, Ada...  [3]   \n",
       "2  Miguel Arteta (director); Sam Pitman, Adam Col...  [4]   \n",
       "3  Jon Avnet (director/screenplay); Eric Nazarian...  NaN   \n",
       "4  Anthony Jerjen (director); Andrew Crabtree (sc...  [5]   \n",
       "\n",
       "                                   genres  \n",
       "0                 Horror Mystery Thriller  \n",
       "1  Action Horror Science Fiction Thriller  \n",
       "2                                  Comedy  \n",
       "3                                   Drama  \n",
       "4                    Drama Thriller Crime  "
      ]
     },
     "execution_count": 57,
     "metadata": {},
     "output_type": "execute_result"
    }
   ],
   "source": [
    "df.head()"
   ]
  },
  {
   "cell_type": "code",
   "execution_count": 58,
   "metadata": {},
   "outputs": [],
   "source": [
    "df_2020 = df[['Title','Cast and crew', 'genres']]"
   ]
  },
  {
   "cell_type": "code",
   "execution_count": 59,
   "metadata": {},
   "outputs": [
    {
     "data": {
      "text/plain": [
       "Title            0\n",
       "Cast and crew    0\n",
       "genres           1\n",
       "dtype: int64"
      ]
     },
     "execution_count": 59,
     "metadata": {},
     "output_type": "execute_result"
    }
   ],
   "source": [
    "df_2020.isna().sum()"
   ]
  },
  {
   "cell_type": "code",
   "execution_count": 60,
   "metadata": {},
   "outputs": [
    {
     "data": {
      "text/html": [
       "<div>\n",
       "<style scoped>\n",
       "    .dataframe tbody tr th:only-of-type {\n",
       "        vertical-align: middle;\n",
       "    }\n",
       "\n",
       "    .dataframe tbody tr th {\n",
       "        vertical-align: top;\n",
       "    }\n",
       "\n",
       "    .dataframe thead th {\n",
       "        text-align: right;\n",
       "    }\n",
       "</style>\n",
       "<table border=\"1\" class=\"dataframe\">\n",
       "  <thead>\n",
       "    <tr style=\"text-align: right;\">\n",
       "      <th></th>\n",
       "      <th>Title</th>\n",
       "      <th>Cast and crew</th>\n",
       "      <th>genres</th>\n",
       "    </tr>\n",
       "  </thead>\n",
       "  <tbody>\n",
       "    <tr>\n",
       "      <th>159</th>\n",
       "      <td>Killian &amp; the Comeback Kids</td>\n",
       "      <td>Taylor A. Purdee (director/screenplay); Taylor...</td>\n",
       "      <td>NaN</td>\n",
       "    </tr>\n",
       "  </tbody>\n",
       "</table>\n",
       "</div>"
      ],
      "text/plain": [
       "                           Title  \\\n",
       "159  Killian & the Comeback Kids   \n",
       "\n",
       "                                         Cast and crew genres  \n",
       "159  Taylor A. Purdee (director/screenplay); Taylor...    NaN  "
      ]
     },
     "execution_count": 60,
     "metadata": {},
     "output_type": "execute_result"
    }
   ],
   "source": [
    "df_2020[df_2020['genres'].isnull()]"
   ]
  },
  {
   "cell_type": "code",
   "execution_count": 61,
   "metadata": {},
   "outputs": [
    {
     "name": "stderr",
     "output_type": "stream",
     "text": [
      "/home/mehant/anaconda3/lib/python3.8/site-packages/pandas/core/frame.py:4317: SettingWithCopyWarning: \n",
      "A value is trying to be set on a copy of a slice from a DataFrame\n",
      "\n",
      "See the caveats in the documentation: https://pandas.pydata.org/pandas-docs/stable/user_guide/indexing.html#returning-a-view-versus-a-copy\n",
      "  return super().fillna(\n"
     ]
    }
   ],
   "source": [
    "df_2020.fillna('', inplace=True)"
   ]
  },
  {
   "cell_type": "markdown",
   "metadata": {},
   "source": [
    "### Extrating Director"
   ]
  },
  {
   "cell_type": "code",
   "execution_count": 62,
   "metadata": {},
   "outputs": [],
   "source": [
    "def get_director(x):\n",
    "    if \" (director)\" in x:\n",
    "        return x.partition(' (director)')[0]\n",
    "    elif \" (directors)\" in x:\n",
    "        return x.partition(' (directors)')[0]\n",
    "    else:\n",
    "        return x.partition(' (director/screenplay)')[0]"
   ]
  },
  {
   "cell_type": "code",
   "execution_count": 63,
   "metadata": {},
   "outputs": [
    {
     "name": "stderr",
     "output_type": "stream",
     "text": [
      "<ipython-input-63-0d29c98c2cf5>:1: SettingWithCopyWarning: \n",
      "A value is trying to be set on a copy of a slice from a DataFrame.\n",
      "Try using .loc[row_indexer,col_indexer] = value instead\n",
      "\n",
      "See the caveats in the documentation: https://pandas.pydata.org/pandas-docs/stable/user_guide/indexing.html#returning-a-view-versus-a-copy\n",
      "  df_2020['director_name'] = df_2020['Cast and crew'].map(lambda x: get_director(x))\n"
     ]
    }
   ],
   "source": [
    "df_2020['director_name'] = df_2020['Cast and crew'].map(lambda x: get_director(x))"
   ]
  },
  {
   "cell_type": "code",
   "execution_count": 64,
   "metadata": {},
   "outputs": [
    {
     "data": {
      "text/html": [
       "<div>\n",
       "<style scoped>\n",
       "    .dataframe tbody tr th:only-of-type {\n",
       "        vertical-align: middle;\n",
       "    }\n",
       "\n",
       "    .dataframe tbody tr th {\n",
       "        vertical-align: top;\n",
       "    }\n",
       "\n",
       "    .dataframe thead th {\n",
       "        text-align: right;\n",
       "    }\n",
       "</style>\n",
       "<table border=\"1\" class=\"dataframe\">\n",
       "  <thead>\n",
       "    <tr style=\"text-align: right;\">\n",
       "      <th></th>\n",
       "      <th>Title</th>\n",
       "      <th>Cast and crew</th>\n",
       "      <th>genres</th>\n",
       "      <th>director_name</th>\n",
       "    </tr>\n",
       "  </thead>\n",
       "  <tbody>\n",
       "    <tr>\n",
       "      <th>0</th>\n",
       "      <td>The Grudge</td>\n",
       "      <td>Nicolas Pesce (director/screenplay); Andrea Ri...</td>\n",
       "      <td>Horror Mystery Thriller</td>\n",
       "      <td>Nicolas Pesce</td>\n",
       "    </tr>\n",
       "    <tr>\n",
       "      <th>1</th>\n",
       "      <td>Underwater</td>\n",
       "      <td>William Eubank (director); Brian Duffield, Ada...</td>\n",
       "      <td>Action Horror Science Fiction Thriller</td>\n",
       "      <td>William Eubank</td>\n",
       "    </tr>\n",
       "    <tr>\n",
       "      <th>2</th>\n",
       "      <td>Like a Boss</td>\n",
       "      <td>Miguel Arteta (director); Sam Pitman, Adam Col...</td>\n",
       "      <td>Comedy</td>\n",
       "      <td>Miguel Arteta</td>\n",
       "    </tr>\n",
       "    <tr>\n",
       "      <th>3</th>\n",
       "      <td>Three Christs</td>\n",
       "      <td>Jon Avnet (director/screenplay); Eric Nazarian...</td>\n",
       "      <td>Drama</td>\n",
       "      <td>Jon Avnet</td>\n",
       "    </tr>\n",
       "    <tr>\n",
       "      <th>4</th>\n",
       "      <td>Inherit the Viper</td>\n",
       "      <td>Anthony Jerjen (director); Andrew Crabtree (sc...</td>\n",
       "      <td>Drama Thriller Crime</td>\n",
       "      <td>Anthony Jerjen</td>\n",
       "    </tr>\n",
       "  </tbody>\n",
       "</table>\n",
       "</div>"
      ],
      "text/plain": [
       "               Title                                      Cast and crew  \\\n",
       "0         The Grudge  Nicolas Pesce (director/screenplay); Andrea Ri...   \n",
       "1         Underwater  William Eubank (director); Brian Duffield, Ada...   \n",
       "2        Like a Boss  Miguel Arteta (director); Sam Pitman, Adam Col...   \n",
       "3      Three Christs  Jon Avnet (director/screenplay); Eric Nazarian...   \n",
       "4  Inherit the Viper  Anthony Jerjen (director); Andrew Crabtree (sc...   \n",
       "\n",
       "                                   genres   director_name  \n",
       "0                 Horror Mystery Thriller   Nicolas Pesce  \n",
       "1  Action Horror Science Fiction Thriller  William Eubank  \n",
       "2                                  Comedy   Miguel Arteta  \n",
       "3                                   Drama       Jon Avnet  \n",
       "4                    Drama Thriller Crime  Anthony Jerjen  "
      ]
     },
     "execution_count": 64,
     "metadata": {},
     "output_type": "execute_result"
    }
   ],
   "source": [
    "df_2020.head()"
   ]
  },
  {
   "cell_type": "markdown",
   "metadata": {},
   "source": [
    "### Extrating actor1, actor2, actor3"
   ]
  },
  {
   "cell_type": "code",
   "execution_count": 65,
   "metadata": {},
   "outputs": [],
   "source": [
    "def get_actor1(x):\n",
    "    return ((x.partition(\"screenplay); \")[-1]).split(\", \")[0]).strip()"
   ]
  },
  {
   "cell_type": "code",
   "execution_count": 66,
   "metadata": {},
   "outputs": [
    {
     "name": "stderr",
     "output_type": "stream",
     "text": [
      "<ipython-input-66-2941e4a42157>:1: SettingWithCopyWarning: \n",
      "A value is trying to be set on a copy of a slice from a DataFrame.\n",
      "Try using .loc[row_indexer,col_indexer] = value instead\n",
      "\n",
      "See the caveats in the documentation: https://pandas.pydata.org/pandas-docs/stable/user_guide/indexing.html#returning-a-view-versus-a-copy\n",
      "  df_2020['actor1'] = df_2020['Cast and crew'].map(lambda x: get_actor1(x))\n"
     ]
    }
   ],
   "source": [
    "df_2020['actor1'] = df_2020['Cast and crew'].map(lambda x: get_actor1(x))"
   ]
  },
  {
   "cell_type": "code",
   "execution_count": 67,
   "metadata": {},
   "outputs": [],
   "source": [
    "def get_actor2(x):\n",
    "    if len((x.split(\"screenplay); \")[-1]).split(\", \")) < 2:\n",
    "        return np.NaN\n",
    "    else:\n",
    "        return ((x.split(\"screenplay); \")[-1]).split(\", \")[1])"
   ]
  },
  {
   "cell_type": "code",
   "execution_count": 68,
   "metadata": {},
   "outputs": [
    {
     "name": "stderr",
     "output_type": "stream",
     "text": [
      "<ipython-input-68-42b68ed97c2a>:1: SettingWithCopyWarning: \n",
      "A value is trying to be set on a copy of a slice from a DataFrame.\n",
      "Try using .loc[row_indexer,col_indexer] = value instead\n",
      "\n",
      "See the caveats in the documentation: https://pandas.pydata.org/pandas-docs/stable/user_guide/indexing.html#returning-a-view-versus-a-copy\n",
      "  df_2020['actor2'] = df_2020['Cast and crew'].map(lambda x: get_actor2(x))\n"
     ]
    }
   ],
   "source": [
    "df_2020['actor2'] = df_2020['Cast and crew'].map(lambda x: get_actor2(x))"
   ]
  },
  {
   "cell_type": "code",
   "execution_count": 69,
   "metadata": {},
   "outputs": [],
   "source": [
    "def get_actor3(x):\n",
    "    if len((x.split(\"screenplay); \")[-1]).split(\", \")) < 3:\n",
    "        return np.NaN\n",
    "    else:\n",
    "        return ((x.split(\"screenplay); \")[-1]).split(\", \")[2])"
   ]
  },
  {
   "cell_type": "code",
   "execution_count": 70,
   "metadata": {},
   "outputs": [],
   "source": [
    "df_2020['actor3'] = df_2020['Cast and crew'].map(lambda x: get_actor3(x))"
   ]
  },
  {
   "cell_type": "code",
   "execution_count": 71,
   "metadata": {},
   "outputs": [],
   "source": [
    "df_2020.drop(columns={'Cast and crew'}, inplace=True)"
   ]
  },
  {
   "cell_type": "code",
   "execution_count": 72,
   "metadata": {},
   "outputs": [],
   "source": [
    "df_2020 = df_2020.rename(columns={'Title':'title','director_name':'director'})"
   ]
  },
  {
   "cell_type": "code",
   "execution_count": 73,
   "metadata": {},
   "outputs": [],
   "source": [
    "df_2020['title'] = df_2020['title'].str.lower()"
   ]
  },
  {
   "cell_type": "markdown",
   "metadata": {},
   "source": [
    "### Delling with NaN values"
   ]
  },
  {
   "cell_type": "code",
   "execution_count": 74,
   "metadata": {},
   "outputs": [
    {
     "data": {
      "text/plain": [
       "title        0\n",
       "genres       0\n",
       "director     0\n",
       "actor1       0\n",
       "actor2       3\n",
       "actor3      26\n",
       "dtype: int64"
      ]
     },
     "execution_count": 74,
     "metadata": {},
     "output_type": "execute_result"
    }
   ],
   "source": [
    "df_2020.isna().sum()"
   ]
  },
  {
   "cell_type": "code",
   "execution_count": 78,
   "metadata": {},
   "outputs": [],
   "source": [
    "df_2020.fillna('', inplace=True)"
   ]
  },
  {
   "cell_type": "code",
   "execution_count": 79,
   "metadata": {},
   "outputs": [
    {
     "data": {
      "text/plain": [
       "title       0\n",
       "genres      0\n",
       "director    0\n",
       "actor1      0\n",
       "actor2      0\n",
       "actor3      0\n",
       "dtype: int64"
      ]
     },
     "execution_count": 79,
     "metadata": {},
     "output_type": "execute_result"
    }
   ],
   "source": [
    "df_2020.isna().sum()"
   ]
  },
  {
   "cell_type": "code",
   "execution_count": 80,
   "metadata": {},
   "outputs": [],
   "source": [
    "df_2020['comb'] = df_2020.actor1 + ' ' + df_2020.actor2 + ' ' + df_2020.actor3 + ' ' + df_2020.director + ' ' + df_2020.genres"
   ]
  },
  {
   "cell_type": "code",
   "execution_count": 82,
   "metadata": {},
   "outputs": [
    {
     "data": {
      "text/html": [
       "<div>\n",
       "<style scoped>\n",
       "    .dataframe tbody tr th:only-of-type {\n",
       "        vertical-align: middle;\n",
       "    }\n",
       "\n",
       "    .dataframe tbody tr th {\n",
       "        vertical-align: top;\n",
       "    }\n",
       "\n",
       "    .dataframe thead th {\n",
       "        text-align: right;\n",
       "    }\n",
       "</style>\n",
       "<table border=\"1\" class=\"dataframe\">\n",
       "  <thead>\n",
       "    <tr style=\"text-align: right;\">\n",
       "      <th></th>\n",
       "      <th>title</th>\n",
       "      <th>genres</th>\n",
       "      <th>director</th>\n",
       "      <th>actor1</th>\n",
       "      <th>actor2</th>\n",
       "      <th>actor3</th>\n",
       "      <th>comb</th>\n",
       "    </tr>\n",
       "  </thead>\n",
       "  <tbody>\n",
       "    <tr>\n",
       "      <th>0</th>\n",
       "      <td>the grudge</td>\n",
       "      <td>Horror Mystery Thriller</td>\n",
       "      <td>Nicolas Pesce</td>\n",
       "      <td>Andrea Riseborough</td>\n",
       "      <td>Demián Bichir</td>\n",
       "      <td>John Cho</td>\n",
       "      <td>Andrea Riseborough Demián Bichir John Cho Nico...</td>\n",
       "    </tr>\n",
       "    <tr>\n",
       "      <th>1</th>\n",
       "      <td>underwater</td>\n",
       "      <td>Action Horror Science Fiction Thriller</td>\n",
       "      <td>William Eubank</td>\n",
       "      <td>Kristen Stewart</td>\n",
       "      <td>Vincent Cassel</td>\n",
       "      <td>Jessica Henwick</td>\n",
       "      <td>Kristen Stewart Vincent Cassel Jessica Henwick...</td>\n",
       "    </tr>\n",
       "    <tr>\n",
       "      <th>2</th>\n",
       "      <td>like a boss</td>\n",
       "      <td>Comedy</td>\n",
       "      <td>Miguel Arteta</td>\n",
       "      <td>Tiffany Haddish</td>\n",
       "      <td>Rose Byrne</td>\n",
       "      <td>Salma Hayek</td>\n",
       "      <td>Tiffany Haddish Rose Byrne Salma Hayek Miguel ...</td>\n",
       "    </tr>\n",
       "    <tr>\n",
       "      <th>3</th>\n",
       "      <td>three christs</td>\n",
       "      <td>Drama</td>\n",
       "      <td>Jon Avnet</td>\n",
       "      <td>Eric Nazarian (screenplay); Richard Gere</td>\n",
       "      <td>Peter Dinklage</td>\n",
       "      <td>Walton Goggins</td>\n",
       "      <td>Eric Nazarian (screenplay); Richard Gere Peter...</td>\n",
       "    </tr>\n",
       "    <tr>\n",
       "      <th>4</th>\n",
       "      <td>inherit the viper</td>\n",
       "      <td>Drama Thriller Crime</td>\n",
       "      <td>Anthony Jerjen</td>\n",
       "      <td>Josh Hartnett</td>\n",
       "      <td>Margarita Levieva</td>\n",
       "      <td>Chandler Riggs</td>\n",
       "      <td>Josh Hartnett Margarita Levieva Chandler Riggs...</td>\n",
       "    </tr>\n",
       "    <tr>\n",
       "      <th>...</th>\n",
       "      <td>...</td>\n",
       "      <td>...</td>\n",
       "      <td>...</td>\n",
       "      <td>...</td>\n",
       "      <td>...</td>\n",
       "      <td>...</td>\n",
       "      <td>...</td>\n",
       "    </tr>\n",
       "    <tr>\n",
       "      <th>264</th>\n",
       "      <td>we can be heroes</td>\n",
       "      <td>Action Fantasy Family Drama Comedy</td>\n",
       "      <td>Robert Rodriguez</td>\n",
       "      <td>Priyanka Chopra Jonas</td>\n",
       "      <td>Pedro Pascal</td>\n",
       "      <td>YaYa Gosselin</td>\n",
       "      <td>Priyanka Chopra Jonas Pedro Pascal YaYa Gossel...</td>\n",
       "    </tr>\n",
       "    <tr>\n",
       "      <th>265</th>\n",
       "      <td>news of the world</td>\n",
       "      <td>Action Adventure Drama Western</td>\n",
       "      <td>Paul Greengrass</td>\n",
       "      <td>Luke Davies (screenplay); Tom Hanks</td>\n",
       "      <td>Helena Zengel</td>\n",
       "      <td></td>\n",
       "      <td>Luke Davies (screenplay); Tom Hanks Helena Zen...</td>\n",
       "    </tr>\n",
       "    <tr>\n",
       "      <th>266</th>\n",
       "      <td>one night in miami</td>\n",
       "      <td>Drama</td>\n",
       "      <td>Regina King</td>\n",
       "      <td>Kingsley Ben-Adir</td>\n",
       "      <td>Eli Goree</td>\n",
       "      <td>Aldis Hodge</td>\n",
       "      <td>Kingsley Ben-Adir Eli Goree Aldis Hodge Regina...</td>\n",
       "    </tr>\n",
       "    <tr>\n",
       "      <th>267</th>\n",
       "      <td>promising young woman</td>\n",
       "      <td>Thriller Crime Drama</td>\n",
       "      <td>Emerald Fennell</td>\n",
       "      <td>Carey Mulligan</td>\n",
       "      <td>Bo Burnham</td>\n",
       "      <td>Alison Brie</td>\n",
       "      <td>Carey Mulligan Bo Burnham Alison Brie Emerald ...</td>\n",
       "    </tr>\n",
       "    <tr>\n",
       "      <th>268</th>\n",
       "      <td>pieces of a woman</td>\n",
       "      <td>Drama</td>\n",
       "      <td>Kornél Mundruczó</td>\n",
       "      <td>Vanessa Kirby</td>\n",
       "      <td>Shia LaBeouf</td>\n",
       "      <td>Molly Parker</td>\n",
       "      <td>Vanessa Kirby Shia LaBeouf Molly Parker Kornél...</td>\n",
       "    </tr>\n",
       "  </tbody>\n",
       "</table>\n",
       "<p>269 rows × 7 columns</p>\n",
       "</div>"
      ],
      "text/plain": [
       "                     title                                  genres  \\\n",
       "0               the grudge                 Horror Mystery Thriller   \n",
       "1               underwater  Action Horror Science Fiction Thriller   \n",
       "2              like a boss                                  Comedy   \n",
       "3            three christs                                   Drama   \n",
       "4        inherit the viper                    Drama Thriller Crime   \n",
       "..                     ...                                     ...   \n",
       "264       we can be heroes      Action Fantasy Family Drama Comedy   \n",
       "265      news of the world          Action Adventure Drama Western   \n",
       "266     one night in miami                                   Drama   \n",
       "267  promising young woman                    Thriller Crime Drama   \n",
       "268      pieces of a woman                                   Drama   \n",
       "\n",
       "             director                                    actor1  \\\n",
       "0       Nicolas Pesce                        Andrea Riseborough   \n",
       "1      William Eubank                           Kristen Stewart   \n",
       "2       Miguel Arteta                           Tiffany Haddish   \n",
       "3           Jon Avnet  Eric Nazarian (screenplay); Richard Gere   \n",
       "4      Anthony Jerjen                             Josh Hartnett   \n",
       "..                ...                                       ...   \n",
       "264  Robert Rodriguez                     Priyanka Chopra Jonas   \n",
       "265   Paul Greengrass       Luke Davies (screenplay); Tom Hanks   \n",
       "266       Regina King                         Kingsley Ben-Adir   \n",
       "267   Emerald Fennell                            Carey Mulligan   \n",
       "268  Kornél Mundruczó                             Vanessa Kirby   \n",
       "\n",
       "                actor2           actor3  \\\n",
       "0        Demián Bichir         John Cho   \n",
       "1       Vincent Cassel  Jessica Henwick   \n",
       "2           Rose Byrne      Salma Hayek   \n",
       "3       Peter Dinklage   Walton Goggins   \n",
       "4    Margarita Levieva   Chandler Riggs   \n",
       "..                 ...              ...   \n",
       "264       Pedro Pascal    YaYa Gosselin   \n",
       "265      Helena Zengel                    \n",
       "266          Eli Goree      Aldis Hodge   \n",
       "267         Bo Burnham      Alison Brie   \n",
       "268       Shia LaBeouf     Molly Parker   \n",
       "\n",
       "                                                  comb  \n",
       "0    Andrea Riseborough Demián Bichir John Cho Nico...  \n",
       "1    Kristen Stewart Vincent Cassel Jessica Henwick...  \n",
       "2    Tiffany Haddish Rose Byrne Salma Hayek Miguel ...  \n",
       "3    Eric Nazarian (screenplay); Richard Gere Peter...  \n",
       "4    Josh Hartnett Margarita Levieva Chandler Riggs...  \n",
       "..                                                 ...  \n",
       "264  Priyanka Chopra Jonas Pedro Pascal YaYa Gossel...  \n",
       "265  Luke Davies (screenplay); Tom Hanks Helena Zen...  \n",
       "266  Kingsley Ben-Adir Eli Goree Aldis Hodge Regina...  \n",
       "267  Carey Mulligan Bo Burnham Alison Brie Emerald ...  \n",
       "268  Vanessa Kirby Shia LaBeouf Molly Parker Kornél...  \n",
       "\n",
       "[269 rows x 7 columns]"
      ]
     },
     "execution_count": 82,
     "metadata": {},
     "output_type": "execute_result"
    }
   ],
   "source": [
    "df_2020"
   ]
  },
  {
   "cell_type": "code",
   "execution_count": 83,
   "metadata": {},
   "outputs": [],
   "source": [
    "df_2020.to_csv(\"wiki_2020.csv\", index=False)"
   ]
  }
 ],
 "metadata": {
  "kernelspec": {
   "display_name": "Python 3",
   "language": "python",
   "name": "python3"
  },
  "language_info": {
   "codemirror_mode": {
    "name": "ipython",
    "version": 3
   },
   "file_extension": ".py",
   "mimetype": "text/x-python",
   "name": "python",
   "nbconvert_exporter": "python",
   "pygments_lexer": "ipython3",
   "version": "3.8.5"
  }
 },
 "nbformat": 4,
 "nbformat_minor": 4
}
