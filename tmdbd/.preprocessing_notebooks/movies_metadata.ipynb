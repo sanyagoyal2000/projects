{
 "cells": [
  {
   "cell_type": "code",
   "execution_count": 1,
   "metadata": {},
   "outputs": [],
   "source": [
    "import pandas as pd\n",
    "import numpy as np"
   ]
  },
  {
   "cell_type": "code",
   "execution_count": 2,
   "metadata": {},
   "outputs": [],
   "source": [
    "pd.set_option('display.max_columns', None)"
   ]
  },
  {
   "cell_type": "code",
   "execution_count": 3,
   "metadata": {},
   "outputs": [
    {
     "name": "stderr",
     "output_type": "stream",
     "text": [
      "/home/mehant/anaconda3/lib/python3.8/site-packages/IPython/core/interactiveshell.py:3146: DtypeWarning: Columns (10) have mixed types.Specify dtype option on import or set low_memory=False.\n",
      "  has_raised = await self.run_ast_nodes(code_ast.body, cell_name,\n"
     ]
    }
   ],
   "source": [
    "df = pd.read_csv(\"data/movies_metadata.csv\")"
   ]
  },
  {
   "cell_type": "code",
   "execution_count": 4,
   "metadata": {},
   "outputs": [
    {
     "data": {
      "text/plain": [
       "(45466, 24)"
      ]
     },
     "execution_count": 4,
     "metadata": {},
     "output_type": "execute_result"
    }
   ],
   "source": [
    "df.shape"
   ]
  },
  {
   "cell_type": "code",
   "execution_count": 5,
   "metadata": {},
   "outputs": [
    {
     "data": {
      "text/html": [
       "<div>\n",
       "<style scoped>\n",
       "    .dataframe tbody tr th:only-of-type {\n",
       "        vertical-align: middle;\n",
       "    }\n",
       "\n",
       "    .dataframe tbody tr th {\n",
       "        vertical-align: top;\n",
       "    }\n",
       "\n",
       "    .dataframe thead th {\n",
       "        text-align: right;\n",
       "    }\n",
       "</style>\n",
       "<table border=\"1\" class=\"dataframe\">\n",
       "  <thead>\n",
       "    <tr style=\"text-align: right;\">\n",
       "      <th></th>\n",
       "      <th>adult</th>\n",
       "      <th>belongs_to_collection</th>\n",
       "      <th>budget</th>\n",
       "      <th>genres</th>\n",
       "      <th>homepage</th>\n",
       "      <th>id</th>\n",
       "      <th>imdb_id</th>\n",
       "      <th>original_language</th>\n",
       "      <th>original_title</th>\n",
       "      <th>overview</th>\n",
       "      <th>popularity</th>\n",
       "      <th>poster_path</th>\n",
       "      <th>production_companies</th>\n",
       "      <th>production_countries</th>\n",
       "      <th>release_date</th>\n",
       "      <th>revenue</th>\n",
       "      <th>runtime</th>\n",
       "      <th>spoken_languages</th>\n",
       "      <th>status</th>\n",
       "      <th>tagline</th>\n",
       "      <th>title</th>\n",
       "      <th>video</th>\n",
       "      <th>vote_average</th>\n",
       "      <th>vote_count</th>\n",
       "    </tr>\n",
       "  </thead>\n",
       "  <tbody>\n",
       "    <tr>\n",
       "      <th>0</th>\n",
       "      <td>FALSE</td>\n",
       "      <td>{'id': 10194, 'name': 'Toy Story Collection', ...</td>\n",
       "      <td>30000000</td>\n",
       "      <td>[{'id': 16, 'name': 'Animation'}, {'id': 35, '...</td>\n",
       "      <td>http://toystory.disney.com/toy-story</td>\n",
       "      <td>862</td>\n",
       "      <td>tt0114709</td>\n",
       "      <td>en</td>\n",
       "      <td>Toy Story</td>\n",
       "      <td>Led by Woody, Andy's toys live happily in his ...</td>\n",
       "      <td>21.9469</td>\n",
       "      <td>/rhIRbceoE9lR4veEXuwCC2wARtG.jpg</td>\n",
       "      <td>[{'name': 'Pixar Animation Studios', 'id': 3}]</td>\n",
       "      <td>[{'iso_3166_1': 'US', 'name': 'United States o...</td>\n",
       "      <td>30-10-1995</td>\n",
       "      <td>373554033.0</td>\n",
       "      <td>81.0</td>\n",
       "      <td>[{'iso_639_1': 'en', 'name': 'English'}]</td>\n",
       "      <td>Released</td>\n",
       "      <td>NaN</td>\n",
       "      <td>Toy Story</td>\n",
       "      <td>False</td>\n",
       "      <td>7.7</td>\n",
       "      <td>5415.0</td>\n",
       "    </tr>\n",
       "    <tr>\n",
       "      <th>1</th>\n",
       "      <td>FALSE</td>\n",
       "      <td>NaN</td>\n",
       "      <td>65000000</td>\n",
       "      <td>[{'id': 12, 'name': 'Adventure'}, {'id': 14, '...</td>\n",
       "      <td>NaN</td>\n",
       "      <td>8844</td>\n",
       "      <td>tt0113497</td>\n",
       "      <td>en</td>\n",
       "      <td>Jumanji</td>\n",
       "      <td>When siblings Judy and Peter discover an encha...</td>\n",
       "      <td>17.0155</td>\n",
       "      <td>/vzmL6fP7aPKNKPRTFnZmiUfciyV.jpg</td>\n",
       "      <td>[{'name': 'TriStar Pictures', 'id': 559}, {'na...</td>\n",
       "      <td>[{'iso_3166_1': 'US', 'name': 'United States o...</td>\n",
       "      <td>15-12-1995</td>\n",
       "      <td>262797249.0</td>\n",
       "      <td>104.0</td>\n",
       "      <td>[{'iso_639_1': 'en', 'name': 'English'}, {'iso...</td>\n",
       "      <td>Released</td>\n",
       "      <td>Roll the dice and unleash the excitement!</td>\n",
       "      <td>Jumanji</td>\n",
       "      <td>False</td>\n",
       "      <td>6.9</td>\n",
       "      <td>2413.0</td>\n",
       "    </tr>\n",
       "  </tbody>\n",
       "</table>\n",
       "</div>"
      ],
      "text/plain": [
       "   adult                              belongs_to_collection    budget  \\\n",
       "0  FALSE  {'id': 10194, 'name': 'Toy Story Collection', ...  30000000   \n",
       "1  FALSE                                                NaN  65000000   \n",
       "\n",
       "                                              genres  \\\n",
       "0  [{'id': 16, 'name': 'Animation'}, {'id': 35, '...   \n",
       "1  [{'id': 12, 'name': 'Adventure'}, {'id': 14, '...   \n",
       "\n",
       "                               homepage    id    imdb_id original_language  \\\n",
       "0  http://toystory.disney.com/toy-story   862  tt0114709                en   \n",
       "1                                   NaN  8844  tt0113497                en   \n",
       "\n",
       "  original_title                                           overview  \\\n",
       "0      Toy Story  Led by Woody, Andy's toys live happily in his ...   \n",
       "1        Jumanji  When siblings Judy and Peter discover an encha...   \n",
       "\n",
       "  popularity                       poster_path  \\\n",
       "0    21.9469  /rhIRbceoE9lR4veEXuwCC2wARtG.jpg   \n",
       "1    17.0155  /vzmL6fP7aPKNKPRTFnZmiUfciyV.jpg   \n",
       "\n",
       "                                production_companies  \\\n",
       "0     [{'name': 'Pixar Animation Studios', 'id': 3}]   \n",
       "1  [{'name': 'TriStar Pictures', 'id': 559}, {'na...   \n",
       "\n",
       "                                production_countries release_date  \\\n",
       "0  [{'iso_3166_1': 'US', 'name': 'United States o...   30-10-1995   \n",
       "1  [{'iso_3166_1': 'US', 'name': 'United States o...   15-12-1995   \n",
       "\n",
       "       revenue  runtime                                   spoken_languages  \\\n",
       "0  373554033.0     81.0           [{'iso_639_1': 'en', 'name': 'English'}]   \n",
       "1  262797249.0    104.0  [{'iso_639_1': 'en', 'name': 'English'}, {'iso...   \n",
       "\n",
       "     status                                    tagline      title  video  \\\n",
       "0  Released                                        NaN  Toy Story  False   \n",
       "1  Released  Roll the dice and unleash the excitement!    Jumanji  False   \n",
       "\n",
       "   vote_average  vote_count  \n",
       "0           7.7      5415.0  \n",
       "1           6.9      2413.0  "
      ]
     },
     "execution_count": 5,
     "metadata": {},
     "output_type": "execute_result"
    }
   ],
   "source": [
    "df.head(2)"
   ]
  },
  {
   "cell_type": "code",
   "execution_count": 6,
   "metadata": {},
   "outputs": [
    {
     "name": "stdout",
     "output_type": "stream",
     "text": [
      "['en' 'fr' 'zh' 'it' 'fa' 'nl' 'de' 'cn' 'ar' 'es' 'ru' 'sv' 'ja' 'ko'\n",
      " 'sr' 'bn' 'he' 'pt' 'wo' 'ro' 'hu' 'cy' 'vi' 'cs' 'da' 'no' 'nb' 'pl'\n",
      " 'el' 'sh' 'xx' 'mk' 'bo' 'ca' 'fi' 'th' 'sk' 'bs' 'hi' 'tr' 'is' 'ps'\n",
      " 'ab' 'eo' 'ka' 'mn' 'bm' 'zu' 'uk' 'af' 'la' 'et' 'ku' 'fy' 'lv' 'ta'\n",
      " 'sl' 'tl' 'ur' 'rw' 'id' 'bg' 'mr' 'lt' 'kk' 'ms' 'sq' nan '104' 'qu'\n",
      " 'te' 'am' 'jv' 'tg' 'ml' 'hr' 'lo' 'ay' 'kn' 'eu' 'ne' 'pa' 'ky' 'gl'\n",
      " '68' 'uz' 'sm' 'mt' '82' 'hy' 'iu' 'lb' 'si']\n",
      "(45466, 24)\n"
     ]
    }
   ],
   "source": [
    "print(df.original_language.unique())\n",
    "print(df.shape)"
   ]
  },
  {
   "cell_type": "code",
   "execution_count": 7,
   "metadata": {},
   "outputs": [
    {
     "name": "stdout",
     "output_type": "stream",
     "text": [
      "(32269, 24)\n"
     ]
    }
   ],
   "source": [
    "df = df[df.original_language == 'en']\n",
    "print(df.shape)"
   ]
  },
  {
   "cell_type": "code",
   "execution_count": 8,
   "metadata": {},
   "outputs": [],
   "source": [
    "df = df[['genres','release_date','original_title', 'id']]"
   ]
  },
  {
   "cell_type": "code",
   "execution_count": 9,
   "metadata": {},
   "outputs": [
    {
     "data": {
      "text/html": [
       "<div>\n",
       "<style scoped>\n",
       "    .dataframe tbody tr th:only-of-type {\n",
       "        vertical-align: middle;\n",
       "    }\n",
       "\n",
       "    .dataframe tbody tr th {\n",
       "        vertical-align: top;\n",
       "    }\n",
       "\n",
       "    .dataframe thead th {\n",
       "        text-align: right;\n",
       "    }\n",
       "</style>\n",
       "<table border=\"1\" class=\"dataframe\">\n",
       "  <thead>\n",
       "    <tr style=\"text-align: right;\">\n",
       "      <th></th>\n",
       "      <th>genres</th>\n",
       "      <th>release_date</th>\n",
       "      <th>original_title</th>\n",
       "      <th>id</th>\n",
       "    </tr>\n",
       "  </thead>\n",
       "  <tbody>\n",
       "    <tr>\n",
       "      <th>0</th>\n",
       "      <td>[{'id': 16, 'name': 'Animation'}, {'id': 35, '...</td>\n",
       "      <td>30-10-1995</td>\n",
       "      <td>Toy Story</td>\n",
       "      <td>862</td>\n",
       "    </tr>\n",
       "    <tr>\n",
       "      <th>1</th>\n",
       "      <td>[{'id': 12, 'name': 'Adventure'}, {'id': 14, '...</td>\n",
       "      <td>15-12-1995</td>\n",
       "      <td>Jumanji</td>\n",
       "      <td>8844</td>\n",
       "    </tr>\n",
       "    <tr>\n",
       "      <th>2</th>\n",
       "      <td>[{'id': 10749, 'name': 'Romance'}, {'id': 35, ...</td>\n",
       "      <td>22-12-1995</td>\n",
       "      <td>Grumpier Old Men</td>\n",
       "      <td>15602</td>\n",
       "    </tr>\n",
       "    <tr>\n",
       "      <th>3</th>\n",
       "      <td>[{'id': 35, 'name': 'Comedy'}, {'id': 18, 'nam...</td>\n",
       "      <td>22-12-1995</td>\n",
       "      <td>Waiting to Exhale</td>\n",
       "      <td>31357</td>\n",
       "    </tr>\n",
       "    <tr>\n",
       "      <th>4</th>\n",
       "      <td>[{'id': 35, 'name': 'Comedy'}]</td>\n",
       "      <td>10-02-1995</td>\n",
       "      <td>Father of the Bride Part II</td>\n",
       "      <td>11862</td>\n",
       "    </tr>\n",
       "  </tbody>\n",
       "</table>\n",
       "</div>"
      ],
      "text/plain": [
       "                                              genres release_date  \\\n",
       "0  [{'id': 16, 'name': 'Animation'}, {'id': 35, '...   30-10-1995   \n",
       "1  [{'id': 12, 'name': 'Adventure'}, {'id': 14, '...   15-12-1995   \n",
       "2  [{'id': 10749, 'name': 'Romance'}, {'id': 35, ...   22-12-1995   \n",
       "3  [{'id': 35, 'name': 'Comedy'}, {'id': 18, 'nam...   22-12-1995   \n",
       "4                     [{'id': 35, 'name': 'Comedy'}]   10-02-1995   \n",
       "\n",
       "                original_title     id  \n",
       "0                    Toy Story    862  \n",
       "1                      Jumanji   8844  \n",
       "2             Grumpier Old Men  15602  \n",
       "3            Waiting to Exhale  31357  \n",
       "4  Father of the Bride Part II  11862  "
      ]
     },
     "execution_count": 9,
     "metadata": {},
     "output_type": "execute_result"
    }
   ],
   "source": [
    "df.head(5)"
   ]
  },
  {
   "cell_type": "code",
   "execution_count": 10,
   "metadata": {},
   "outputs": [
    {
     "data": {
      "text/plain": [
       "genres             0\n",
       "release_date      67\n",
       "original_title     0\n",
       "id                 0\n",
       "dtype: int64"
      ]
     },
     "execution_count": 10,
     "metadata": {},
     "output_type": "execute_result"
    }
   ],
   "source": [
    "df.isna().sum()"
   ]
  },
  {
   "cell_type": "code",
   "execution_count": 11,
   "metadata": {},
   "outputs": [],
   "source": [
    "df = df.dropna()"
   ]
  },
  {
   "cell_type": "code",
   "execution_count": 12,
   "metadata": {},
   "outputs": [
    {
     "name": "stdout",
     "output_type": "stream",
     "text": [
      "genres            0\n",
      "release_date      0\n",
      "original_title    0\n",
      "id                0\n",
      "dtype: int64\n",
      "(32202, 4)\n"
     ]
    }
   ],
   "source": [
    "print(df.isna().sum())\n",
    "print(df.shape)"
   ]
  },
  {
   "cell_type": "code",
   "execution_count": 13,
   "metadata": {},
   "outputs": [
    {
     "data": {
      "text/plain": [
       "str"
      ]
     },
     "execution_count": 13,
     "metadata": {},
     "output_type": "execute_result"
    }
   ],
   "source": [
    "type(df.release_date[0])"
   ]
  },
  {
   "cell_type": "code",
   "execution_count": 14,
   "metadata": {},
   "outputs": [],
   "source": [
    "df.release_date = pd.to_datetime(df.release_date, errors='coerce')"
   ]
  },
  {
   "cell_type": "code",
   "execution_count": 15,
   "metadata": {},
   "outputs": [],
   "source": [
    "df['year'] = df.release_date.dt.year"
   ]
  },
  {
   "cell_type": "code",
   "execution_count": 16,
   "metadata": {},
   "outputs": [
    {
     "data": {
      "text/html": [
       "<div>\n",
       "<style scoped>\n",
       "    .dataframe tbody tr th:only-of-type {\n",
       "        vertical-align: middle;\n",
       "    }\n",
       "\n",
       "    .dataframe tbody tr th {\n",
       "        vertical-align: top;\n",
       "    }\n",
       "\n",
       "    .dataframe thead th {\n",
       "        text-align: right;\n",
       "    }\n",
       "</style>\n",
       "<table border=\"1\" class=\"dataframe\">\n",
       "  <thead>\n",
       "    <tr style=\"text-align: right;\">\n",
       "      <th></th>\n",
       "      <th>genres</th>\n",
       "      <th>release_date</th>\n",
       "      <th>original_title</th>\n",
       "      <th>id</th>\n",
       "      <th>year</th>\n",
       "    </tr>\n",
       "  </thead>\n",
       "  <tbody>\n",
       "    <tr>\n",
       "      <th>0</th>\n",
       "      <td>[{'id': 16, 'name': 'Animation'}, {'id': 35, '...</td>\n",
       "      <td>1995-10-30</td>\n",
       "      <td>Toy Story</td>\n",
       "      <td>862</td>\n",
       "      <td>1995</td>\n",
       "    </tr>\n",
       "    <tr>\n",
       "      <th>1</th>\n",
       "      <td>[{'id': 12, 'name': 'Adventure'}, {'id': 14, '...</td>\n",
       "      <td>1995-12-15</td>\n",
       "      <td>Jumanji</td>\n",
       "      <td>8844</td>\n",
       "      <td>1995</td>\n",
       "    </tr>\n",
       "    <tr>\n",
       "      <th>2</th>\n",
       "      <td>[{'id': 10749, 'name': 'Romance'}, {'id': 35, ...</td>\n",
       "      <td>1995-12-22</td>\n",
       "      <td>Grumpier Old Men</td>\n",
       "      <td>15602</td>\n",
       "      <td>1995</td>\n",
       "    </tr>\n",
       "    <tr>\n",
       "      <th>3</th>\n",
       "      <td>[{'id': 35, 'name': 'Comedy'}, {'id': 18, 'nam...</td>\n",
       "      <td>1995-12-22</td>\n",
       "      <td>Waiting to Exhale</td>\n",
       "      <td>31357</td>\n",
       "      <td>1995</td>\n",
       "    </tr>\n",
       "    <tr>\n",
       "      <th>4</th>\n",
       "      <td>[{'id': 35, 'name': 'Comedy'}]</td>\n",
       "      <td>1995-10-02</td>\n",
       "      <td>Father of the Bride Part II</td>\n",
       "      <td>11862</td>\n",
       "      <td>1995</td>\n",
       "    </tr>\n",
       "  </tbody>\n",
       "</table>\n",
       "</div>"
      ],
      "text/plain": [
       "                                              genres release_date  \\\n",
       "0  [{'id': 16, 'name': 'Animation'}, {'id': 35, '...   1995-10-30   \n",
       "1  [{'id': 12, 'name': 'Adventure'}, {'id': 14, '...   1995-12-15   \n",
       "2  [{'id': 10749, 'name': 'Romance'}, {'id': 35, ...   1995-12-22   \n",
       "3  [{'id': 35, 'name': 'Comedy'}, {'id': 18, 'nam...   1995-12-22   \n",
       "4                     [{'id': 35, 'name': 'Comedy'}]   1995-10-02   \n",
       "\n",
       "                original_title     id  year  \n",
       "0                    Toy Story    862  1995  \n",
       "1                      Jumanji   8844  1995  \n",
       "2             Grumpier Old Men  15602  1995  \n",
       "3            Waiting to Exhale  31357  1995  \n",
       "4  Father of the Bride Part II  11862  1995  "
      ]
     },
     "execution_count": 16,
     "metadata": {},
     "output_type": "execute_result"
    }
   ],
   "source": [
    "df.head(5)"
   ]
  },
  {
   "cell_type": "code",
   "execution_count": 17,
   "metadata": {},
   "outputs": [],
   "source": [
    "df.drop(['release_date'], axis=1, inplace=True)"
   ]
  },
  {
   "cell_type": "code",
   "execution_count": 18,
   "metadata": {},
   "outputs": [
    {
     "data": {
      "text/html": [
       "<div>\n",
       "<style scoped>\n",
       "    .dataframe tbody tr th:only-of-type {\n",
       "        vertical-align: middle;\n",
       "    }\n",
       "\n",
       "    .dataframe tbody tr th {\n",
       "        vertical-align: top;\n",
       "    }\n",
       "\n",
       "    .dataframe thead th {\n",
       "        text-align: right;\n",
       "    }\n",
       "</style>\n",
       "<table border=\"1\" class=\"dataframe\">\n",
       "  <thead>\n",
       "    <tr style=\"text-align: right;\">\n",
       "      <th></th>\n",
       "      <th>genres</th>\n",
       "      <th>original_title</th>\n",
       "      <th>id</th>\n",
       "      <th>year</th>\n",
       "    </tr>\n",
       "  </thead>\n",
       "  <tbody>\n",
       "    <tr>\n",
       "      <th>0</th>\n",
       "      <td>[{'id': 16, 'name': 'Animation'}, {'id': 35, '...</td>\n",
       "      <td>Toy Story</td>\n",
       "      <td>862</td>\n",
       "      <td>1995</td>\n",
       "    </tr>\n",
       "    <tr>\n",
       "      <th>1</th>\n",
       "      <td>[{'id': 12, 'name': 'Adventure'}, {'id': 14, '...</td>\n",
       "      <td>Jumanji</td>\n",
       "      <td>8844</td>\n",
       "      <td>1995</td>\n",
       "    </tr>\n",
       "    <tr>\n",
       "      <th>2</th>\n",
       "      <td>[{'id': 10749, 'name': 'Romance'}, {'id': 35, ...</td>\n",
       "      <td>Grumpier Old Men</td>\n",
       "      <td>15602</td>\n",
       "      <td>1995</td>\n",
       "    </tr>\n",
       "    <tr>\n",
       "      <th>3</th>\n",
       "      <td>[{'id': 35, 'name': 'Comedy'}, {'id': 18, 'nam...</td>\n",
       "      <td>Waiting to Exhale</td>\n",
       "      <td>31357</td>\n",
       "      <td>1995</td>\n",
       "    </tr>\n",
       "    <tr>\n",
       "      <th>4</th>\n",
       "      <td>[{'id': 35, 'name': 'Comedy'}]</td>\n",
       "      <td>Father of the Bride Part II</td>\n",
       "      <td>11862</td>\n",
       "      <td>1995</td>\n",
       "    </tr>\n",
       "  </tbody>\n",
       "</table>\n",
       "</div>"
      ],
      "text/plain": [
       "                                              genres  \\\n",
       "0  [{'id': 16, 'name': 'Animation'}, {'id': 35, '...   \n",
       "1  [{'id': 12, 'name': 'Adventure'}, {'id': 14, '...   \n",
       "2  [{'id': 10749, 'name': 'Romance'}, {'id': 35, ...   \n",
       "3  [{'id': 35, 'name': 'Comedy'}, {'id': 18, 'nam...   \n",
       "4                     [{'id': 35, 'name': 'Comedy'}]   \n",
       "\n",
       "                original_title     id  year  \n",
       "0                    Toy Story    862  1995  \n",
       "1                      Jumanji   8844  1995  \n",
       "2             Grumpier Old Men  15602  1995  \n",
       "3            Waiting to Exhale  31357  1995  \n",
       "4  Father of the Bride Part II  11862  1995  "
      ]
     },
     "execution_count": 18,
     "metadata": {},
     "output_type": "execute_result"
    }
   ],
   "source": [
    "df.head(5)"
   ]
  },
  {
   "cell_type": "markdown",
   "metadata": {},
   "source": [
    "# df"
   ]
  },
  {
   "cell_type": "code",
   "execution_count": 19,
   "metadata": {},
   "outputs": [
    {
     "data": {
      "text/html": [
       "<div>\n",
       "<style scoped>\n",
       "    .dataframe tbody tr th:only-of-type {\n",
       "        vertical-align: middle;\n",
       "    }\n",
       "\n",
       "    .dataframe tbody tr th {\n",
       "        vertical-align: top;\n",
       "    }\n",
       "\n",
       "    .dataframe thead th {\n",
       "        text-align: right;\n",
       "    }\n",
       "</style>\n",
       "<table border=\"1\" class=\"dataframe\">\n",
       "  <thead>\n",
       "    <tr style=\"text-align: right;\">\n",
       "      <th></th>\n",
       "      <th>genres</th>\n",
       "      <th>original_title</th>\n",
       "      <th>id</th>\n",
       "      <th>year</th>\n",
       "    </tr>\n",
       "  </thead>\n",
       "  <tbody>\n",
       "    <tr>\n",
       "      <th>26560</th>\n",
       "      <td>[{'id': 12, 'name': 'Adventure'}, {'id': 28, '...</td>\n",
       "      <td>Pirates of the Caribbean: Dead Men Tell No Tales</td>\n",
       "      <td>166426</td>\n",
       "      <td>2017</td>\n",
       "    </tr>\n",
       "    <tr>\n",
       "      <th>26561</th>\n",
       "      <td>[{'id': 28, 'name': 'Action'}, {'id': 12, 'nam...</td>\n",
       "      <td>Justice League</td>\n",
       "      <td>141052</td>\n",
       "      <td>2017</td>\n",
       "    </tr>\n",
       "    <tr>\n",
       "      <th>26565</th>\n",
       "      <td>[{'id': 28, 'name': 'Action'}, {'id': 12, 'nam...</td>\n",
       "      <td>Thor: Ragnarok</td>\n",
       "      <td>284053</td>\n",
       "      <td>2017</td>\n",
       "    </tr>\n",
       "    <tr>\n",
       "      <th>26566</th>\n",
       "      <td>[{'id': 28, 'name': 'Action'}, {'id': 12, 'nam...</td>\n",
       "      <td>Guardians of the Galaxy Vol. 2</td>\n",
       "      <td>283995</td>\n",
       "      <td>2017</td>\n",
       "    </tr>\n",
       "    <tr>\n",
       "      <th>30536</th>\n",
       "      <td>[{'id': 14, 'name': 'Fantasy'}, {'id': 28, 'na...</td>\n",
       "      <td>The King's Daughter</td>\n",
       "      <td>245842</td>\n",
       "      <td>2017</td>\n",
       "    </tr>\n",
       "  </tbody>\n",
       "</table>\n",
       "</div>"
      ],
      "text/plain": [
       "                                                  genres  \\\n",
       "26560  [{'id': 12, 'name': 'Adventure'}, {'id': 28, '...   \n",
       "26561  [{'id': 28, 'name': 'Action'}, {'id': 12, 'nam...   \n",
       "26565  [{'id': 28, 'name': 'Action'}, {'id': 12, 'nam...   \n",
       "26566  [{'id': 28, 'name': 'Action'}, {'id': 12, 'nam...   \n",
       "30536  [{'id': 14, 'name': 'Fantasy'}, {'id': 28, 'na...   \n",
       "\n",
       "                                         original_title      id  year  \n",
       "26560  Pirates of the Caribbean: Dead Men Tell No Tales  166426  2017  \n",
       "26561                                    Justice League  141052  2017  \n",
       "26565                                    Thor: Ragnarok  284053  2017  \n",
       "26566                    Guardians of the Galaxy Vol. 2  283995  2017  \n",
       "30536                               The King's Daughter  245842  2017  "
      ]
     },
     "execution_count": 19,
     "metadata": {},
     "output_type": "execute_result"
    }
   ],
   "source": [
    "df = df[df['year'] == 2017]\n",
    "df.head(5)"
   ]
  },
  {
   "cell_type": "code",
   "execution_count": 20,
   "metadata": {},
   "outputs": [
    {
     "name": "stderr",
     "output_type": "stream",
     "text": [
      "/home/mehant/anaconda3/lib/python3.8/site-packages/IPython/core/interactiveshell.py:3146: DtypeWarning: Columns (2) have mixed types.Specify dtype option on import or set low_memory=False.\n",
      "  has_raised = await self.run_ast_nodes(code_ast.body, cell_name,\n"
     ]
    }
   ],
   "source": [
    "credits = pd.read_csv('data/credits.csv', usecols=['cast', 'crew','id'])"
   ]
  },
  {
   "cell_type": "code",
   "execution_count": 21,
   "metadata": {},
   "outputs": [
    {
     "data": {
      "text/plain": [
       "(45504, 3)"
      ]
     },
     "execution_count": 21,
     "metadata": {},
     "output_type": "execute_result"
    }
   ],
   "source": [
    "credits.shape"
   ]
  },
  {
   "cell_type": "code",
   "execution_count": 22,
   "metadata": {},
   "outputs": [
    {
     "data": {
      "text/html": [
       "<div>\n",
       "<style scoped>\n",
       "    .dataframe tbody tr th:only-of-type {\n",
       "        vertical-align: middle;\n",
       "    }\n",
       "\n",
       "    .dataframe tbody tr th {\n",
       "        vertical-align: top;\n",
       "    }\n",
       "\n",
       "    .dataframe thead th {\n",
       "        text-align: right;\n",
       "    }\n",
       "</style>\n",
       "<table border=\"1\" class=\"dataframe\">\n",
       "  <thead>\n",
       "    <tr style=\"text-align: right;\">\n",
       "      <th></th>\n",
       "      <th>cast</th>\n",
       "      <th>crew</th>\n",
       "      <th>id</th>\n",
       "    </tr>\n",
       "  </thead>\n",
       "  <tbody>\n",
       "    <tr>\n",
       "      <th>0</th>\n",
       "      <td>[{'cast_id': 14, 'character': 'Woody (voice)',...</td>\n",
       "      <td>[{'credit_id': '52fe4284c3a36847f8024f49', 'de...</td>\n",
       "      <td>862</td>\n",
       "    </tr>\n",
       "    <tr>\n",
       "      <th>1</th>\n",
       "      <td>[{'cast_id': 1, 'character': 'Alan Parrish', '...</td>\n",
       "      <td>[{'credit_id': '52fe44bfc3a36847f80a7cd1', 'de...</td>\n",
       "      <td>8844</td>\n",
       "    </tr>\n",
       "    <tr>\n",
       "      <th>2</th>\n",
       "      <td>[{'cast_id': 2, 'character': 'Max Goldman', 'c...</td>\n",
       "      <td>[{'credit_id': '52fe466a9251416c75077a89', 'de...</td>\n",
       "      <td>15602</td>\n",
       "    </tr>\n",
       "    <tr>\n",
       "      <th>3</th>\n",
       "      <td>[{'cast_id': 1, 'character': \"Savannah 'Vannah...</td>\n",
       "      <td>[{'credit_id': '52fe44779251416c91011acb', 'de...</td>\n",
       "      <td>31357</td>\n",
       "    </tr>\n",
       "    <tr>\n",
       "      <th>4</th>\n",
       "      <td>[{'cast_id': 1, 'character': 'George Banks', '...</td>\n",
       "      <td>[{'credit_id': '52fe44959251416c75039ed7', 'de...</td>\n",
       "      <td>11862</td>\n",
       "    </tr>\n",
       "  </tbody>\n",
       "</table>\n",
       "</div>"
      ],
      "text/plain": [
       "                                                cast  \\\n",
       "0  [{'cast_id': 14, 'character': 'Woody (voice)',...   \n",
       "1  [{'cast_id': 1, 'character': 'Alan Parrish', '...   \n",
       "2  [{'cast_id': 2, 'character': 'Max Goldman', 'c...   \n",
       "3  [{'cast_id': 1, 'character': \"Savannah 'Vannah...   \n",
       "4  [{'cast_id': 1, 'character': 'George Banks', '...   \n",
       "\n",
       "                                                crew     id  \n",
       "0  [{'credit_id': '52fe4284c3a36847f8024f49', 'de...    862  \n",
       "1  [{'credit_id': '52fe44bfc3a36847f80a7cd1', 'de...   8844  \n",
       "2  [{'credit_id': '52fe466a9251416c75077a89', 'de...  15602  \n",
       "3  [{'credit_id': '52fe44779251416c91011acb', 'de...  31357  \n",
       "4  [{'credit_id': '52fe44959251416c75039ed7', 'de...  11862  "
      ]
     },
     "execution_count": 22,
     "metadata": {},
     "output_type": "execute_result"
    }
   ],
   "source": [
    "credits.head()"
   ]
  },
  {
   "cell_type": "code",
   "execution_count": 23,
   "metadata": {},
   "outputs": [
    {
     "data": {
      "text/plain": [
       "cast     1\n",
       "crew    11\n",
       "id      28\n",
       "dtype: int64"
      ]
     },
     "execution_count": 23,
     "metadata": {},
     "output_type": "execute_result"
    }
   ],
   "source": [
    "credits.isna().sum()"
   ]
  },
  {
   "cell_type": "code",
   "execution_count": 24,
   "metadata": {},
   "outputs": [],
   "source": [
    "credits = credits.dropna()"
   ]
  },
  {
   "cell_type": "code",
   "execution_count": 25,
   "metadata": {},
   "outputs": [
    {
     "name": "stdout",
     "output_type": "stream",
     "text": [
      "(45475, 3)\n"
     ]
    }
   ],
   "source": [
    "credits.isna().sum()\n",
    "print(credits.shape)"
   ]
  },
  {
   "cell_type": "markdown",
   "metadata": {},
   "source": [
    "### Datatype conversion"
   ]
  },
  {
   "cell_type": "code",
   "execution_count": 26,
   "metadata": {},
   "outputs": [
    {
     "data": {
      "text/plain": [
       "array([<class 'int'>, <class 'str'>], dtype=object)"
      ]
     },
     "execution_count": 26,
     "metadata": {},
     "output_type": "execute_result"
    }
   ],
   "source": [
    "credits['id'].apply(type).unique()"
   ]
  },
  {
   "cell_type": "code",
   "execution_count": 27,
   "metadata": {},
   "outputs": [],
   "source": [
    "# df['id'] = df['id'].astype(int)\n",
    "# type(df['id'][26560])\n",
    "df['id'] = df['id'].apply(pd.to_numeric, errors='coerce')"
   ]
  },
  {
   "cell_type": "code",
   "execution_count": 28,
   "metadata": {},
   "outputs": [],
   "source": [
    "credits['id'] = credits['id'].apply(pd.to_numeric, errors='coerce')"
   ]
  },
  {
   "cell_type": "code",
   "execution_count": 29,
   "metadata": {},
   "outputs": [
    {
     "name": "stdout",
     "output_type": "stream",
     "text": [
      "<class 'numpy.float64'>\n",
      "<class 'numpy.int64'>\n"
     ]
    }
   ],
   "source": [
    "print(type(credits['id'][512]))\n",
    "print(type(df['id'][26560]))"
   ]
  },
  {
   "cell_type": "markdown",
   "metadata": {},
   "source": [
    "### Merge"
   ]
  },
  {
   "cell_type": "code",
   "execution_count": 30,
   "metadata": {},
   "outputs": [],
   "source": [
    "data = pd.merge(df, credits, on='id')"
   ]
  },
  {
   "cell_type": "code",
   "execution_count": 31,
   "metadata": {},
   "outputs": [
    {
     "data": {
      "text/html": [
       "<div>\n",
       "<style scoped>\n",
       "    .dataframe tbody tr th:only-of-type {\n",
       "        vertical-align: middle;\n",
       "    }\n",
       "\n",
       "    .dataframe tbody tr th {\n",
       "        vertical-align: top;\n",
       "    }\n",
       "\n",
       "    .dataframe thead th {\n",
       "        text-align: right;\n",
       "    }\n",
       "</style>\n",
       "<table border=\"1\" class=\"dataframe\">\n",
       "  <thead>\n",
       "    <tr style=\"text-align: right;\">\n",
       "      <th></th>\n",
       "      <th>genres</th>\n",
       "      <th>original_title</th>\n",
       "      <th>id</th>\n",
       "      <th>year</th>\n",
       "      <th>cast</th>\n",
       "      <th>crew</th>\n",
       "    </tr>\n",
       "  </thead>\n",
       "  <tbody>\n",
       "    <tr>\n",
       "      <th>0</th>\n",
       "      <td>[{'id': 12, 'name': 'Adventure'}, {'id': 28, '...</td>\n",
       "      <td>Pirates of the Caribbean: Dead Men Tell No Tales</td>\n",
       "      <td>166426</td>\n",
       "      <td>2017</td>\n",
       "      <td>[{'cast_id': 1, 'character': 'Captain Jack Spa...</td>\n",
       "      <td>[{'credit_id': '52fe4c9cc3a36847f8236a65', 'de...</td>\n",
       "    </tr>\n",
       "    <tr>\n",
       "      <th>1</th>\n",
       "      <td>[{'id': 28, 'name': 'Action'}, {'id': 12, 'nam...</td>\n",
       "      <td>Justice League</td>\n",
       "      <td>141052</td>\n",
       "      <td>2017</td>\n",
       "      <td>[{'cast_id': 2, 'character': 'Bruce Wayne / Ba...</td>\n",
       "      <td>[{'credit_id': '55ef66dbc3a3686f1700a52d', 'de...</td>\n",
       "    </tr>\n",
       "    <tr>\n",
       "      <th>2</th>\n",
       "      <td>[{'id': 28, 'name': 'Action'}, {'id': 12, 'nam...</td>\n",
       "      <td>Thor: Ragnarok</td>\n",
       "      <td>284053</td>\n",
       "      <td>2017</td>\n",
       "      <td>[{'cast_id': 0, 'character': 'Thor Odinson', '...</td>\n",
       "      <td>[{'credit_id': '56a93fa4c3a36872db001e7a', 'de...</td>\n",
       "    </tr>\n",
       "    <tr>\n",
       "      <th>3</th>\n",
       "      <td>[{'id': 28, 'name': 'Action'}, {'id': 12, 'nam...</td>\n",
       "      <td>Guardians of the Galaxy Vol. 2</td>\n",
       "      <td>283995</td>\n",
       "      <td>2017</td>\n",
       "      <td>[{'cast_id': 3, 'character': 'Peter Quill / St...</td>\n",
       "      <td>[{'credit_id': '59171547925141583c0315a6', 'de...</td>\n",
       "    </tr>\n",
       "    <tr>\n",
       "      <th>4</th>\n",
       "      <td>[{'id': 14, 'name': 'Fantasy'}, {'id': 28, 'na...</td>\n",
       "      <td>The King's Daughter</td>\n",
       "      <td>245842</td>\n",
       "      <td>2017</td>\n",
       "      <td>[{'cast_id': 0, 'character': 'King Louis XIV',...</td>\n",
       "      <td>[{'credit_id': '5431de49c3a36825d300007e', 'de...</td>\n",
       "    </tr>\n",
       "    <tr>\n",
       "      <th>...</th>\n",
       "      <td>...</td>\n",
       "      <td>...</td>\n",
       "      <td>...</td>\n",
       "      <td>...</td>\n",
       "      <td>...</td>\n",
       "      <td>...</td>\n",
       "    </tr>\n",
       "    <tr>\n",
       "      <th>400</th>\n",
       "      <td>[{'id': 10749, 'name': 'Romance'}, {'id': 35, ...</td>\n",
       "      <td>The Incredible Jessica James</td>\n",
       "      <td>432789</td>\n",
       "      <td>2017</td>\n",
       "      <td>[{'cast_id': 6, 'character': 'Jessica James', ...</td>\n",
       "      <td>[{'credit_id': '586a688dc3a3680f4e017d65', 'de...</td>\n",
       "    </tr>\n",
       "    <tr>\n",
       "      <th>401</th>\n",
       "      <td>[{'id': 10749, 'name': 'Romance'}]</td>\n",
       "      <td>Can't Buy My Love</td>\n",
       "      <td>445126</td>\n",
       "      <td>2017</td>\n",
       "      <td>[{'cast_id': 0, 'character': 'Lilly', 'credit_...</td>\n",
       "      <td>[{'credit_id': '58bbffb4925141609e037090', 'de...</td>\n",
       "    </tr>\n",
       "    <tr>\n",
       "      <th>402</th>\n",
       "      <td>[{'id': 80, 'name': 'Crime'}, {'id': 35, 'name...</td>\n",
       "      <td>Cop and a Half: New Recruit</td>\n",
       "      <td>461297</td>\n",
       "      <td>2017</td>\n",
       "      <td>[{'cast_id': 0, 'character': 'Detective Simmon...</td>\n",
       "      <td>[{'credit_id': '593ba0c29251410593009be3', 'de...</td>\n",
       "    </tr>\n",
       "    <tr>\n",
       "      <th>403</th>\n",
       "      <td>[{'id': 10751, 'name': 'Family'}, {'id': 16, '...</td>\n",
       "      <td>In a Heartbeat</td>\n",
       "      <td>455661</td>\n",
       "      <td>2017</td>\n",
       "      <td>[]</td>\n",
       "      <td>[{'credit_id': '5981a15c92514151e0011b51', 'de...</td>\n",
       "    </tr>\n",
       "    <tr>\n",
       "      <th>404</th>\n",
       "      <td>[]</td>\n",
       "      <td>Queerama</td>\n",
       "      <td>461257</td>\n",
       "      <td>2017</td>\n",
       "      <td>[]</td>\n",
       "      <td>[{'credit_id': '593e676c92514105b702e68e', 'de...</td>\n",
       "    </tr>\n",
       "  </tbody>\n",
       "</table>\n",
       "<p>405 rows × 6 columns</p>\n",
       "</div>"
      ],
      "text/plain": [
       "                                                genres  \\\n",
       "0    [{'id': 12, 'name': 'Adventure'}, {'id': 28, '...   \n",
       "1    [{'id': 28, 'name': 'Action'}, {'id': 12, 'nam...   \n",
       "2    [{'id': 28, 'name': 'Action'}, {'id': 12, 'nam...   \n",
       "3    [{'id': 28, 'name': 'Action'}, {'id': 12, 'nam...   \n",
       "4    [{'id': 14, 'name': 'Fantasy'}, {'id': 28, 'na...   \n",
       "..                                                 ...   \n",
       "400  [{'id': 10749, 'name': 'Romance'}, {'id': 35, ...   \n",
       "401                 [{'id': 10749, 'name': 'Romance'}]   \n",
       "402  [{'id': 80, 'name': 'Crime'}, {'id': 35, 'name...   \n",
       "403  [{'id': 10751, 'name': 'Family'}, {'id': 16, '...   \n",
       "404                                                 []   \n",
       "\n",
       "                                       original_title      id  year  \\\n",
       "0    Pirates of the Caribbean: Dead Men Tell No Tales  166426  2017   \n",
       "1                                      Justice League  141052  2017   \n",
       "2                                      Thor: Ragnarok  284053  2017   \n",
       "3                      Guardians of the Galaxy Vol. 2  283995  2017   \n",
       "4                                 The King's Daughter  245842  2017   \n",
       "..                                                ...     ...   ...   \n",
       "400                      The Incredible Jessica James  432789  2017   \n",
       "401                                 Can't Buy My Love  445126  2017   \n",
       "402                       Cop and a Half: New Recruit  461297  2017   \n",
       "403                                    In a Heartbeat  455661  2017   \n",
       "404                                          Queerama  461257  2017   \n",
       "\n",
       "                                                  cast  \\\n",
       "0    [{'cast_id': 1, 'character': 'Captain Jack Spa...   \n",
       "1    [{'cast_id': 2, 'character': 'Bruce Wayne / Ba...   \n",
       "2    [{'cast_id': 0, 'character': 'Thor Odinson', '...   \n",
       "3    [{'cast_id': 3, 'character': 'Peter Quill / St...   \n",
       "4    [{'cast_id': 0, 'character': 'King Louis XIV',...   \n",
       "..                                                 ...   \n",
       "400  [{'cast_id': 6, 'character': 'Jessica James', ...   \n",
       "401  [{'cast_id': 0, 'character': 'Lilly', 'credit_...   \n",
       "402  [{'cast_id': 0, 'character': 'Detective Simmon...   \n",
       "403                                                 []   \n",
       "404                                                 []   \n",
       "\n",
       "                                                  crew  \n",
       "0    [{'credit_id': '52fe4c9cc3a36847f8236a65', 'de...  \n",
       "1    [{'credit_id': '55ef66dbc3a3686f1700a52d', 'de...  \n",
       "2    [{'credit_id': '56a93fa4c3a36872db001e7a', 'de...  \n",
       "3    [{'credit_id': '59171547925141583c0315a6', 'de...  \n",
       "4    [{'credit_id': '5431de49c3a36825d300007e', 'de...  \n",
       "..                                                 ...  \n",
       "400  [{'credit_id': '586a688dc3a3680f4e017d65', 'de...  \n",
       "401  [{'credit_id': '58bbffb4925141609e037090', 'de...  \n",
       "402  [{'credit_id': '593ba0c29251410593009be3', 'de...  \n",
       "403  [{'credit_id': '5981a15c92514151e0011b51', 'de...  \n",
       "404  [{'credit_id': '593e676c92514105b702e68e', 'de...  \n",
       "\n",
       "[405 rows x 6 columns]"
      ]
     },
     "execution_count": 31,
     "metadata": {},
     "output_type": "execute_result"
    }
   ],
   "source": [
    "data"
   ]
  },
  {
   "cell_type": "markdown",
   "metadata": {},
   "source": [
    "## ast (Abstract Syntax Tree)"
   ]
  },
  {
   "cell_type": "code",
   "execution_count": 32,
   "metadata": {},
   "outputs": [],
   "source": [
    "import ast"
   ]
  },
  {
   "cell_type": "code",
   "execution_count": 33,
   "metadata": {},
   "outputs": [
    {
     "name": "stdout",
     "output_type": "stream",
     "text": [
      "<class 'str'>\n",
      "<class 'list'>\n"
     ]
    }
   ],
   "source": [
    "print(type(data.genres[0]))\n",
    "print(type(ast.literal_eval(data['genres'][0])))"
   ]
  },
  {
   "cell_type": "code",
   "execution_count": 34,
   "metadata": {},
   "outputs": [],
   "source": [
    "data['genres'] = data['genres'].map(lambda x: ast.literal_eval(x))\n",
    "data['cast'] = data['cast'].map(lambda x: ast.literal_eval(x))\n",
    "data['crew'] = data['crew'].map(lambda x: ast.literal_eval(x))"
   ]
  },
  {
   "cell_type": "code",
   "execution_count": 35,
   "metadata": {},
   "outputs": [],
   "source": [
    "def makingGenresList(x):\n",
    "    gen = []\n",
    "    st = \" \"\n",
    "    for i in x:\n",
    "        if i.get('name') == 'Science Fiction':\n",
    "            scifi = 'Sci-Fi'\n",
    "            gen.append(scifi)\n",
    "        else:\n",
    "            gen.append(i.get('name'))\n",
    "        if gen == []:\n",
    "            return np.NaN\n",
    "        else:\n",
    "            return st.join(gen)"
   ]
  },
  {
   "cell_type": "code",
   "execution_count": 36,
   "metadata": {},
   "outputs": [],
   "source": [
    "data['genres_list'] = data['genres'].map(lambda x: makingGenresList(x))"
   ]
  },
  {
   "cell_type": "code",
   "execution_count": 37,
   "metadata": {},
   "outputs": [
    {
     "data": {
      "text/plain": [
       "0      Adventure\n",
       "1         Action\n",
       "2         Action\n",
       "3         Action\n",
       "4        Fantasy\n",
       "         ...    \n",
       "400      Romance\n",
       "401      Romance\n",
       "402        Crime\n",
       "403       Family\n",
       "404         None\n",
       "Name: genres_list, Length: 405, dtype: object"
      ]
     },
     "execution_count": 37,
     "metadata": {},
     "output_type": "execute_result"
    }
   ],
   "source": [
    "data['genres_list']"
   ]
  },
  {
   "cell_type": "code",
   "execution_count": 38,
   "metadata": {},
   "outputs": [
    {
     "data": {
      "text/plain": [
       "[{'cast_id': 1,\n",
       "  'character': 'Captain Jack Sparrow',\n",
       "  'credit_id': '52fe4c9cc3a36847f8236a53',\n",
       "  'gender': 2,\n",
       "  'id': 85,\n",
       "  'name': 'Johnny Depp',\n",
       "  'order': 0,\n",
       "  'profile_path': '/kbWValANhZI8rbWZXximXuMN4UN.jpg'},\n",
       " {'cast_id': 9,\n",
       "  'character': 'Captain Armando Salazar',\n",
       "  'credit_id': '54db4949c3a368122d0017fe',\n",
       "  'gender': 2,\n",
       "  'id': 3810,\n",
       "  'name': 'Javier Bardem',\n",
       "  'order': 1,\n",
       "  'profile_path': '/grBOK7Ep09JBE3H5LyV5JaZZ1XZ.jpg'},\n",
       " {'cast_id': 16,\n",
       "  'character': 'Captain Hector Barbossa',\n",
       "  'credit_id': '54e44e5ec3a368454b00a02f',\n",
       "  'gender': 2,\n",
       "  'id': 118,\n",
       "  'name': 'Geoffrey Rush',\n",
       "  'order': 2,\n",
       "  'profile_path': '/5h91WHSK80YtqTk1bMiar2IZzO2.jpg'},\n",
       " {'cast_id': 7,\n",
       "  'character': 'Henry Turner',\n",
       "  'credit_id': '54db49359251415a0d0012a0',\n",
       "  'gender': 2,\n",
       "  'id': 1017347,\n",
       "  'name': 'Brenton Thwaites',\n",
       "  'order': 3,\n",
       "  'profile_path': '/dM0m0OxREfW4HxwV2qQeitS8dfO.jpg'},\n",
       " {'cast_id': 8,\n",
       "  'character': 'Carina Smyth',\n",
       "  'credit_id': '54db493e925141618f00189a',\n",
       "  'gender': 1,\n",
       "  'id': 115150,\n",
       "  'name': 'Kaya Scodelario',\n",
       "  'order': 4,\n",
       "  'profile_path': '/iTrPnn7oS96k0iWPzNxaKCNutB6.jpg'},\n",
       " {'cast_id': 14,\n",
       "  'character': 'Joshamee Gibbs',\n",
       "  'credit_id': '54e44e31c3a368087b004b56',\n",
       "  'gender': 2,\n",
       "  'id': 2449,\n",
       "  'name': 'Kevin McNally',\n",
       "  'order': 5,\n",
       "  'profile_path': '/fIJF3TZn8ckHkcl44oX77GvPv9e.jpg'},\n",
       " {'cast_id': 15,\n",
       "  'character': 'Scrum',\n",
       "  'credit_id': '54e44e4fc3a3684897002c08',\n",
       "  'gender': 2,\n",
       "  'id': 1115,\n",
       "  'name': 'Stephen Graham',\n",
       "  'order': 6,\n",
       "  'profile_path': '/81VZiCA6w8nXG0UjqXCgSJare5N.jpg'},\n",
       " {'cast_id': 28,\n",
       "  'character': 'Scarfield',\n",
       "  'credit_id': '57f68ea49251413616007300',\n",
       "  'gender': 2,\n",
       "  'id': 1371,\n",
       "  'name': 'David Wenham',\n",
       "  'order': 7,\n",
       "  'profile_path': '/xDUXLTF5i2fYx7eSEAR3IdaUb9y.jpg'},\n",
       " {'cast_id': 13,\n",
       "  'character': 'Shansa',\n",
       "  'credit_id': '54e44e0cc3a3685756009e87',\n",
       "  'gender': 1,\n",
       "  'id': 229932,\n",
       "  'name': 'Golshifteh Farahani',\n",
       "  'order': 8,\n",
       "  'profile_path': '/lbsd2lAIQq4egOUXDIfjhte12vv.jpg'},\n",
       " {'cast_id': 17,\n",
       "  'character': 'Will Turner',\n",
       "  'credit_id': '554768e292514119e00065f8',\n",
       "  'gender': 2,\n",
       "  'id': 114,\n",
       "  'name': 'Orlando Bloom',\n",
       "  'order': 9,\n",
       "  'profile_path': '/kKWJlX2tcjqceSfUxnV7Jle5Kt.jpg'},\n",
       " {'cast_id': 18,\n",
       "  'character': 'Marty',\n",
       "  'credit_id': '554769499251411147001bcb',\n",
       "  'gender': 2,\n",
       "  'id': 4030,\n",
       "  'name': 'Martin Klebba',\n",
       "  'order': 10,\n",
       "  'profile_path': '/amlhUrXQ7t1NEPajdj2dQdbC0rt.jpg'},\n",
       " {'cast_id': 23,\n",
       "  'character': 'Mullroy',\n",
       "  'credit_id': '57e2922bc3a36808b900c1a3',\n",
       "  'gender': 2,\n",
       "  'id': 1714,\n",
       "  'name': 'Angus Barnett',\n",
       "  'order': 11,\n",
       "  'profile_path': '/usYsWRccdM4Y00RycsQFFOdNVe.jpg'},\n",
       " {'cast_id': 19,\n",
       "  'character': 'Cremble',\n",
       "  'credit_id': '55476961c3a3680ce80091da',\n",
       "  'gender': 0,\n",
       "  'id': 1193833,\n",
       "  'name': 'Adam Brown',\n",
       "  'order': 12,\n",
       "  'profile_path': '/54iHvIA8ZTNfvKpb2ZxRY73A5MZ.jpg'},\n",
       " {'cast_id': 38,\n",
       "  'character': 'Bollard',\n",
       "  'credit_id': '57f68ea7925141360100754f',\n",
       "  'gender': 0,\n",
       "  'id': 1355191,\n",
       "  'name': 'Danny Kirrane',\n",
       "  'order': 13,\n",
       "  'profile_path': '/vn4NIHMJb0Sf39MOP3cgMdk2N8h.jpg'},\n",
       " {'cast_id': 22,\n",
       "  'character': 'Murtogg',\n",
       "  'credit_id': '57e29210c3a3680a110056ca',\n",
       "  'gender': 0,\n",
       "  'id': 1713,\n",
       "  'name': 'Giles New',\n",
       "  'order': 14,\n",
       "  'profile_path': '/e0Ap9fkLAFcxLVHpK8KH2TQV3wI.jpg'},\n",
       " {'cast_id': 84,\n",
       "  'character': 'Pike',\n",
       "  'credit_id': '591f7a46c3a368723d03b63b',\n",
       "  'gender': 0,\n",
       "  'id': 1819920,\n",
       "  'name': 'Delroy Atkinson',\n",
       "  'order': 15,\n",
       "  'profile_path': '/XcMnuXUPLNYzRL58s5TKPUFq2g.jpg'},\n",
       " {'cast_id': 21,\n",
       "  'character': 'Uncle Jack',\n",
       "  'credit_id': '57e291cf92514118f700625d',\n",
       "  'gender': 2,\n",
       "  'id': 10215,\n",
       "  'name': 'Paul McCartney',\n",
       "  'order': 16,\n",
       "  'profile_path': '/v7FagbD9EY4MVUtcrk9ESjPWV7q.jpg'},\n",
       " {'cast_id': 43,\n",
       "  'character': 'Elizabeth Swann',\n",
       "  'credit_id': '58f708cf9251415dec00953a',\n",
       "  'gender': 1,\n",
       "  'id': 116,\n",
       "  'name': 'Keira Knightley',\n",
       "  'order': 17,\n",
       "  'profile_path': '/rv6quYbTgFTmBAoePwy5xuurW3g.jpg'},\n",
       " {'cast_id': 91,\n",
       "  'character': 'Young Jack Sparrow',\n",
       "  'credit_id': '59338b3dc3a3685a35016ca6',\n",
       "  'gender': 0,\n",
       "  'id': 1772106,\n",
       "  'name': 'Anthony De La Torre',\n",
       "  'order': 18,\n",
       "  'profile_path': '/sgtspl6fcAuhPo4wKYkzlzSgvmg.jpg'},\n",
       " {'cast_id': 92,\n",
       "  'character': 'Young Henry Turner',\n",
       "  'credit_id': '59338b66c3a36859de01633a',\n",
       "  'gender': 2,\n",
       "  'id': 1828139,\n",
       "  'name': 'Lewis McGowan',\n",
       "  'order': 19,\n",
       "  'profile_path': '/27pyhArCRR8ZqIyiak9c0N0l1nz.jpg'},\n",
       " {'cast_id': 85,\n",
       "  'character': 'Lieutenant Lesaro',\n",
       "  'credit_id': '591f7a8cc3a368799b037a0a',\n",
       "  'gender': 2,\n",
       "  'id': 1089049,\n",
       "  'name': 'Juan Carlos Vellido',\n",
       "  'order': 20,\n",
       "  'profile_path': '/m1GEfFgcDNPTCTGUhrita7d5ec1.jpg'},\n",
       " {'cast_id': 86,\n",
       "  'character': 'Officer Madga',\n",
       "  'credit_id': '591f7acc925141482f039128',\n",
       "  'gender': 0,\n",
       "  'id': 1530814,\n",
       "  'name': 'Rodney Afif',\n",
       "  'order': 21,\n",
       "  'profile_path': '/wr1gTOcRcyKO4fYlUwsPLRlP7bn.jpg'},\n",
       " {'cast_id': 87,\n",
       "  'character': 'Mayor Dix',\n",
       "  'credit_id': '591f7ae1c3a3687a64039857',\n",
       "  'gender': 2,\n",
       "  'id': 27752,\n",
       "  'name': 'Bruce Spence',\n",
       "  'order': 22,\n",
       "  'profile_path': '/pwJJBmO9MG3OxVX9efGrB6BTFyw.jpg'},\n",
       " {'cast_id': 31,\n",
       "  'character': \"Mayor's Wife\",\n",
       "  'credit_id': '57f68ea5c3a3681607006e8c',\n",
       "  'gender': 1,\n",
       "  'id': 61914,\n",
       "  'name': 'Zoe Ventoura',\n",
       "  'order': 23,\n",
       "  'profile_path': '/fMBiXCtCTqpEmjAfTVC3NssVMCk.jpg'},\n",
       " {'cast_id': 33,\n",
       "  'character': 'Maddox',\n",
       "  'credit_id': '57f68ea6c3a3681607006e8e',\n",
       "  'gender': 2,\n",
       "  'id': 1112872,\n",
       "  'name': 'James Mackay',\n",
       "  'order': 24,\n",
       "  'profile_path': '/nJPYaP94wXwh1bYnFzkQh1BB30l.jpg'},\n",
       " {'cast_id': 51,\n",
       "  'character': 'Upper Class Lady',\n",
       "  'credit_id': '591293c59251414edb04e228',\n",
       "  'gender': 1,\n",
       "  'id': 1813772,\n",
       "  'name': 'Brooke Chamberlain',\n",
       "  'order': 25,\n",
       "  'profile_path': '/vYqTEUUY4EG6jPzP5wnZNhy4aAy.jpg'},\n",
       " {'cast_id': 45,\n",
       "  'character': 'Young Captain Teague',\n",
       "  'credit_id': '5912926dc3a368646b0521a2',\n",
       "  'gender': 2,\n",
       "  'id': 16811,\n",
       "  'name': 'Alexander Scheer',\n",
       "  'order': 26,\n",
       "  'profile_path': '/f6eWj5VEMBb3O3aviqgMoujM3kf.jpg'},\n",
       " {'cast_id': 32,\n",
       "  'character': 'Pirate Broom',\n",
       "  'credit_id': '57f68ea5925141360d007429',\n",
       "  'gender': 0,\n",
       "  'id': 61784,\n",
       "  'name': 'Goran D. Kleut',\n",
       "  'order': 27,\n",
       "  'profile_path': '/ikAVxzlgo4bXQWn4GpoFfDrgnth.jpg'},\n",
       " {'cast_id': 40,\n",
       "  'character': 'Pirate',\n",
       "  'credit_id': '57f68ea892514136130074b0',\n",
       "  'gender': 0,\n",
       "  'id': 1535048,\n",
       "  'name': 'Wassim Hawat',\n",
       "  'order': 28,\n",
       "  'profile_path': '/yTJCBoDa1OKt7h6JDKYaZnlLqeA.jpg'},\n",
       " {'cast_id': 37,\n",
       "  'character': 'British Executioner',\n",
       "  'credit_id': '57f68ea7925141360100754d',\n",
       "  'gender': 0,\n",
       "  'id': 1394235,\n",
       "  'name': \"Ben O'Toole\",\n",
       "  'order': 29,\n",
       "  'profile_path': '/f9cCCp1PlRZo4sWdwppHTeOC8kZ.jpg'},\n",
       " {'cast_id': 42,\n",
       "  'character': 'Young Pirate Jeff',\n",
       "  'credit_id': '57f68ea8c3a368161c007391',\n",
       "  'gender': 2,\n",
       "  'id': 1690240,\n",
       "  'name': 'Finn Ireland',\n",
       "  'order': 30,\n",
       "  'profile_path': '/x1IZJZLFHboPhZbdycZcNo2kZoM.jpg'},\n",
       " {'cast_id': 44,\n",
       "  'character': 'Spanish Officer',\n",
       "  'credit_id': '59129248c3a36864ec048639',\n",
       "  'gender': 0,\n",
       "  'id': 1414764,\n",
       "  'name': 'Nico Cortez',\n",
       "  'order': 31,\n",
       "  'profile_path': '/ujk9vAlutbLUe9VbjPE6RDuQqVC.jpg'},\n",
       " {'cast_id': 49,\n",
       "  'character': 'Young Greenhorn',\n",
       "  'credit_id': '591293549251414eca04accf',\n",
       "  'gender': 0,\n",
       "  'id': 1394227,\n",
       "  'name': 'James Fraser',\n",
       "  'order': 32,\n",
       "  'profile_path': '/4lcpUIRwFVmPkkxUvYdUNSQQddc.jpg'},\n",
       " {'cast_id': 115,\n",
       "  'character': 'Woman',\n",
       "  'credit_id': '59c783a3c3a368140305a3f1',\n",
       "  'gender': 0,\n",
       "  'id': 1499792,\n",
       "  'name': 'Derani Scarr',\n",
       "  'order': 33,\n",
       "  'profile_path': '/aob0mfWTaJaUlHDVef2dA7Dlwhc.jpg'},\n",
       " {'cast_id': 93,\n",
       "  'character': 'Grimes',\n",
       "  'credit_id': '5999d18a9251414a18001dd4',\n",
       "  'gender': 0,\n",
       "  'id': 126200,\n",
       "  'name': 'Robert Morgan',\n",
       "  'order': 34,\n",
       "  'profile_path': '/8sFiiilQmp2jvLKn6h5QPchA5Gq.jpg'},\n",
       " {'cast_id': 94,\n",
       "  'character': 'Pirate with Broom',\n",
       "  'credit_id': '59a67afe9251411293009e0c',\n",
       "  'gender': 0,\n",
       "  'id': 61784,\n",
       "  'name': 'Goran D. Kleut',\n",
       "  'order': 35,\n",
       "  'profile_path': '/ikAVxzlgo4bXQWn4GpoFfDrgnth.jpg'},\n",
       " {'cast_id': 29,\n",
       "  'character': 'Spanish Soldier',\n",
       "  'credit_id': '57f68ea5925141360100754a',\n",
       "  'gender': 2,\n",
       "  'id': 1386458,\n",
       "  'name': 'Mahesh Jadu',\n",
       "  'order': 36,\n",
       "  'profile_path': '/gfcZiYji4x3tjGQq7vTK8goz40D.jpg'},\n",
       " {'cast_id': 34,\n",
       "  'character': 'British Soldier',\n",
       "  'credit_id': '57f68ea692514136130074ae',\n",
       "  'gender': 0,\n",
       "  'id': 1394427,\n",
       "  'name': 'Travis Jeffery',\n",
       "  'order': 37,\n",
       "  'profile_path': '/lOR40uoh60aKx3ORArhKBQAaBO6.jpg'},\n",
       " {'cast_id': 111,\n",
       "  'character': 'British Soldier',\n",
       "  'credit_id': '59c77df0c3a36813ed057ad8',\n",
       "  'gender': 0,\n",
       "  'id': 1205492,\n",
       "  'name': 'Akos Armont',\n",
       "  'order': 38,\n",
       "  'profile_path': '/t0nRw07H8aXtzz7az5yjDSZwVVg.jpg'},\n",
       " {'cast_id': 104,\n",
       "  'character': 'British Soldier',\n",
       "  'credit_id': '59c6c742c3a368141e044fa3',\n",
       "  'gender': 0,\n",
       "  'id': 1533328,\n",
       "  'name': 'Sean Lynch',\n",
       "  'order': 39,\n",
       "  'profile_path': '/m8Q9SaYTWJ5iXLoS2E4zvcD4tQ1.jpg'},\n",
       " {'cast_id': 95,\n",
       "  'character': 'British Soldier',\n",
       "  'credit_id': '59a67b84c3a36827990085f8',\n",
       "  'gender': 0,\n",
       "  'id': 1394235,\n",
       "  'name': \"Ben O'Toole\",\n",
       "  'order': 40,\n",
       "  'profile_path': '/f9cCCp1PlRZo4sWdwppHTeOC8kZ.jpg'},\n",
       " {'cast_id': 105,\n",
       "  'character': 'CG Ghost Soldier',\n",
       "  'credit_id': '59c6c7d69251415b32049e77',\n",
       "  'gender': 0,\n",
       "  'id': 1893668,\n",
       "  'name': 'Akshay Caplash',\n",
       "  'order': 41,\n",
       "  'profile_path': '/s3QTX4IdN3wUNN9YiZBid2ANhmM.jpg'},\n",
       " {'cast_id': 106,\n",
       "  'character': 'CG Ghost Soldier',\n",
       "  'credit_id': '59c6c8629251415b6e047778',\n",
       "  'gender': 2,\n",
       "  'id': 1893671,\n",
       "  'name': 'Rafael Torrijos',\n",
       "  'order': 42,\n",
       "  'profile_path': '/lro1QSBv5cmkiO8R8RbxADGXIka.jpg'},\n",
       " {'cast_id': 112,\n",
       "  'character': 'CG Ghost Soldier',\n",
       "  'credit_id': '59c7805d9251415b87053e7f',\n",
       "  'gender': 0,\n",
       "  'id': 1893872,\n",
       "  'name': 'Mivon Prince-Leyva',\n",
       "  'order': 43,\n",
       "  'profile_path': '/c5CfJBn3B0Ce07TxgPUx9ttUTLv.jpg'},\n",
       " {'cast_id': 110,\n",
       "  'character': 'First Officer Wade',\n",
       "  'credit_id': '59c77d9cc3a3681454052a75',\n",
       "  'gender': 2,\n",
       "  'id': 76068,\n",
       "  'name': 'Michael Dorman',\n",
       "  'order': 44,\n",
       "  'profile_path': '/95hvX99zyHIpHJ9Ajv35TWgNlGN.jpg'},\n",
       " {'cast_id': 116,\n",
       "  'character': 'Officer Cole',\n",
       "  'credit_id': '59c784a99251415b870541ed',\n",
       "  'gender': 2,\n",
       "  'id': 33184,\n",
       "  'name': 'Rohan Nichol',\n",
       "  'order': 45,\n",
       "  'profile_path': '/nzvL3MRpADYWlH4ppyYgmCnM1kZ.jpg'},\n",
       " {'cast_id': 96,\n",
       "  'character': 'Officer Santos',\n",
       "  'credit_id': '59c6b999c3a368144304be34',\n",
       "  'gender': 0,\n",
       "  'id': 1893640,\n",
       "  'name': 'Rupert Raineri',\n",
       "  'order': 46,\n",
       "  'profile_path': '/oXeONe2M6qwiVlDFpJIT1wrA9Ek.jpg'},\n",
       " {'cast_id': 97,\n",
       "  'character': 'Officer Moss',\n",
       "  'credit_id': '59c6b9fec3a368143004b954',\n",
       "  'gender': 0,\n",
       "  'id': 1893641,\n",
       "  'name': 'Stephen Lopez',\n",
       "  'order': 47,\n",
       "  'profile_path': '/hYoItjKNWnncBbjM3voLEu5DnN8.jpg'},\n",
       " {'cast_id': 109,\n",
       "  'character': 'Captain Toms',\n",
       "  'credit_id': '59c77d659251415b5d05482d',\n",
       "  'gender': 0,\n",
       "  'id': 75744,\n",
       "  'name': 'Richard Piper',\n",
       "  'order': 48,\n",
       "  'profile_path': '/3SEI2j8jIzVthrYifpMgjNC4MHp.jpg'},\n",
       " {'cast_id': 98,\n",
       "  'character': 'Mr. Krill',\n",
       "  'credit_id': '59c6bc1dc3a368140304c936',\n",
       "  'gender': 0,\n",
       "  'id': 1347909,\n",
       "  'name': 'Justin Smith',\n",
       "  'order': 49,\n",
       "  'profile_path': '/7knG8VrDuEmhAZT2B4p1zmMjDJy.jpg'},\n",
       " {'cast_id': 99,\n",
       "  'character': 'Mr. Swift',\n",
       "  'credit_id': '59c6be5f9251415b2804b325',\n",
       "  'gender': 0,\n",
       "  'id': 1486057,\n",
       "  'name': 'John Leary',\n",
       "  'order': 50,\n",
       "  'profile_path': '/bCP5mcXgFp5X7mq7jTmYpmBbtHE.jpg'},\n",
       " {'cast_id': 100,\n",
       "  'character': 'Bowen',\n",
       "  'credit_id': '59c6c070c3a368141e0448fa',\n",
       "  'gender': 0,\n",
       "  'id': 1014587,\n",
       "  'name': 'Bryan Probets',\n",
       "  'order': 51,\n",
       "  'profile_path': '/wp0o01OuR5YF3DWjBBUYAWUbzHA.jpg'},\n",
       " {'cast_id': 113,\n",
       "  'character': 'Pig Kelly',\n",
       "  'credit_id': '59c7810a9251415b240582b0',\n",
       "  'gender': 2,\n",
       "  'id': 57904,\n",
       "  'name': 'Ken Radley',\n",
       "  'order': 52,\n",
       "  'profile_path': '/jqiM2DbXtNRF3yxRaU2nkYzewEJ.jpg'},\n",
       " {'cast_id': 101,\n",
       "  'character': 'Beatrice',\n",
       "  'credit_id': '59c6c14bc3a36813ed04aed4',\n",
       "  'gender': 1,\n",
       "  'id': 1252521,\n",
       "  'name': 'Hannah Walters',\n",
       "  'order': 53,\n",
       "  'profile_path': '/3hUokXHcRhdpM971cb3kbaVSrY8.jpg'},\n",
       " {'cast_id': 114,\n",
       "  'character': 'Priest',\n",
       "  'credit_id': '59c7826c9251415b32055db4',\n",
       "  'gender': 0,\n",
       "  'id': 1545346,\n",
       "  'name': 'Jonathan Elsom',\n",
       "  'order': 54,\n",
       "  'profile_path': '/i1LEAdB5y6zg4lVa01hV9ZZo7Ew.jpg'},\n",
       " {'cast_id': 102,\n",
       "  'character': 'Captain Morgan',\n",
       "  'credit_id': '59c6c217c3a3681454046e90',\n",
       "  'gender': 2,\n",
       "  'id': 143328,\n",
       "  'name': 'K. Todd Freeman',\n",
       "  'order': 55,\n",
       "  'profile_path': '/2L7Qh4hA2dsCIPZAVfgerax7i2q.jpg'},\n",
       " {'cast_id': 107,\n",
       "  'character': 'Jail Guard',\n",
       "  'credit_id': '59c6c957c3a368140304d946',\n",
       "  'gender': 0,\n",
       "  'id': 1893677,\n",
       "  'name': 'James Lawson',\n",
       "  'order': 56,\n",
       "  'profile_path': '/gtcdsTruLPzpL2xJhePsOq38LjX.jpg'},\n",
       " {'cast_id': 108,\n",
       "  'character': \"Uncle Jack's Cellmate\",\n",
       "  'credit_id': '59c6ca34c3a3681461041481',\n",
       "  'gender': 0,\n",
       "  'id': 1216570,\n",
       "  'name': 'Darcy Laurie',\n",
       "  'order': 57,\n",
       "  'profile_path': '/bTZgOB4wl4ECbHiGjoKQAQdvTUW.jpg'},\n",
       " {'cast_id': 30,\n",
       "  'character': 'Townswoman (uncredited)',\n",
       "  'credit_id': '57f68ea592514172c5002e01',\n",
       "  'gender': 1,\n",
       "  'id': 1255055,\n",
       "  'name': 'Jessica Green',\n",
       "  'order': 58,\n",
       "  'profile_path': '/7l3bkNv92uii8im5B4vyF0ABgcS.jpg'},\n",
       " {'cast_id': 52,\n",
       "  'character': 'Townswoman (uncredited)',\n",
       "  'credit_id': '591294019251414e8504da81',\n",
       "  'gender': 0,\n",
       "  'id': 1345090,\n",
       "  'name': 'Haley Madison',\n",
       "  'order': 59,\n",
       "  'profile_path': '/3XJGp5oJCGvqosOhSSgQZWI8cKo.jpg'},\n",
       " {'cast_id': 36,\n",
       "  'character': 'Townschild (uncredited)',\n",
       "  'credit_id': '57f68ea7c3a36816250071ea',\n",
       "  'gender': 0,\n",
       "  'id': 1632129,\n",
       "  'name': 'Kiara Freeman',\n",
       "  'order': 60,\n",
       "  'profile_path': '/3n5EDxHBritMzqxIS47A6Qccg74.jpg'},\n",
       " {'cast_id': 35,\n",
       "  'character': 'Townschild (uncredited)',\n",
       "  'credit_id': '57f68ea6c3a3681604007202',\n",
       "  'gender': 0,\n",
       "  'id': 1690237,\n",
       "  'name': 'Piper Nairn',\n",
       "  'order': 61,\n",
       "  'profile_path': '/cOVpgx5JF9XeFUF2am9Bk4f5wkh.jpg'},\n",
       " {'cast_id': 53,\n",
       "  'character': 'Townsperson (uncredited)',\n",
       "  'credit_id': '5912942ec3a36864c604d3d7',\n",
       "  'gender': 1,\n",
       "  'id': 1692989,\n",
       "  'name': 'Suzanne Dervish-Ali',\n",
       "  'order': 62,\n",
       "  'profile_path': '/7OQgHuuzFbtO9jAF4w6zcuzqmAK.jpg'},\n",
       " {'cast_id': 50,\n",
       "  'character': 'Townsperson (uncredited)',\n",
       "  'credit_id': '591293a5c3a368650a04aff2',\n",
       "  'gender': 0,\n",
       "  'id': 1813771,\n",
       "  'name': 'Donnie Baxter',\n",
       "  'order': 63,\n",
       "  'profile_path': '/dm2cSQwySnOj9sWqca9nBspS8sL.jpg'},\n",
       " {'cast_id': 41,\n",
       "  'character': 'Maid (uncredited)',\n",
       "  'credit_id': '57f68ea8925141360300747b',\n",
       "  'gender': 0,\n",
       "  'id': 1690239,\n",
       "  'name': 'Winnie Mzembe',\n",
       "  'order': 64,\n",
       "  'profile_path': '/lUTozzeBvTZZkpUQLE5V5baS12X.jpg'},\n",
       " {'cast_id': 39,\n",
       "  'character': 'Greenwich Village Upper Class Lady (uncredited)',\n",
       "  'credit_id': '57f68ea892514172c5002e04',\n",
       "  'gender': 0,\n",
       "  'id': 1690238,\n",
       "  'name': 'Christie-Lee Britten',\n",
       "  'order': 65,\n",
       "  'profile_path': '/uNSjA73XjDbQMJB1XGnoKB89zux.jpg'},\n",
       " {'cast_id': 48,\n",
       "  'character': 'Twin Middle Class Lady (uncredited)',\n",
       "  'credit_id': '5912932f9251414e8904ee64',\n",
       "  'gender': 0,\n",
       "  'id': 1813770,\n",
       "  'name': 'Mollie McGregor',\n",
       "  'order': 66,\n",
       "  'profile_path': '/q4XZ9rV1TbrsqvK91a9FAMudL6C.jpg'},\n",
       " {'cast_id': 103,\n",
       "  'character': 'Twin Middle Class Lady (uncredited)',\n",
       "  'credit_id': '59c6c5399251415b6e0473ea',\n",
       "  'gender': 0,\n",
       "  'id': 1571654,\n",
       "  'name': 'Sophia McGregor',\n",
       "  'order': 67,\n",
       "  'profile_path': '/egbKVmd3f1xgAq90vDiRLLZIFXx.jpg'}]"
      ]
     },
     "execution_count": 38,
     "metadata": {},
     "output_type": "execute_result"
    }
   ],
   "source": [
    "data['cast'][0]"
   ]
  },
  {
   "cell_type": "code",
   "execution_count": 39,
   "metadata": {},
   "outputs": [],
   "source": [
    "# def get_actor1(x):\n",
    "#     casts = []\n",
    "#     for i in x:\n",
    "#         returncasts.append(i.get('name'))"
   ]
  },
  {
   "cell_type": "code",
   "execution_count": 40,
   "metadata": {},
   "outputs": [],
   "source": [
    "def get_actor(x, n):\n",
    "    c = 0\n",
    "    l = []\n",
    "    for i in x:\n",
    "        l.append(i.get('name'))\n",
    "        c += 1\n",
    "        if c == 3:\n",
    "            if l == []:\n",
    "                return np.NaN\n",
    "            else:\n",
    "                return l[n-1]"
   ]
  },
  {
   "cell_type": "code",
   "execution_count": 41,
   "metadata": {},
   "outputs": [],
   "source": [
    "data['actor1'] = data['cast'].map(lambda x: get_actor(x, 1))\n",
    "data['actor2'] = data['cast'].map(lambda x: get_actor(x, 2))\n",
    "data['actor3'] = data['cast'].map(lambda x: get_actor(x, 3))"
   ]
  },
  {
   "cell_type": "code",
   "execution_count": 42,
   "metadata": {},
   "outputs": [],
   "source": [
    "# data.crew[0]"
   ]
  },
  {
   "cell_type": "code",
   "execution_count": 43,
   "metadata": {},
   "outputs": [],
   "source": [
    "def get_director(x):\n",
    "    l = []\n",
    "    s = \" \"\n",
    "    for i in x:\n",
    "        if i.get('job') == 'Director':\n",
    "            l.append(i.get('name'))\n",
    "    if l == []:\n",
    "        return np.NaN\n",
    "    else:\n",
    "        return (s.join(l))"
   ]
  },
  {
   "cell_type": "code",
   "execution_count": 44,
   "metadata": {},
   "outputs": [],
   "source": [
    "data['director'] = data['crew'].map(lambda x: get_director(x))"
   ]
  },
  {
   "cell_type": "code",
   "execution_count": 45,
   "metadata": {},
   "outputs": [
    {
     "data": {
      "text/html": [
       "<div>\n",
       "<style scoped>\n",
       "    .dataframe tbody tr th:only-of-type {\n",
       "        vertical-align: middle;\n",
       "    }\n",
       "\n",
       "    .dataframe tbody tr th {\n",
       "        vertical-align: top;\n",
       "    }\n",
       "\n",
       "    .dataframe thead th {\n",
       "        text-align: right;\n",
       "    }\n",
       "</style>\n",
       "<table border=\"1\" class=\"dataframe\">\n",
       "  <thead>\n",
       "    <tr style=\"text-align: right;\">\n",
       "      <th></th>\n",
       "      <th>genres</th>\n",
       "      <th>original_title</th>\n",
       "      <th>id</th>\n",
       "      <th>year</th>\n",
       "      <th>cast</th>\n",
       "      <th>crew</th>\n",
       "      <th>genres_list</th>\n",
       "      <th>actor1</th>\n",
       "      <th>actor2</th>\n",
       "      <th>actor3</th>\n",
       "      <th>director</th>\n",
       "    </tr>\n",
       "  </thead>\n",
       "  <tbody>\n",
       "    <tr>\n",
       "      <th>0</th>\n",
       "      <td>[{'id': 12, 'name': 'Adventure'}, {'id': 28, '...</td>\n",
       "      <td>Pirates of the Caribbean: Dead Men Tell No Tales</td>\n",
       "      <td>166426</td>\n",
       "      <td>2017</td>\n",
       "      <td>[{'cast_id': 1, 'character': 'Captain Jack Spa...</td>\n",
       "      <td>[{'credit_id': '52fe4c9cc3a36847f8236a65', 'de...</td>\n",
       "      <td>Adventure</td>\n",
       "      <td>Johnny Depp</td>\n",
       "      <td>Javier Bardem</td>\n",
       "      <td>Geoffrey Rush</td>\n",
       "      <td>Joachim Rønning Espen Sandberg</td>\n",
       "    </tr>\n",
       "    <tr>\n",
       "      <th>1</th>\n",
       "      <td>[{'id': 28, 'name': 'Action'}, {'id': 12, 'nam...</td>\n",
       "      <td>Justice League</td>\n",
       "      <td>141052</td>\n",
       "      <td>2017</td>\n",
       "      <td>[{'cast_id': 2, 'character': 'Bruce Wayne / Ba...</td>\n",
       "      <td>[{'credit_id': '55ef66dbc3a3686f1700a52d', 'de...</td>\n",
       "      <td>Action</td>\n",
       "      <td>Ben Affleck</td>\n",
       "      <td>Henry Cavill</td>\n",
       "      <td>Gal Gadot</td>\n",
       "      <td>Zack Snyder</td>\n",
       "    </tr>\n",
       "  </tbody>\n",
       "</table>\n",
       "</div>"
      ],
      "text/plain": [
       "                                              genres  \\\n",
       "0  [{'id': 12, 'name': 'Adventure'}, {'id': 28, '...   \n",
       "1  [{'id': 28, 'name': 'Action'}, {'id': 12, 'nam...   \n",
       "\n",
       "                                     original_title      id  year  \\\n",
       "0  Pirates of the Caribbean: Dead Men Tell No Tales  166426  2017   \n",
       "1                                    Justice League  141052  2017   \n",
       "\n",
       "                                                cast  \\\n",
       "0  [{'cast_id': 1, 'character': 'Captain Jack Spa...   \n",
       "1  [{'cast_id': 2, 'character': 'Bruce Wayne / Ba...   \n",
       "\n",
       "                                                crew genres_list       actor1  \\\n",
       "0  [{'credit_id': '52fe4c9cc3a36847f8236a65', 'de...   Adventure  Johnny Depp   \n",
       "1  [{'credit_id': '55ef66dbc3a3686f1700a52d', 'de...      Action  Ben Affleck   \n",
       "\n",
       "          actor2         actor3                        director  \n",
       "0  Javier Bardem  Geoffrey Rush  Joachim Rønning Espen Sandberg  \n",
       "1   Henry Cavill      Gal Gadot                     Zack Snyder  "
      ]
     },
     "execution_count": 45,
     "metadata": {},
     "output_type": "execute_result"
    }
   ],
   "source": [
    "data.head(2)"
   ]
  },
  {
   "cell_type": "code",
   "execution_count": 46,
   "metadata": {},
   "outputs": [],
   "source": [
    "final_df = data.loc[:,['original_title', 'genres_list', 'actor1','actor2','actor3','director']]"
   ]
  },
  {
   "cell_type": "code",
   "execution_count": 47,
   "metadata": {},
   "outputs": [
    {
     "data": {
      "text/html": [
       "<div>\n",
       "<style scoped>\n",
       "    .dataframe tbody tr th:only-of-type {\n",
       "        vertical-align: middle;\n",
       "    }\n",
       "\n",
       "    .dataframe tbody tr th {\n",
       "        vertical-align: top;\n",
       "    }\n",
       "\n",
       "    .dataframe thead th {\n",
       "        text-align: right;\n",
       "    }\n",
       "</style>\n",
       "<table border=\"1\" class=\"dataframe\">\n",
       "  <thead>\n",
       "    <tr style=\"text-align: right;\">\n",
       "      <th></th>\n",
       "      <th>original_title</th>\n",
       "      <th>genres_list</th>\n",
       "      <th>actor1</th>\n",
       "      <th>actor2</th>\n",
       "      <th>actor3</th>\n",
       "      <th>director</th>\n",
       "    </tr>\n",
       "  </thead>\n",
       "  <tbody>\n",
       "    <tr>\n",
       "      <th>0</th>\n",
       "      <td>Pirates of the Caribbean: Dead Men Tell No Tales</td>\n",
       "      <td>Adventure</td>\n",
       "      <td>Johnny Depp</td>\n",
       "      <td>Javier Bardem</td>\n",
       "      <td>Geoffrey Rush</td>\n",
       "      <td>Joachim Rønning Espen Sandberg</td>\n",
       "    </tr>\n",
       "    <tr>\n",
       "      <th>1</th>\n",
       "      <td>Justice League</td>\n",
       "      <td>Action</td>\n",
       "      <td>Ben Affleck</td>\n",
       "      <td>Henry Cavill</td>\n",
       "      <td>Gal Gadot</td>\n",
       "      <td>Zack Snyder</td>\n",
       "    </tr>\n",
       "    <tr>\n",
       "      <th>2</th>\n",
       "      <td>Thor: Ragnarok</td>\n",
       "      <td>Action</td>\n",
       "      <td>Chris Hemsworth</td>\n",
       "      <td>Tom Hiddleston</td>\n",
       "      <td>Cate Blanchett</td>\n",
       "      <td>Taika Waititi</td>\n",
       "    </tr>\n",
       "    <tr>\n",
       "      <th>3</th>\n",
       "      <td>Guardians of the Galaxy Vol. 2</td>\n",
       "      <td>Action</td>\n",
       "      <td>Chris Pratt</td>\n",
       "      <td>Zoe Saldana</td>\n",
       "      <td>Dave Bautista</td>\n",
       "      <td>James Gunn</td>\n",
       "    </tr>\n",
       "    <tr>\n",
       "      <th>4</th>\n",
       "      <td>The King's Daughter</td>\n",
       "      <td>Fantasy</td>\n",
       "      <td>Pierce Brosnan</td>\n",
       "      <td>William Hurt</td>\n",
       "      <td>Benjamin Walker</td>\n",
       "      <td>Sean McNamara</td>\n",
       "    </tr>\n",
       "  </tbody>\n",
       "</table>\n",
       "</div>"
      ],
      "text/plain": [
       "                                     original_title genres_list  \\\n",
       "0  Pirates of the Caribbean: Dead Men Tell No Tales   Adventure   \n",
       "1                                    Justice League      Action   \n",
       "2                                    Thor: Ragnarok      Action   \n",
       "3                    Guardians of the Galaxy Vol. 2      Action   \n",
       "4                               The King's Daughter     Fantasy   \n",
       "\n",
       "            actor1          actor2           actor3  \\\n",
       "0      Johnny Depp   Javier Bardem    Geoffrey Rush   \n",
       "1      Ben Affleck    Henry Cavill        Gal Gadot   \n",
       "2  Chris Hemsworth  Tom Hiddleston   Cate Blanchett   \n",
       "3      Chris Pratt     Zoe Saldana    Dave Bautista   \n",
       "4   Pierce Brosnan    William Hurt  Benjamin Walker   \n",
       "\n",
       "                         director  \n",
       "0  Joachim Rønning Espen Sandberg  \n",
       "1                     Zack Snyder  \n",
       "2                   Taika Waititi  \n",
       "3                      James Gunn  \n",
       "4                   Sean McNamara  "
      ]
     },
     "execution_count": 47,
     "metadata": {},
     "output_type": "execute_result"
    }
   ],
   "source": [
    "final_df.head()"
   ]
  },
  {
   "cell_type": "markdown",
   "metadata": {},
   "source": [
    "## Deling with NaN values"
   ]
  },
  {
   "cell_type": "code",
   "execution_count": 48,
   "metadata": {},
   "outputs": [
    {
     "data": {
      "text/plain": [
       "original_title     0\n",
       "genres_list        4\n",
       "actor1            58\n",
       "actor2            58\n",
       "actor3            58\n",
       "director           2\n",
       "dtype: int64"
      ]
     },
     "execution_count": 48,
     "metadata": {},
     "output_type": "execute_result"
    }
   ],
   "source": [
    "final_df.isna().sum()"
   ]
  },
  {
   "cell_type": "code",
   "execution_count": 49,
   "metadata": {},
   "outputs": [],
   "source": [
    "final_df = final_df[final_df['genres_list'].notna()]"
   ]
  },
  {
   "cell_type": "code",
   "execution_count": 50,
   "metadata": {},
   "outputs": [
    {
     "data": {
      "text/plain": [
       "original_title     0\n",
       "genres_list        0\n",
       "actor1            55\n",
       "actor2            55\n",
       "actor3            55\n",
       "director           1\n",
       "dtype: int64"
      ]
     },
     "execution_count": 50,
     "metadata": {},
     "output_type": "execute_result"
    }
   ],
   "source": [
    "final_df.isna().sum()"
   ]
  },
  {
   "cell_type": "code",
   "execution_count": 51,
   "metadata": {},
   "outputs": [],
   "source": [
    "final_df.fillna('', inplace=True)"
   ]
  },
  {
   "cell_type": "code",
   "execution_count": 52,
   "metadata": {},
   "outputs": [
    {
     "data": {
      "text/plain": [
       "original_title    0\n",
       "genres_list       0\n",
       "actor1            0\n",
       "actor2            0\n",
       "actor3            0\n",
       "director          0\n",
       "dtype: int64"
      ]
     },
     "execution_count": 52,
     "metadata": {},
     "output_type": "execute_result"
    }
   ],
   "source": [
    "final_df.isna().sum()"
   ]
  },
  {
   "cell_type": "code",
   "execution_count": 53,
   "metadata": {},
   "outputs": [
    {
     "data": {
      "text/html": [
       "<div>\n",
       "<style scoped>\n",
       "    .dataframe tbody tr th:only-of-type {\n",
       "        vertical-align: middle;\n",
       "    }\n",
       "\n",
       "    .dataframe tbody tr th {\n",
       "        vertical-align: top;\n",
       "    }\n",
       "\n",
       "    .dataframe thead th {\n",
       "        text-align: right;\n",
       "    }\n",
       "</style>\n",
       "<table border=\"1\" class=\"dataframe\">\n",
       "  <thead>\n",
       "    <tr style=\"text-align: right;\">\n",
       "      <th></th>\n",
       "      <th>original_title</th>\n",
       "      <th>genres_list</th>\n",
       "      <th>actor1</th>\n",
       "      <th>actor2</th>\n",
       "      <th>actor3</th>\n",
       "      <th>director</th>\n",
       "    </tr>\n",
       "  </thead>\n",
       "  <tbody>\n",
       "    <tr>\n",
       "      <th>0</th>\n",
       "      <td>Pirates of the Caribbean: Dead Men Tell No Tales</td>\n",
       "      <td>Adventure</td>\n",
       "      <td>Johnny Depp</td>\n",
       "      <td>Javier Bardem</td>\n",
       "      <td>Geoffrey Rush</td>\n",
       "      <td>Joachim Rønning Espen Sandberg</td>\n",
       "    </tr>\n",
       "    <tr>\n",
       "      <th>1</th>\n",
       "      <td>Justice League</td>\n",
       "      <td>Action</td>\n",
       "      <td>Ben Affleck</td>\n",
       "      <td>Henry Cavill</td>\n",
       "      <td>Gal Gadot</td>\n",
       "      <td>Zack Snyder</td>\n",
       "    </tr>\n",
       "    <tr>\n",
       "      <th>2</th>\n",
       "      <td>Thor: Ragnarok</td>\n",
       "      <td>Action</td>\n",
       "      <td>Chris Hemsworth</td>\n",
       "      <td>Tom Hiddleston</td>\n",
       "      <td>Cate Blanchett</td>\n",
       "      <td>Taika Waititi</td>\n",
       "    </tr>\n",
       "    <tr>\n",
       "      <th>3</th>\n",
       "      <td>Guardians of the Galaxy Vol. 2</td>\n",
       "      <td>Action</td>\n",
       "      <td>Chris Pratt</td>\n",
       "      <td>Zoe Saldana</td>\n",
       "      <td>Dave Bautista</td>\n",
       "      <td>James Gunn</td>\n",
       "    </tr>\n",
       "    <tr>\n",
       "      <th>4</th>\n",
       "      <td>The King's Daughter</td>\n",
       "      <td>Fantasy</td>\n",
       "      <td>Pierce Brosnan</td>\n",
       "      <td>William Hurt</td>\n",
       "      <td>Benjamin Walker</td>\n",
       "      <td>Sean McNamara</td>\n",
       "    </tr>\n",
       "  </tbody>\n",
       "</table>\n",
       "</div>"
      ],
      "text/plain": [
       "                                     original_title genres_list  \\\n",
       "0  Pirates of the Caribbean: Dead Men Tell No Tales   Adventure   \n",
       "1                                    Justice League      Action   \n",
       "2                                    Thor: Ragnarok      Action   \n",
       "3                    Guardians of the Galaxy Vol. 2      Action   \n",
       "4                               The King's Daughter     Fantasy   \n",
       "\n",
       "            actor1          actor2           actor3  \\\n",
       "0      Johnny Depp   Javier Bardem    Geoffrey Rush   \n",
       "1      Ben Affleck    Henry Cavill        Gal Gadot   \n",
       "2  Chris Hemsworth  Tom Hiddleston   Cate Blanchett   \n",
       "3      Chris Pratt     Zoe Saldana    Dave Bautista   \n",
       "4   Pierce Brosnan    William Hurt  Benjamin Walker   \n",
       "\n",
       "                         director  \n",
       "0  Joachim Rønning Espen Sandberg  \n",
       "1                     Zack Snyder  \n",
       "2                   Taika Waititi  \n",
       "3                      James Gunn  \n",
       "4                   Sean McNamara  "
      ]
     },
     "execution_count": 53,
     "metadata": {},
     "output_type": "execute_result"
    }
   ],
   "source": [
    "final_df.head()\n",
    "# print(final_df.shape)"
   ]
  },
  {
   "cell_type": "code",
   "execution_count": 54,
   "metadata": {},
   "outputs": [],
   "source": [
    "final_df = final_df.rename(columns={'original_title': 'title'})\n",
    "final_df = final_df.rename(columns={'genres_list': 'genres'})"
   ]
  },
  {
   "cell_type": "code",
   "execution_count": 55,
   "metadata": {},
   "outputs": [],
   "source": [
    "final_df['title'] = final_df['title'].str.lower()"
   ]
  },
  {
   "cell_type": "code",
   "execution_count": 56,
   "metadata": {},
   "outputs": [
    {
     "data": {
      "text/html": [
       "<div>\n",
       "<style scoped>\n",
       "    .dataframe tbody tr th:only-of-type {\n",
       "        vertical-align: middle;\n",
       "    }\n",
       "\n",
       "    .dataframe tbody tr th {\n",
       "        vertical-align: top;\n",
       "    }\n",
       "\n",
       "    .dataframe thead th {\n",
       "        text-align: right;\n",
       "    }\n",
       "</style>\n",
       "<table border=\"1\" class=\"dataframe\">\n",
       "  <thead>\n",
       "    <tr style=\"text-align: right;\">\n",
       "      <th></th>\n",
       "      <th>title</th>\n",
       "      <th>genres</th>\n",
       "      <th>actor1</th>\n",
       "      <th>actor2</th>\n",
       "      <th>actor3</th>\n",
       "      <th>director</th>\n",
       "    </tr>\n",
       "  </thead>\n",
       "  <tbody>\n",
       "    <tr>\n",
       "      <th>0</th>\n",
       "      <td>pirates of the caribbean: dead men tell no tales</td>\n",
       "      <td>Adventure</td>\n",
       "      <td>Johnny Depp</td>\n",
       "      <td>Javier Bardem</td>\n",
       "      <td>Geoffrey Rush</td>\n",
       "      <td>Joachim Rønning Espen Sandberg</td>\n",
       "    </tr>\n",
       "  </tbody>\n",
       "</table>\n",
       "</div>"
      ],
      "text/plain": [
       "                                              title     genres       actor1  \\\n",
       "0  pirates of the caribbean: dead men tell no tales  Adventure  Johnny Depp   \n",
       "\n",
       "          actor2         actor3                        director  \n",
       "0  Javier Bardem  Geoffrey Rush  Joachim Rønning Espen Sandberg  "
      ]
     },
     "execution_count": 56,
     "metadata": {},
     "output_type": "execute_result"
    }
   ],
   "source": [
    "final_df.head(1)"
   ]
  },
  {
   "cell_type": "code",
   "execution_count": 57,
   "metadata": {},
   "outputs": [],
   "source": [
    "final_df['comb'] = final_df['actor1'] + ' ' + final_df['actor2'] + ' ' + final_df['actor3'] + ' ' +final_df['director'] + ' ' +final_df['genres']"
   ]
  },
  {
   "cell_type": "code",
   "execution_count": 58,
   "metadata": {},
   "outputs": [
    {
     "data": {
      "text/html": [
       "<div>\n",
       "<style scoped>\n",
       "    .dataframe tbody tr th:only-of-type {\n",
       "        vertical-align: middle;\n",
       "    }\n",
       "\n",
       "    .dataframe tbody tr th {\n",
       "        vertical-align: top;\n",
       "    }\n",
       "\n",
       "    .dataframe thead th {\n",
       "        text-align: right;\n",
       "    }\n",
       "</style>\n",
       "<table border=\"1\" class=\"dataframe\">\n",
       "  <thead>\n",
       "    <tr style=\"text-align: right;\">\n",
       "      <th></th>\n",
       "      <th>title</th>\n",
       "      <th>genres</th>\n",
       "      <th>actor1</th>\n",
       "      <th>actor2</th>\n",
       "      <th>actor3</th>\n",
       "      <th>director</th>\n",
       "      <th>comb</th>\n",
       "    </tr>\n",
       "  </thead>\n",
       "  <tbody>\n",
       "    <tr>\n",
       "      <th>0</th>\n",
       "      <td>pirates of the caribbean: dead men tell no tales</td>\n",
       "      <td>Adventure</td>\n",
       "      <td>Johnny Depp</td>\n",
       "      <td>Javier Bardem</td>\n",
       "      <td>Geoffrey Rush</td>\n",
       "      <td>Joachim Rønning Espen Sandberg</td>\n",
       "      <td>Johnny Depp Javier Bardem Geoffrey Rush Joachi...</td>\n",
       "    </tr>\n",
       "    <tr>\n",
       "      <th>1</th>\n",
       "      <td>justice league</td>\n",
       "      <td>Action</td>\n",
       "      <td>Ben Affleck</td>\n",
       "      <td>Henry Cavill</td>\n",
       "      <td>Gal Gadot</td>\n",
       "      <td>Zack Snyder</td>\n",
       "      <td>Ben Affleck Henry Cavill Gal Gadot Zack Snyder...</td>\n",
       "    </tr>\n",
       "    <tr>\n",
       "      <th>2</th>\n",
       "      <td>thor: ragnarok</td>\n",
       "      <td>Action</td>\n",
       "      <td>Chris Hemsworth</td>\n",
       "      <td>Tom Hiddleston</td>\n",
       "      <td>Cate Blanchett</td>\n",
       "      <td>Taika Waititi</td>\n",
       "      <td>Chris Hemsworth Tom Hiddleston Cate Blanchett ...</td>\n",
       "    </tr>\n",
       "    <tr>\n",
       "      <th>3</th>\n",
       "      <td>guardians of the galaxy vol. 2</td>\n",
       "      <td>Action</td>\n",
       "      <td>Chris Pratt</td>\n",
       "      <td>Zoe Saldana</td>\n",
       "      <td>Dave Bautista</td>\n",
       "      <td>James Gunn</td>\n",
       "      <td>Chris Pratt Zoe Saldana Dave Bautista James Gu...</td>\n",
       "    </tr>\n",
       "    <tr>\n",
       "      <th>4</th>\n",
       "      <td>the king's daughter</td>\n",
       "      <td>Fantasy</td>\n",
       "      <td>Pierce Brosnan</td>\n",
       "      <td>William Hurt</td>\n",
       "      <td>Benjamin Walker</td>\n",
       "      <td>Sean McNamara</td>\n",
       "      <td>Pierce Brosnan William Hurt Benjamin Walker Se...</td>\n",
       "    </tr>\n",
       "  </tbody>\n",
       "</table>\n",
       "</div>"
      ],
      "text/plain": [
       "                                              title     genres  \\\n",
       "0  pirates of the caribbean: dead men tell no tales  Adventure   \n",
       "1                                    justice league     Action   \n",
       "2                                    thor: ragnarok     Action   \n",
       "3                    guardians of the galaxy vol. 2     Action   \n",
       "4                               the king's daughter    Fantasy   \n",
       "\n",
       "            actor1          actor2           actor3  \\\n",
       "0      Johnny Depp   Javier Bardem    Geoffrey Rush   \n",
       "1      Ben Affleck    Henry Cavill        Gal Gadot   \n",
       "2  Chris Hemsworth  Tom Hiddleston   Cate Blanchett   \n",
       "3      Chris Pratt     Zoe Saldana    Dave Bautista   \n",
       "4   Pierce Brosnan    William Hurt  Benjamin Walker   \n",
       "\n",
       "                         director  \\\n",
       "0  Joachim Rønning Espen Sandberg   \n",
       "1                     Zack Snyder   \n",
       "2                   Taika Waititi   \n",
       "3                      James Gunn   \n",
       "4                   Sean McNamara   \n",
       "\n",
       "                                                comb  \n",
       "0  Johnny Depp Javier Bardem Geoffrey Rush Joachi...  \n",
       "1  Ben Affleck Henry Cavill Gal Gadot Zack Snyder...  \n",
       "2  Chris Hemsworth Tom Hiddleston Cate Blanchett ...  \n",
       "3  Chris Pratt Zoe Saldana Dave Bautista James Gu...  \n",
       "4  Pierce Brosnan William Hurt Benjamin Walker Se...  "
      ]
     },
     "execution_count": 58,
     "metadata": {},
     "output_type": "execute_result"
    }
   ],
   "source": [
    "final_df.head()"
   ]
  },
  {
   "cell_type": "code",
   "execution_count": 59,
   "metadata": {},
   "outputs": [],
   "source": [
    "# df = pd.read_csv('cleaned_data.csv')"
   ]
  },
  {
   "cell_type": "code",
   "execution_count": 60,
   "metadata": {},
   "outputs": [],
   "source": [
    "# final = df.append(final_df)"
   ]
  },
  {
   "cell_type": "code",
   "execution_count": 61,
   "metadata": {},
   "outputs": [],
   "source": [
    "# final.isnull().sum()"
   ]
  },
  {
   "cell_type": "code",
   "execution_count": 62,
   "metadata": {},
   "outputs": [],
   "source": [
    "# final = final.dropna()"
   ]
  },
  {
   "cell_type": "markdown",
   "metadata": {},
   "source": [
    "### Handle Duplicates"
   ]
  },
  {
   "cell_type": "code",
   "execution_count": 63,
   "metadata": {},
   "outputs": [],
   "source": [
    "# final.drop_duplicates(subset = \"title\", keep=\"last\", inplace=True)"
   ]
  },
  {
   "cell_type": "code",
   "execution_count": 64,
   "metadata": {},
   "outputs": [],
   "source": [
    "# final.shape"
   ]
  },
  {
   "cell_type": "code",
   "execution_count": 66,
   "metadata": {},
   "outputs": [],
   "source": [
    "final_df.to_csv(\"cleaned_data2.csv\", index=False)"
   ]
  }
 ],
 "metadata": {
  "kernelspec": {
   "display_name": "Python 3",
   "language": "python",
   "name": "python3"
  },
  "language_info": {
   "codemirror_mode": {
    "name": "ipython",
    "version": 3
   },
   "file_extension": ".py",
   "mimetype": "text/x-python",
   "name": "python",
   "nbconvert_exporter": "python",
   "pygments_lexer": "ipython3",
   "version": "3.8.5"
  }
 },
 "nbformat": 4,
 "nbformat_minor": 4
}
