{
 "cells": [
  {
   "cell_type": "code",
   "execution_count": null,
   "metadata": {},
   "outputs": [],
   "source": [
    "from numpy import mean\n",
    "from numpy import std\n",
    "from sklearn.datasets import make_classification\n",
    "from sklearn.model_selection import cross_val_score\n",
    "from sklearn.model_selection import RepeatedStratifiedKFold\n",
    "from sklearn.linear_model import LogisticRegression\n",
    "from sklearn.discriminant_analysis import LinearDiscriminantAnalysis\n",
    "from matplotlib import pyplot\n",
    "# define dataset\n",
    "X, y = make_classification(n_samples=1000, n_features=10, n_informative=10, n_redundant=0, random_state=1)\n",
    "# evaluate model 1\n",
    "model1 = LogisticRegression()\n",
    "cv1 = RepeatedStratifiedKFold(n_splits=10, n_repeats=3, random_state=1)\n",
    "scores1 = cross_val_score(model1, X, y, scoring='accuracy', cv=cv1, n_jobs=-1)\n",
    "print('LogisticRegression Mean Accuracy: %.3f (%.3f)' % (mean(scores1), std(scores1)))\n",
    "# evaluate model 2\n",
    "model2 = LinearDiscriminantAnalysis()\n",
    "cv2 = RepeatedStratifiedKFold(n_splits=10, n_repeats=3, random_state=1)\n",
    "scores2 = cross_val_score(model2, X, y, scoring='accuracy', cv=cv2, n_jobs=-1)\n",
    "print('LinearDiscriminantAnalysis Mean Accuracy: %.3f (%.3f)' % (mean(scores2), std(scores2)))\n",
    "# plot the results\n",
    "pyplot.boxplot([scores1, scores2], labels=['LR', 'LDA'], showmeans=True)\n",
    "pyplot.show()"
   ]
  }
 ],
 "metadata": {
  "language_info": {
   "name": "python"
  },
  "orig_nbformat": 4
 },
 "nbformat": 4,
 "nbformat_minor": 2
}
